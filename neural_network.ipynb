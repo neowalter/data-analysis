{
  "nbformat": 4,
  "nbformat_minor": 0,
  "metadata": {
    "colab": {
      "name": "neural network.ipynb",
      "provenance": [],
      "collapsed_sections": [],
      "authorship_tag": "ABX9TyNlrK3C8jjLPx9m3Ne3Zrtd"
    },
    "kernelspec": {
      "name": "python3",
      "display_name": "Python 3"
    }
  },
  "cells": [
    {
      "cell_type": "code",
      "metadata": {
        "id": "mtuYxe7oy3EF",
        "colab_type": "code",
        "colab": {}
      },
      "source": [
        "import numpy as np \n",
        "from PIL import Image, ImageDraw, ImageFont \n",
        "from skimage import transform as tf"
      ],
      "execution_count": 0,
      "outputs": []
    },
    {
      "cell_type": "code",
      "metadata": {
        "id": "z6DdKmUJ1B5o",
        "colab_type": "code",
        "colab": {}
      },
      "source": [
        "def create_captcha(text, shear=0, size=(100, 30), scale=1):\n",
        "    im = Image.new(\"L\", size, \"black\")\n",
        "    draw = ImageDraw.Draw(im)\n",
        "    font = ImageFont.truetype(r\"Coval-Black.otf\", 22) \n",
        "    draw.text((0, 0), text, fill=1, font=font)\n",
        "    image = np.array(im)\n",
        "    affine_tf = tf.AffineTransform(shear=shear)\n",
        "    image = tf.warp(image, affine_tf)\n",
        "    image = image / image.max()\n",
        "    shape = image.shape\n",
        "    # Apply scale\n",
        "    shapex, shapey = (shape[0] * scale, shape[1] * scale)\n",
        "    image = tf.resize(image, (shapex, shapey))\n",
        "    return image"
      ],
      "execution_count": 0,
      "outputs": []
    },
    {
      "cell_type": "code",
      "metadata": {
        "id": "j4IHU1PV1bL7",
        "colab_type": "code",
        "outputId": "850a311b-dfd3-4f01-e11f-4e3c26e1daef",
        "colab": {
          "base_uri": "https://localhost:8080/",
          "height": 167
        }
      },
      "source": [
        "%matplotlib inline\n",
        "from matplotlib import pyplot as plt\n",
        "image = create_captcha(\"GENE\", shear=0.5, scale=0.6)\n",
        "plt.imshow(image, cmap='Greys')"
      ],
      "execution_count": 0,
      "outputs": [
        {
          "output_type": "execute_result",
          "data": {
            "text/plain": [
              "<matplotlib.image.AxesImage at 0x7fc1639af278>"
            ]
          },
          "metadata": {
            "tags": []
          },
          "execution_count": 6
        },
        {
          "output_type": "display_data",
          "data": {
            "image/png": "[encoded data removed]",
            "text/plain": [
              "<Figure size 432x288 with 1 Axes>"
            ]
          },
          "metadata": {
            "tags": []
          }
        }
      ]
    },
    {
      "cell_type": "code",
      "metadata": {
        "id": "zt3pLC-42AWR",
        "colab_type": "code",
        "outputId": "6fc26c09-56a2-439d-b981-b9053c601c7b",
        "colab": {
          "base_uri": "https://localhost:8080/",
          "height": 168
        }
      },
      "source": [
        "image = create_captcha(\"SEND\", shear=0.1, scale=1.0)\n",
        "plt.imshow(image, cmap='Greys')"
      ],
      "execution_count": 0,
      "outputs": [
        {
          "output_type": "execute_result",
          "data": {
            "text/plain": [
              "<matplotlib.image.AxesImage at 0x7fc163432c18>"
            ]
          },
          "metadata": {
            "tags": []
          },
          "execution_count": 8
        },
        {
          "output_type": "display_data",
          "data": {
            "image/png": "[encoded data removed]",
            "text/plain": [
              "<Figure size 432x288 with 1 Axes>"
            ]
          },
          "metadata": {
            "tags": []
          }
        }
      ]
    },
    {
      "cell_type": "code",
      "metadata": {
        "id": "-splVUQ-3zUT",
        "colab_type": "code",
        "outputId": "a62d94b9-3544-4ff8-fa4c-45c9d3be4e21",
        "colab": {
          "base_uri": "https://localhost:8080/",
          "height": 168
        }
      },
      "source": [
        "image = create_captcha(\"BARK\", shear=0.8, scale=1.0)\n",
        "plt.imshow(image, cmap='Greys')"
      ],
      "execution_count": 0,
      "outputs": [
        {
          "output_type": "execute_result",
          "data": {
            "text/plain": [
              "<matplotlib.image.AxesImage at 0x7fc16340be80>"
            ]
          },
          "metadata": {
            "tags": []
          },
          "execution_count": 9
        },
        {
          "output_type": "display_data",
          "data": {
            "image/png": "[encoded data removed]",
            "text/plain": [
              "<Figure size 432x288 with 1 Axes>"
            ]
          },
          "metadata": {
            "tags": []
          }
        }
      ]
    },
    {
      "cell_type": "code",
      "metadata": {
        "id": "dUDahM5834fk",
        "colab_type": "code",
        "outputId": "b7d1f03e-a56e-483f-e444-d94a6d8877aa",
        "colab": {
          "base_uri": "https://localhost:8080/",
          "height": 168
        }
      },
      "source": [
        "image = create_captcha(\"WOOF\", shear=0.25, scale=1.5)\n",
        "plt.imshow(image, cmap='Greys')"
      ],
      "execution_count": 0,
      "outputs": [
        {
          "output_type": "execute_result",
          "data": {
            "text/plain": [
              "<matplotlib.image.AxesImage at 0x7fc1633dfeb8>"
            ]
          },
          "metadata": {
            "tags": []
          },
          "execution_count": 10
        },
        {
          "output_type": "display_data",
          "data": {
            "image/png": "[encoded data removed]",
            "text/plain": [
              "<Figure size 432x288 with 1 Axes>"
            ]
          },
          "metadata": {
            "tags": []
          }
        }
      ]
    },
    {
      "cell_type": "code",
      "metadata": {
        "id": "VFpg6jZc38d5",
        "colab_type": "code",
        "outputId": "c3fec15f-f6f8-4b2a-a7c6-226343552e6b",
        "colab": {
          "base_uri": "https://localhost:8080/",
          "height": 201
        }
      },
      "source": [
        "plt.figure(figsize=(8, 4))\n",
        "image = create_captcha(\"BONE\", shear=0.1, scale=1.0)\n",
        "plt.imshow(image, cmap='Greys')\n",
        "#plt.savefig(\"/home/robert/data/Dropbox/Books/LearningDataMiningRevision/Chapter 8/Graphics/B06162_08_12.png\")"
      ],
      "execution_count": 0,
      "outputs": [
        {
          "output_type": "execute_result",
          "data": {
            "text/plain": [
              "<matplotlib.image.AxesImage at 0x7fc163307f98>"
            ]
          },
          "metadata": {
            "tags": []
          },
          "execution_count": 11
        },
        {
          "output_type": "display_data",
          "data": {
            "image/png": "[encoded data removed]",
            "text/plain": [
              "<Figure size 576x288 with 1 Axes>"
            ]
          },
          "metadata": {
            "tags": []
          }
        }
      ]
    },
    {
      "cell_type": "code",
      "metadata": {
        "id": "ra5kGvYX6g3C",
        "colab_type": "code",
        "colab": {}
      },
      "source": [
        "from skimage.measure import label, regionprops\n",
        "\n",
        "from skimage.measure import label, regionprops\n",
        "from skimage.filters import threshold_otsu\n",
        "from skimage.morphology import closing, square"
      ],
      "execution_count": 0,
      "outputs": []
    },
    {
      "cell_type": "code",
      "metadata": {
        "id": "NhQod7c06lQj",
        "colab_type": "code",
        "colab": {}
      },
      "source": [
        "def segment_image(image):\n",
        "    # label will find subimages of connected non-black pixels\n",
        "    labeled_image = label(image>0.2, connectivity=1, background=0)\n",
        "    subimages = []\n",
        "    # regionprops splits up the subimages\n",
        "    for region in regionprops(labeled_image):\n",
        "        # Extract the subimage\n",
        "        start_x, start_y, end_x, end_y = region.bbox\n",
        "        subimages.append(image[start_x:end_x,start_y:end_y])\n",
        "    if len(subimages) == 0:\n",
        "        # No subimages found, so return the entire image\n",
        "        return [image,]\n",
        "    return subimages"
      ],
      "execution_count": 0,
      "outputs": []
    },
    {
      "cell_type": "code",
      "metadata": {
        "id": "0xcJNnNg6yyL",
        "colab_type": "code",
        "colab": {}
      },
      "source": [
        "subimages = segment_image(image)"
      ],
      "execution_count": 0,
      "outputs": []
    },
    {
      "cell_type": "code",
      "metadata": {
        "id": "Gustdl8l619-",
        "colab_type": "code",
        "outputId": "8efd910c-e10e-4802-95cd-a7c7710978f9",
        "colab": {
          "base_uri": "https://localhost:8080/",
          "height": 34
        }
      },
      "source": [
        "len(subimages)"
      ],
      "execution_count": 0,
      "outputs": [
        {
          "output_type": "execute_result",
          "data": {
            "text/plain": [
              "4"
            ]
          },
          "metadata": {
            "tags": []
          },
          "execution_count": 15
        }
      ]
    },
    {
      "cell_type": "code",
      "metadata": {
        "id": "gi7CatKy671R",
        "colab_type": "code",
        "outputId": "2bbae760-d541-4b31-862e-a7248cad0db7",
        "colab": {
          "base_uri": "https://localhost:8080/",
          "height": 188
        }
      },
      "source": [
        "f, axes = plt.subplots(1, len(subimages), figsize=(10, 3)) \n",
        "for i in range(len(subimages)): \n",
        "    axes[i].imshow(subimages[i], cmap=\"gray\")"
      ],
      "execution_count": 0,
      "outputs": [
        {
          "output_type": "display_data",
          "data": {
            "image/png": "[encoded data removed]",
            "text/plain": [
              "<Figure size 720x216 with 4 Axes>"
            ]
          },
          "metadata": {
            "tags": []
          }
        }
      ]
    },
    {
      "cell_type": "code",
      "metadata": {
        "id": "IIo16Ne67LUJ",
        "colab_type": "code",
        "colab": {}
      },
      "source": [
        "plt.subplots?"
      ],
      "execution_count": 0,
      "outputs": []
    },
    {
      "cell_type": "code",
      "metadata": {
        "id": "gPNo_a6o7aQV",
        "colab_type": "code",
        "outputId": "31179d76-548c-458b-bb1a-14fdeb359953",
        "colab": {
          "base_uri": "https://localhost:8080/",
          "height": 211
        }
      },
      "source": [
        "image = create_captcha(\"WOOF\", shear=0.25, scale=1.5)\n",
        "subimages = segment_image(image)\n",
        "f, axes = plt.subplots(1, len(subimages), figsize=(10, 3), sharey=True) \n",
        "for i in range(len(subimages)): \n",
        "    axes[i].imshow(subimages[i], cmap=\"gray\")\n",
        "#plt.savefig(\"/home/robert/data/Dropbox/Books/LearningDataMiningRevision/Chapter 8/Graphics/B06162_08_15.png\")"
      ],
      "execution_count": 0,
      "outputs": [
        {
          "output_type": "display_data",
          "data": {
            "image/png": "[encoded data removed]",
            "text/plain": [
              "<Figure size 720x216 with 4 Axes>"
            ]
          },
          "metadata": {
            "tags": []
          }
        }
      ]
    },
    {
      "cell_type": "code",
      "metadata": {
        "id": "bPdBsKyv7rlj",
        "colab_type": "code",
        "outputId": "e14bea6c-f9ac-4f51-d0f4-4f1bcceeb0bb",
        "colab": {
          "base_uri": "https://localhost:8080/",
          "height": 156
        }
      },
      "source": [
        "image = create_captcha(\"BARK\", shear=0.8, scale=1.5)\n",
        "subimages = segment_image(image)\n",
        "f, axes = plt.subplots(1, len(subimages), figsize=(10, 3), sharey=True) \n",
        "for i in range(len(subimages)): \n",
        "    axes[i].imshow(subimages[i], cmap=\"gray\")\n",
        "#plt.savefig(\"/home/robert/data/Dropbox/Books/LearningDataMiningRevision/Chapter 8/Graphics/B06162_08_16.png\")"
      ],
      "execution_count": 0,
      "outputs": [
        {
          "output_type": "display_data",
          "data": {
            "image/png": "[encoded data removed]",
            "text/plain": [
              "<Figure size 720x216 with 4 Axes>"
            ]
          },
          "metadata": {
            "tags": []
          }
        }
      ]
    },
    {
      "cell_type": "code",
      "metadata": {
        "id": "1WqyUZdk7x2e",
        "colab_type": "code",
        "colab": {}
      },
      "source": [
        "from sklearn.utils import check_random_state\n",
        "random_state = check_random_state(14) \n",
        "letters = list(\"ABCDEFGHIJKLMNOPQRSTUVWXYZ\")\n",
        "assert len(letters) == 26\n",
        "shear_values = np.arange(0, 0.8, 0.05)\n",
        "scale_values = np.arange(0.9, 1.1, 0.1)"
      ],
      "execution_count": 0,
      "outputs": []
    },
    {
      "cell_type": "code",
      "metadata": {
        "id": "krZlimfT8U7F",
        "colab_type": "code",
        "colab": {}
      },
      "source": [
        "def generate_sample(random_state=None): \n",
        "    random_state = check_random_state(random_state) \n",
        "    letter = random_state.choice(letters) \n",
        "    shear = random_state.choice(shear_values)\n",
        "    scale = random_state.choice(scale_values)\n",
        "    return create_captcha(letter, shear=shear, size=(30, 30), scale=scale), letters.index(letter)"
      ],
      "execution_count": 0,
      "outputs": []
    },
    {
      "cell_type": "code",
      "metadata": {
        "id": "5SuK6bGI8bKx",
        "colab_type": "code",
        "outputId": "4ac5467c-e314-4d73-88e4-1a732a4c8480",
        "colab": {
          "base_uri": "https://localhost:8080/",
          "height": 282
        }
      },
      "source": [
        "image, target = generate_sample(random_state) \n",
        "plt.imshow(image, cmap=\"Greys\") \n",
        "print(\"The target for this image is: {0}\".format(letters[target]))\n",
        "#plt.savefig(\"/home/robert/data/Dropbox/Books/LearningDataMiningRevision/Chapter 8/Graphics/B06162_08_17.png\")"
      ],
      "execution_count": 0,
      "outputs": [
        {
          "output_type": "stream",
          "text": [
            "The target for this image is: L\n"
          ],
          "name": "stdout"
        },
        {
          "output_type": "display_data",
          "data": {
            "image/png": "[encoded data removed]",
            "text/plain": [
              "<Figure size 432x288 with 1 Axes>"
            ]
          },
          "metadata": {
            "tags": []
          }
        }
      ]
    },
    {
      "cell_type": "code",
      "metadata": {
        "id": "7DtyunXo8mj7",
        "colab_type": "code",
        "colab": {}
      },
      "source": [
        "dataset, targets = zip(*(generate_sample(random_state) for i in range(1000)))\n",
        "dataset = np.array([tf.resize(segment_image(sample)[0], (20, 20)) for sample in dataset])\n",
        "dataset = np.array(dataset, dtype='float') \n",
        "targets = np.array(targets)"
      ],
      "execution_count": 0,
      "outputs": []
    },
    {
      "cell_type": "code",
      "metadata": {
        "id": "tAh9Jo3w9Xlo",
        "colab_type": "code",
        "colab": {}
      },
      "source": [
        "from sklearn.preprocessing import OneHotEncoder \n",
        "onehot = OneHotEncoder() \n",
        "y = onehot.fit_transform(targets.reshape(targets.shape[0],1))"
      ],
      "execution_count": 0,
      "outputs": []
    },
    {
      "cell_type": "code",
      "metadata": {
        "id": "vGegERd79lOu",
        "colab_type": "code",
        "colab": {}
      },
      "source": [
        "y = y.todense()"
      ],
      "execution_count": 0,
      "outputs": []
    },
    {
      "cell_type": "code",
      "metadata": {
        "id": "_1NBxuK19u6w",
        "colab_type": "code",
        "colab": {}
      },
      "source": [
        "X = dataset.reshape((dataset.shape[0], dataset.shape[1] * dataset.shape[2]))"
      ],
      "execution_count": 0,
      "outputs": []
    },
    {
      "cell_type": "code",
      "metadata": {
        "id": "yWtposZ69w_r",
        "colab_type": "code",
        "colab": {}
      },
      "source": [
        "from sklearn.model_selection import train_test_split \n",
        "X_train, X_test, y_train, y_test = train_test_split(X, y, train_size=0.9)"
      ],
      "execution_count": 0,
      "outputs": []
    },
    {
      "cell_type": "markdown",
      "metadata": {
        "id": "tBEcXPxl96wW",
        "colab_type": "text"
      },
      "source": [
        "# **Training and classifying**"
      ]
    },
    {
      "cell_type": "code",
      "metadata": {
        "id": "5tYNyjBj9z6c",
        "colab_type": "code",
        "colab": {}
      },
      "source": [
        "from sklearn.neural_network import MLPClassifier"
      ],
      "execution_count": 0,
      "outputs": []
    },
    {
      "cell_type": "code",
      "metadata": {
        "id": "C_f3R5c4-UEP",
        "colab_type": "code",
        "colab": {}
      },
      "source": [
        "clf = MLPClassifier(hidden_layer_sizes=(100,), random_state=14)"
      ],
      "execution_count": 0,
      "outputs": []
    },
    {
      "cell_type": "code",
      "metadata": {
        "id": "6kYyQbEF_sVC",
        "colab_type": "code",
        "outputId": "e1379e9d-6a51-4fbb-8354-ca2b03638933",
        "colab": {
          "base_uri": "https://localhost:8080/",
          "height": 408
        }
      },
      "source": [
        "clf.get_params()"
      ],
      "execution_count": 0,
      "outputs": [
        {
          "output_type": "execute_result",
          "data": {
            "text/plain": [
              "{'activation': 'relu',\n",
              " 'alpha': 0.0001,\n",
              " 'batch_size': 'auto',\n",
              " 'beta_1': 0.9,\n",
              " 'beta_2': 0.999,\n",
              " 'early_stopping': False,\n",
              " 'epsilon': 1e-08,\n",
              " 'hidden_layer_sizes': (100,),\n",
              " 'learning_rate': 'constant',\n",
              " 'learning_rate_init': 0.001,\n",
              " 'max_fun': 15000,\n",
              " 'max_iter': 200,\n",
              " 'momentum': 0.9,\n",
              " 'n_iter_no_change': 10,\n",
              " 'nesterovs_momentum': True,\n",
              " 'power_t': 0.5,\n",
              " 'random_state': 14,\n",
              " 'shuffle': True,\n",
              " 'solver': 'adam',\n",
              " 'tol': 0.0001,\n",
              " 'validation_fraction': 0.1,\n",
              " 'verbose': False,\n",
              " 'warm_start': False}"
            ]
          },
          "metadata": {
            "tags": []
          },
          "execution_count": 30
        }
      ]
    },
    {
      "cell_type": "code",
      "metadata": {
        "id": "cqM6ZuiQ_0xc",
        "colab_type": "code",
        "outputId": "1603c379-cb9f-40f9-827f-7c51ffa22f89",
        "colab": {
          "base_uri": "https://localhost:8080/",
          "height": 207
        }
      },
      "source": [
        "clf.fit(X_train, y_train)"
      ],
      "execution_count": 0,
      "outputs": [
        {
          "output_type": "stream",
          "text": [
            "/usr/local/lib/python3.6/dist-packages/sklearn/neural_network/_multilayer_perceptron.py:571: ConvergenceWarning: Stochastic Optimizer: Maximum iterations (200) reached and the optimization hasn't converged yet.\n",
            "  % self.max_iter, ConvergenceWarning)\n"
          ],
          "name": "stderr"
        },
        {
          "output_type": "execute_result",
          "data": {
            "text/plain": [
              "MLPClassifier(activation='relu', alpha=0.0001, batch_size='auto', beta_1=0.9,\n",
              "              beta_2=0.999, early_stopping=False, epsilon=1e-08,\n",
              "              hidden_layer_sizes=(100,), learning_rate='constant',\n",
              "              learning_rate_init=0.001, max_fun=15000, max_iter=200,\n",
              "              momentum=0.9, n_iter_no_change=10, nesterovs_momentum=True,\n",
              "              power_t=0.5, random_state=14, shuffle=True, solver='adam',\n",
              "              tol=0.0001, validation_fraction=0.1, verbose=False,\n",
              "              warm_start=False)"
            ]
          },
          "metadata": {
            "tags": []
          },
          "execution_count": 31
        }
      ]
    },
    {
      "cell_type": "code",
      "metadata": {
        "id": "-K_c9XHWACV7",
        "colab_type": "code",
        "outputId": "b64bd64c-3008-4e6c-ca34-95147f2c28c2",
        "colab": {
          "base_uri": "https://localhost:8080/",
          "height": 34
        }
      },
      "source": [
        "len(clf.coefs_)"
      ],
      "execution_count": 0,
      "outputs": [
        {
          "output_type": "execute_result",
          "data": {
            "text/plain": [
              "2"
            ]
          },
          "metadata": {
            "tags": []
          },
          "execution_count": 32
        }
      ]
    },
    {
      "cell_type": "code",
      "metadata": {
        "id": "m55vS8FcAc1r",
        "colab_type": "code",
        "outputId": "98e47e6c-6966-454f-d06a-0f6242725a27",
        "colab": {
          "base_uri": "https://localhost:8080/",
          "height": 34
        }
      },
      "source": [
        "clf.coefs_[0].shape"
      ],
      "execution_count": 0,
      "outputs": [
        {
          "output_type": "execute_result",
          "data": {
            "text/plain": [
              "(400, 100)"
            ]
          },
          "metadata": {
            "tags": []
          },
          "execution_count": 33
        }
      ]
    },
    {
      "cell_type": "code",
      "metadata": {
        "id": "K7dQmFv6Ahlb",
        "colab_type": "code",
        "outputId": "797b3da6-aadc-4e51-e1a4-fc41659cef20",
        "colab": {
          "base_uri": "https://localhost:8080/",
          "height": 34
        }
      },
      "source": [
        "clf.coefs_[1].shape"
      ],
      "execution_count": 0,
      "outputs": [
        {
          "output_type": "execute_result",
          "data": {
            "text/plain": [
              "(100, 26)"
            ]
          },
          "metadata": {
            "tags": []
          },
          "execution_count": 34
        }
      ]
    },
    {
      "cell_type": "code",
      "metadata": {
        "id": "7UE-gWvOAjrd",
        "colab_type": "code",
        "outputId": "651d3238-c29e-4a57-c180-a58897d6dff9",
        "colab": {
          "base_uri": "https://localhost:8080/",
          "height": 255
        }
      },
      "source": [
        "fig, axes = plt.subplots(4, 4)\n",
        "# use global min / max to ensure all weights are shown on the same scale\n",
        "vmin, vmax = clf.coefs_[0].min(), clf.coefs_[0].max()\n",
        "for coef, ax in zip(clf.coefs_[0].T, axes.ravel()):\n",
        "    ax.matshow(coef.reshape(20, 20), cmap=plt.cm.gray, vmin=.5 * vmin,\n",
        "               vmax=.5 * vmax)\n",
        "    ax.set_xticks(())\n",
        "    ax.set_yticks(())\n",
        "\n",
        "plt.show()"
      ],
      "execution_count": 0,
      "outputs": [
        {
          "output_type": "display_data",
          "data": {
            "image/png": "[encoded data removed]",
            "text/plain": [
              "<Figure size 432x288 with 16 Axes>"
            ]
          },
          "metadata": {
            "tags": []
          }
        }
      ]
    },
    {
      "cell_type": "code",
      "metadata": {
        "id": "nzEf-9l0A1Iv",
        "colab_type": "code",
        "outputId": "f90e4590-63b6-45fd-dfda-9a93b6664ae8",
        "colab": {
          "base_uri": "https://localhost:8080/",
          "height": 34
        }
      },
      "source": [
        "y_pred = clf.predict(X_test)\n",
        "\n",
        "from sklearn.metrics import f1_score\n",
        "\n",
        "f1_score(y_pred=y_pred, y_true=y_test, average='macro')"
      ],
      "execution_count": 0,
      "outputs": [
        {
          "output_type": "execute_result",
          "data": {
            "text/plain": [
              "0.9965034965034966"
            ]
          },
          "metadata": {
            "tags": []
          },
          "execution_count": 36
        }
      ]
    },
    {
      "cell_type": "code",
      "metadata": {
        "id": "wlMUiN42BAp6",
        "colab_type": "code",
        "colab": {}
      },
      "source": [
        "from sklearn.metrics import classification_report"
      ],
      "execution_count": 0,
      "outputs": []
    },
    {
      "cell_type": "code",
      "metadata": {
        "id": "Y7Jbwy-qBEHn",
        "colab_type": "code",
        "outputId": "9d2ee448-d91b-4097-b7fc-e8f0ef6aaca2",
        "colab": {
          "base_uri": "https://localhost:8080/",
          "height": 649
        }
      },
      "source": [
        "print(classification_report(y_pred=y_pred, y_true=y_test))"
      ],
      "execution_count": 0,
      "outputs": [
        {
          "output_type": "stream",
          "text": [
            "              precision    recall  f1-score   support\n",
            "\n",
            "           0       1.00      1.00      1.00         3\n",
            "           1       1.00      1.00      1.00         4\n",
            "           2       1.00      1.00      1.00         3\n",
            "           3       1.00      1.00      1.00         6\n",
            "           4       1.00      1.00      1.00         4\n",
            "           5       1.00      1.00      1.00         5\n",
            "           6       1.00      1.00      1.00         3\n",
            "           7       1.00      1.00      1.00         6\n",
            "           8       1.00      1.00      1.00         5\n",
            "           9       1.00      1.00      1.00         1\n",
            "          10       1.00      1.00      1.00         4\n",
            "          11       1.00      1.00      1.00         5\n",
            "          12       1.00      1.00      1.00         2\n",
            "          13       1.00      1.00      1.00         7\n",
            "          14       1.00      1.00      1.00         2\n",
            "          15       1.00      1.00      1.00         2\n",
            "          16       1.00      1.00      1.00         2\n",
            "          17       1.00      1.00      1.00         5\n",
            "          18       1.00      1.00      1.00         2\n",
            "          19       1.00      1.00      1.00         3\n",
            "          20       1.00      1.00      1.00         4\n",
            "          21       1.00      0.83      0.91         6\n",
            "          22       1.00      1.00      1.00         3\n",
            "          23       1.00      1.00      1.00         3\n",
            "          24       1.00      1.00      1.00         7\n",
            "          25       1.00      1.00      1.00         3\n",
            "\n",
            "   micro avg       1.00      0.99      0.99       100\n",
            "   macro avg       1.00      0.99      1.00       100\n",
            "weighted avg       1.00      0.99      0.99       100\n",
            " samples avg       0.99      0.99      0.99       100\n",
            "\n"
          ],
          "name": "stdout"
        },
        {
          "output_type": "stream",
          "text": [
            "/usr/local/lib/python3.6/dist-packages/sklearn/metrics/_classification.py:1272: UndefinedMetricWarning: Precision and F-score are ill-defined and being set to 0.0 in samples with no predicted labels. Use `zero_division` parameter to control this behavior.\n",
            "  _warn_prf(average, modifier, msg_start, len(result))\n"
          ],
          "name": "stderr"
        }
      ]
    },
    {
      "cell_type": "markdown",
      "metadata": {
        "id": "ZEZK1uEnBhU2",
        "colab_type": "text"
      },
      "source": [
        "# **Predicting words**"
      ]
    },
    {
      "cell_type": "code",
      "metadata": {
        "id": "CXsLoxe4BHVl",
        "colab_type": "code",
        "colab": {}
      },
      "source": [
        "def predict_captcha(captcha_image, neural_network):\n",
        "    subimages = segment_image(captcha_image)\n",
        "    dataset = np.array([tf.resize(subimage, (20, 20)) for subimage in subimages])\n",
        "    X_test = dataset.reshape((dataset.shape[0], dataset.shape[1] * dataset.shape[2]))\n",
        "\n",
        "    y_pred = neural_network.predict_proba(X_test)\n",
        "    predictions = np.argmax(y_pred, axis=1)\n",
        "    assert len(y_pred) == len(X_test)\n",
        "    predicted_word = str.join(\"\", [letters[prediction] for prediction in predictions])\n",
        "    return predicted_word"
      ],
      "execution_count": 0,
      "outputs": []
    },
    {
      "cell_type": "code",
      "metadata": {
        "id": "4z6F4ZpcCrFl",
        "colab_type": "code",
        "outputId": "3145b606-fb13-4c17-cfb7-827052898a88",
        "colab": {
          "base_uri": "https://localhost:8080/",
          "height": 173
        }
      },
      "source": [
        "clf.predict_proba"
      ],
      "execution_count": 0,
      "outputs": [
        {
          "output_type": "execute_result",
          "data": {
            "text/plain": [
              "<bound method MLPClassifier.predict_proba of MLPClassifier(activation='relu', alpha=0.0001, batch_size='auto', beta_1=0.9,\n",
              "              beta_2=0.999, early_stopping=False, epsilon=1e-08,\n",
              "              hidden_layer_sizes=(100,), learning_rate='constant',\n",
              "              learning_rate_init=0.001, max_fun=15000, max_iter=200,\n",
              "              momentum=0.9, n_iter_no_change=10, nesterovs_momentum=True,\n",
              "              power_t=0.5, random_state=14, shuffle=True, solver='adam',\n",
              "              tol=0.0001, validation_fraction=0.1, verbose=False,\n",
              "              warm_start=False)>"
            ]
          },
          "metadata": {
            "tags": []
          },
          "execution_count": 40
        }
      ]
    },
    {
      "cell_type": "code",
      "metadata": {
        "id": "gTTjhyX7C0fr",
        "colab_type": "code",
        "outputId": "ea0bb608-ad5e-4d90-947f-e6959187e71e",
        "colab": {
          "base_uri": "https://localhost:8080/",
          "height": 34
        }
      },
      "source": [
        "word = \"GENE\"\n",
        "captcha = create_captcha(word, shear=0.2) \n",
        "print(predict_captcha(captcha, clf))"
      ],
      "execution_count": 0,
      "outputs": [
        {
          "output_type": "stream",
          "text": [
            "GNEE\n"
          ],
          "name": "stdout"
        }
      ]
    },
    {
      "cell_type": "code",
      "metadata": {
        "id": "aPJKHlrlC6Gv",
        "colab_type": "code",
        "outputId": "49f769e1-ca63-4bc4-db0f-40fb13ce1dc7",
        "colab": {
          "base_uri": "https://localhost:8080/",
          "height": 168
        }
      },
      "source": [
        "plt.imshow(captcha, cmap=\"Greys\")"
      ],
      "execution_count": 0,
      "outputs": [
        {
          "output_type": "execute_result",
          "data": {
            "text/plain": [
              "<matplotlib.image.AxesImage at 0x7fc15deabc50>"
            ]
          },
          "metadata": {
            "tags": []
          },
          "execution_count": 42
        },
        {
          "output_type": "display_data",
          "data": {
            "image/png": "[encoded data removed]",
            "text/plain": [
              "<Figure size 432x288 with 1 Axes>"
            ]
          },
          "metadata": {
            "tags": []
          }
        }
      ]
    },
    {
      "cell_type": "code",
      "metadata": {
        "id": "we3DlofFDGmu",
        "colab_type": "code",
        "outputId": "134894c3-ee94-403b-de12-74c280b97719",
        "colab": {
          "base_uri": "https://localhost:8080/",
          "height": 170
        }
      },
      "source": [
        "subimages = segment_image(captcha)\n",
        "f, axes = plt.subplots(1, len(subimages), figsize=(10, 3)) \n",
        "for i in range(len(subimages)): \n",
        "    axes[i].imshow(tf.resize(subimages[i], (20,20)), cmap=\"gray\")"
      ],
      "execution_count": 0,
      "outputs": [
        {
          "output_type": "display_data",
          "data": {
            "image/png": "[encoded data removed]",
            "text/plain": [
              "<Figure size 720x216 with 4 Axes>"
            ]
          },
          "metadata": {
            "tags": []
          }
        }
      ]
    },
    {
      "cell_type": "code",
      "metadata": {
        "id": "JoXBqTDfDaeL",
        "colab_type": "code",
        "outputId": "70a7c4e9-871a-48d9-9814-3bcda477127f",
        "colab": {
          "base_uri": "https://localhost:8080/",
          "height": 193
        }
      },
      "source": [
        "image = create_captcha(word, shear=0.2, scale=1.1, size=(len(word) * 20, 30))\n",
        "plt.imshow(image)"
      ],
      "execution_count": 0,
      "outputs": [
        {
          "output_type": "execute_result",
          "data": {
            "text/plain": [
              "<matplotlib.image.AxesImage at 0x7fc15df0e9b0>"
            ]
          },
          "metadata": {
            "tags": []
          },
          "execution_count": 45
        },
        {
          "output_type": "display_data",
          "data": {
            "image/png": "[encoded data removed]",
            "text/plain": [
              "<Figure size 432x288 with 1 Axes>"
            ]
          },
          "metadata": {
            "tags": []
          }
        }
      ]
    },
    {
      "cell_type": "code",
      "metadata": {
        "id": "qzJpIp5IC-aX",
        "colab_type": "code",
        "colab": {}
      },
      "source": [
        "def test_prediction(word, net, shear=0.2, scale=1):\n",
        "    captcha = create_captcha(word, shear=shear, scale=scale, size=(len(word) * 25, 30))\n",
        "    prediction = predict_captcha(captcha, net) \n",
        "    return word == prediction, word, prediction"
      ],
      "execution_count": 0,
      "outputs": []
    },
    {
      "cell_type": "code",
      "metadata": {
        "id": "wJaAxnwEDb8i",
        "colab_type": "code",
        "colab": {}
      },
      "source": [
        "from nltk.corpus import words"
      ],
      "execution_count": 0,
      "outputs": []
    },
    {
      "cell_type": "code",
      "metadata": {
        "id": "8gV2XKohDmfa",
        "colab_type": "code",
        "outputId": "78c5bc06-884f-4574-cf49-e9222cef134f",
        "colab": {
          "base_uri": "https://localhost:8080/",
          "height": 68
        }
      },
      "source": [
        "import nltk\n",
        "nltk.download('words')"
      ],
      "execution_count": 0,
      "outputs": [
        {
          "output_type": "stream",
          "text": [
            "[nltk_data] Downloading package words to /root/nltk_data...\n",
            "[nltk_data]   Unzipping corpora/words.zip.\n"
          ],
          "name": "stdout"
        },
        {
          "output_type": "execute_result",
          "data": {
            "text/plain": [
              "True"
            ]
          },
          "metadata": {
            "tags": []
          },
          "execution_count": 48
        }
      ]
    },
    {
      "cell_type": "code",
      "metadata": {
        "id": "MvuwGP8dDhA4",
        "colab_type": "code",
        "colab": {}
      },
      "source": [
        "valid_words = [word.upper() for word in words.words() if len(word) == 4]"
      ],
      "execution_count": 0,
      "outputs": []
    },
    {
      "cell_type": "code",
      "metadata": {
        "id": "cyfryPzIDkUx",
        "colab_type": "code",
        "colab": {}
      },
      "source": [
        "if False:\n",
        "    correct = 0\n",
        "    incorrect = 0\n",
        "\n",
        "    for word in valid_words:\n",
        "        shear = random_state.choice(shear_values)\n",
        "        scale = random_state.choice(scale_values)\n",
        "        subimages = create_captcha(word, shear=shear, scale=scale, size=(30, len(word) * 25))"
      ],
      "execution_count": 0,
      "outputs": []
    },
    {
      "cell_type": "code",
      "metadata": {
        "id": "uV4R5Qw_ENJf",
        "colab_type": "code",
        "outputId": "35655a67-ee31-4637-9aab-2117f3d5dd2f",
        "colab": {
          "base_uri": "https://localhost:8080/",
          "height": 51
        }
      },
      "source": [
        "\n",
        "num_correct = 0 \n",
        "num_incorrect = 0 \n",
        "for word in valid_words: \n",
        "    shear = random_state.choice(shear_values)\n",
        "    scale = random_state.choice(scale_values)\n",
        "    correct, word, prediction = test_prediction(word, clf, shear=shear, scale=scale)\n",
        "    #print(correct, word, prediction)\n",
        "    if correct: \n",
        "        num_correct += 1 \n",
        "    else: \n",
        "        num_incorrect += 1\n",
        "        #if len(prediction) == len(word):\n",
        "        #    print(word, prediction)\n",
        "print(\"Number correct is {0}\".format(num_correct)) \n",
        "print(\"Number incorrect is {0}\".format(num_incorrect))"
      ],
      "execution_count": 0,
      "outputs": [
        {
          "output_type": "stream",
          "text": [
            "Number correct is 2573\n",
            "Number incorrect is 2940\n"
          ],
          "name": "stdout"
        }
      ]
    },
    {
      "cell_type": "code",
      "metadata": {
        "id": "Y1y6DVzYETev",
        "colab_type": "code",
        "outputId": "73dadf3a-5324-4175-8375-ffcf33d549b3",
        "colab": {
          "base_uri": "https://localhost:8080/",
          "height": 34
        }
      },
      "source": [
        "p = num_correct/(num_correct+num_incorrect)\n",
        "p"
      ],
      "execution_count": 0,
      "outputs": [
        {
          "output_type": "execute_result",
          "data": {
            "text/plain": [
              "0.46671503718483587"
            ]
          },
          "metadata": {
            "tags": []
          },
          "execution_count": 52
        }
      ]
    },
    {
      "cell_type": "code",
      "metadata": {
        "id": "XBvF6AnWEtaM",
        "colab_type": "code",
        "colab": {}
      },
      "source": [
        "def evaluation_versus_shear(shear_value):\n",
        "    print(shear_value)\n",
        "    num_correct = 0 \n",
        "    num_incorrect = 0 \n",
        "    for word in valid_words: \n",
        "        scale = random_state.choice(scale_values)\n",
        "        correct, word, prediction = test_prediction(word, clf, shear=shear_value, scale=scale)\n",
        "        #print(correct, word, prediction)\n",
        "        if correct: \n",
        "            num_correct += 1 \n",
        "        else: \n",
        "            num_incorrect += 1\n",
        "    return num_correct/(num_correct+num_incorrect)"
      ],
      "execution_count": 0,
      "outputs": []
    },
    {
      "cell_type": "code",
      "metadata": {
        "id": "sDuJCT5REzsj",
        "colab_type": "code",
        "outputId": "1699db49-d57e-46c9-f8bc-891db456d5ce",
        "colab": {
          "base_uri": "https://localhost:8080/",
          "height": 289
        }
      },
      "source": [
        "scores = [evaluation_versus_shear(shear) for shear in shear_values]"
      ],
      "execution_count": 0,
      "outputs": [
        {
          "output_type": "stream",
          "text": [
            "0.0\n",
            "0.05\n",
            "0.1\n",
            "0.15000000000000002\n",
            "0.2\n",
            "0.25\n",
            "0.30000000000000004\n",
            "0.35000000000000003\n",
            "0.4\n",
            "0.45\n",
            "0.5\n",
            "0.55\n",
            "0.6000000000000001\n",
            "0.65\n",
            "0.7000000000000001\n",
            "0.75\n"
          ],
          "name": "stdout"
        }
      ]
    },
    {
      "cell_type": "code",
      "metadata": {
        "id": "-ohjRWEIE3QO",
        "colab_type": "code",
        "outputId": "d9f0311f-fee4-4150-bab7-88e27c115277",
        "colab": {
          "base_uri": "https://localhost:8080/",
          "height": 446
        }
      },
      "source": [
        "import seaborn\n",
        "plt.figure(figsize=(10, 7))\n",
        "plt.ylabel = \"Accuracy\"\n",
        "plt.xlabel = \"Shear\"\n",
        "plt.plot(shear_values, scores)"
      ],
      "execution_count": 0,
      "outputs": [
        {
          "output_type": "execute_result",
          "data": {
            "text/plain": [
              "[<matplotlib.lines.Line2D at 0x7fc15744e0f0>]"
            ]
          },
          "metadata": {
            "tags": []
          },
          "execution_count": 55
        },
        {
          "output_type": "display_data",
          "data": {
            "image/png": "[encoded data removed]",
            "text/plain": [
              "<Figure size 720x504 with 1 Axes>"
            ]
          },
          "metadata": {
            "tags": []
          }
        }
      ]
    },
    {
      "cell_type": "code",
      "metadata": {
        "id": "jc6qk9LQFFTD",
        "colab_type": "code",
        "colab": {}
      },
      "source": [
        "from sklearn.metrics import confusion_matrix \n",
        "cm = confusion_matrix(np.argmax(y_test, axis=1), np.argmax(y_pred, axis=1))\n",
        "cm = np.array([row / np.sum(row) for row in cm])\n",
        "np.fill_diagonal(cm, 0)\n",
        "# cm = np.log(cm + 1e-16)"
      ],
      "execution_count": 0,
      "outputs": []
    },
    {
      "cell_type": "code",
      "metadata": {
        "id": "ziZR4QfuF0dq",
        "colab_type": "code",
        "outputId": "297d8401-8207-489a-c73b-994342e8cd42",
        "colab": {
          "base_uri": "https://localhost:8080/",
          "height": 807
        }
      },
      "source": [
        "plt.figure(figsize=(10, 10)) \n",
        "plt.imshow(cm, interpolation='nearest')\n",
        "tick_marks = np.arange(len(letters)+1)\n",
        "plt.xticks(tick_marks, letters) \n",
        "plt.yticks(tick_marks, letters) \n",
        "plt.ylabel('Actual-p') \n",
        "plt.xlabel('Predicted-p')\n",
        "plt.show()"
      ],
      "execution_count": 0,
      "outputs": [
        {
          "output_type": "error",
          "ename": "TypeError",
          "evalue": "ignored",
          "traceback": [
            "\u001b[0;31m---------------------------------------------------------------------------\u001b[0m",
            "\u001b[0;31mTypeError\u001b[0m                                 Traceback (most recent call last)",
            "\u001b[0;32m<ipython-input-58-1843f6222cc1>\u001b[0m in \u001b[0;36m<module>\u001b[0;34m()\u001b[0m\n\u001b[1;32m      4\u001b[0m \u001b[0mplt\u001b[0m\u001b[0;34m.\u001b[0m\u001b[0mxticks\u001b[0m\u001b[0;34m(\u001b[0m\u001b[0mtick_marks\u001b[0m\u001b[0;34m,\u001b[0m \u001b[0mletters\u001b[0m\u001b[0;34m)\u001b[0m\u001b[0;34m\u001b[0m\u001b[0;34m\u001b[0m\u001b[0m\n\u001b[1;32m      5\u001b[0m \u001b[0mplt\u001b[0m\u001b[0;34m.\u001b[0m\u001b[0myticks\u001b[0m\u001b[0;34m(\u001b[0m\u001b[0mtick_marks\u001b[0m\u001b[0;34m,\u001b[0m \u001b[0mletters\u001b[0m\u001b[0;34m)\u001b[0m\u001b[0;34m\u001b[0m\u001b[0;34m\u001b[0m\u001b[0m\n\u001b[0;32m----> 6\u001b[0;31m \u001b[0mplt\u001b[0m\u001b[0;34m.\u001b[0m\u001b[0mylabel\u001b[0m\u001b[0;34m(\u001b[0m\u001b[0;34m'Actual-p'\u001b[0m\u001b[0;34m)\u001b[0m\u001b[0;34m\u001b[0m\u001b[0;34m\u001b[0m\u001b[0m\n\u001b[0m\u001b[1;32m      7\u001b[0m \u001b[0mplt\u001b[0m\u001b[0;34m.\u001b[0m\u001b[0mxlabel\u001b[0m\u001b[0;34m(\u001b[0m\u001b[0;34m'Predicted-p'\u001b[0m\u001b[0;34m)\u001b[0m\u001b[0;34m\u001b[0m\u001b[0;34m\u001b[0m\u001b[0m\n\u001b[1;32m      8\u001b[0m \u001b[0mplt\u001b[0m\u001b[0;34m.\u001b[0m\u001b[0mshow\u001b[0m\u001b[0;34m(\u001b[0m\u001b[0;34m)\u001b[0m\u001b[0;34m\u001b[0m\u001b[0;34m\u001b[0m\u001b[0m\n",
            "\u001b[0;31mTypeError\u001b[0m: 'str' object is not callable"
          ]
        },
        {
          "output_type": "display_data",
          "data": {
            "image/png": "[encoded data removed]",
            "text/plain": [
              "<Figure size 720x720 with 1 Axes>"
            ]
          },
          "metadata": {
            "tags": []
          }
        }
      ]
    },
    {
      "cell_type": "code",
      "metadata": {
        "id": "O4MvtjknF4BZ",
        "colab_type": "code",
        "outputId": "e2152664-088c-45b8-97a4-7e8c562f1518",
        "colab": {
          "base_uri": "https://localhost:8080/",
          "height": 34
        }
      },
      "source": [
        "from nltk.metrics import edit_distance \n",
        "steps = edit_distance(\"STEP\", \"STOP\") \n",
        "print(\"The number of steps needed is: {0}\".format(steps))"
      ],
      "execution_count": 0,
      "outputs": [
        {
          "output_type": "stream",
          "text": [
            "The number of steps needed is: 1\n"
          ],
          "name": "stdout"
        }
      ]
    },
    {
      "cell_type": "code",
      "metadata": {
        "id": "ad2xKLDpGD8O",
        "colab_type": "code",
        "colab": {}
      },
      "source": [
        "def compute_distance(prediction, word):\n",
        "    \n",
        "    len_word = min(len(prediction), len(word))\n",
        "    \n",
        "    return len_word - sum([prediction[i] == word[i] for i in range(len_word)])"
      ],
      "execution_count": 0,
      "outputs": []
    },
    {
      "cell_type": "code",
      "metadata": {
        "id": "Mn5RveZSGX0u",
        "colab_type": "code",
        "colab": {}
      },
      "source": [
        "from operator import itemgetter "
      ],
      "execution_count": 0,
      "outputs": []
    },
    {
      "cell_type": "code",
      "metadata": {
        "id": "lxMwZXFTGaY-",
        "colab_type": "code",
        "colab": {}
      },
      "source": [
        "def improved_prediction(word, net, dictionary, shear=0.2, scale=1.0): \n",
        "    captcha = create_captcha(word, shear=shear, scale=scale) \n",
        "    prediction = predict_captcha(captcha, net) \n",
        "    \n",
        "    if prediction not in dictionary:\n",
        "        distances = sorted([(word, compute_distance(prediction, word)) for word in dictionary], key=itemgetter(1))\n",
        "        best_word = distances[0] \n",
        "        prediction = best_word[0]\n",
        "    return word == prediction, word, prediction"
      ],
      "execution_count": 0,
      "outputs": []
    },
    {
      "cell_type": "code",
      "metadata": {
        "id": "LLGPEWcYGbj5",
        "colab_type": "code",
        "outputId": "ca5d3666-2b72-4206-9f3f-e9a4c5c53d58",
        "colab": {
          "base_uri": "https://localhost:8080/",
          "height": 51
        }
      },
      "source": [
        "num_correct = 0 \n",
        "num_incorrect = 0 \n",
        "for word in valid_words: \n",
        "    shear = random_state.choice(shear_values)\n",
        "    scale = random_state.choice(scale_values)\n",
        "    correct, word, prediction = improved_prediction(word, clf, valid_words, shear=shear, scale=scale)\n",
        "    #print(correct, word, prediction)\n",
        "    if correct: \n",
        "        num_correct += 1 \n",
        "    else: \n",
        "        num_incorrect += 1\n",
        "        #if len(prediction) == len(word):\n",
        "        #    print(word, prediction)\n",
        "print(\"Number correct is {0}\".format(num_correct)) \n",
        "print(\"Number incorrect is {0}\".format(num_incorrect))"
      ],
      "execution_count": 0,
      "outputs": [
        {
          "output_type": "stream",
          "text": [
            "Number correct is 2847\n",
            "Number incorrect is 2666\n"
          ],
          "name": "stdout"
        }
      ]
    },
    {
      "cell_type": "code",
      "metadata": {
        "id": "FK010S4jGdBW",
        "colab_type": "code",
        "outputId": "2183894f-8793-4418-e47d-62e1fdbe7858",
        "colab": {
          "base_uri": "https://localhost:8080/",
          "height": 34
        }
      },
      "source": [
        "p = num_correct/(num_correct+num_incorrect)\n",
        "p"
      ],
      "execution_count": 0,
      "outputs": [
        {
          "output_type": "execute_result",
          "data": {
            "text/plain": [
              "0.516415744603664"
            ]
          },
          "metadata": {
            "tags": []
          },
          "execution_count": 64
        }
      ]
    },
    {
      "cell_type": "code",
      "metadata": {
        "id": "IXJYAk71Jlcd",
        "colab_type": "code",
        "colab": {}
      },
      "source": [
        ""
      ],
      "execution_count": 0,
      "outputs": []
    }
  ]
}
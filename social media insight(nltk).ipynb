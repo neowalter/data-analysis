{
 "cells": [
  {
   "cell_type": "code",
   "execution_count": 1,
   "metadata": {},
   "outputs": [],
   "source": [
    "import twitter"
   ]
  },
  {
   "cell_type": "code",
   "execution_count": 2,
   "metadata": {},
   "outputs": [],
   "source": [
    "consumer_key = \"xXxCsaUT9cWMNvlME8xx4lig7\"\n",
    "consumer_secret = \"BkildDhWVt0S1HkcbeIUuLnvYv5dcCbrGUf1rYphJZYAnozwKF\"\n",
    "access_token = \"1235956152493641728-LsWdsnM6a7sCWbhwFUjFlB3P0pwT3T\"\n",
    "access_token_secret = \"N4DncudqMBa34ukK2rgNLjc2LumQwX9MRuj4zz9nwBc0B\"\n",
    "authorization = twitter.OAuth(access_token, access_token_secret, consumer_key, consumer_secret)"
   ]
  },
  {
   "cell_type": "code",
   "execution_count": 3,
   "metadata": {},
   "outputs": [],
   "source": [
    "import os\n",
    "output_filename = os.path.join(os.path.expanduser(\"~\"), \"Desktop\", \"test\", \"python_tweets.json\")"
   ]
  },
  {
   "cell_type": "code",
   "execution_count": 4,
   "metadata": {},
   "outputs": [],
   "source": [
    "import json"
   ]
  },
  {
   "cell_type": "code",
   "execution_count": 5,
   "metadata": {},
   "outputs": [
    {
     "name": "stdout",
     "output_type": "stream",
     "text": [
      "mayur_shingote\n",
      "RT @Nathan_Hvnter: Video: The Advantages with #AffiliateMarketing\n",
      "\n",
      "Learn more:https://t.co/wMcnLX1X7y\n",
      "\n",
      "#CloudComputing #software #sales #Ja…\n",
      "\n",
      "python_devv\n",
      "How to Track Real-time Bitcoin price using Python\n",
      "\n",
      "☞ https://t.co/TJSbiegukb\n",
      "\n",
      "#python #programming https://t.co/bkf2Zcx4H4\n",
      "\n",
      "mayur_shingote\n",
      "RT @gp_pulipaka: #PiDay is So Last Year. Tired of Pie? Here are 3 Other Math Holidays Worth Celebrating. #AI #MachineLearning #IoT #IIoT #P…\n",
      "\n",
      "xaelbot\n",
      "RT @couponfree01: Udemy Free Discount - Microsoft PowerApps &amp; Flow: Build Business Apps Without Code #udemycoupon https://t.co/50bbzj8K9z…\n",
      "\n",
      "LIFESTYLENOMAD1\n",
      "昨日の夜に投稿しようとしてできなかったやつ\n",
      "\n",
      "「Python(パイソン)」「Java」\n",
      "\n",
      "ゲームが作れるって聞いて、今後学びたい言語枠に躍り出ました💡\n",
      "\n",
      "マイクラを作ってみたい。\n",
      "\n",
      "MinecraftEduは知ってたけど、Comp… https://t.co/0pz4drXDlS\n",
      "\n",
      "CHUCKFUKNNORRIS\n",
      "@rushtheband Brazil with Jonathan Pryce. A Terry Gilliam (Monty Python alumni) film\n",
      "\n",
      "kinkyvorechick\n",
      "RT @RedSnakeDraws: In tonights episode the part of 'Darling' will be played by a large red python\n",
      "Commission https://t.co/VSUyZQPa1k\n",
      "\n",
      "mayur_shingote\n",
      "RT @couponfree01: Udemy Free Discount - Microsoft PowerApps &amp; Flow: Build Business Apps Without Code #udemycoupon https://t.co/50bbzj8K9z…\n",
      "\n",
      "suvari58\n",
      "Python'da Slice İşlemleri\n",
      "https://t.co/9YG4aAUP81\n",
      "\n",
      "jmcdaid\n",
      "We do need to check our aspirations against reality. The \"curve\" is really a pig in a python, or as NY Gov. Cuomo p… https://t.co/AJUbplqJyo\n",
      "\n",
      "LlnuxBot\n",
      "RT @fullsnetworking: Analyst:Cloud, 'Digitial Workspaces' Shake Up Virtual Client Computing Space \n",
      "https://t.co/QoA85tW3Fb #python #ansible…\n",
      "\n",
      "Zeeeegel\n",
      "@gaamcenaad En de films van Studio Ghibli, LOTR, Monty Python, en Shrek?\n",
      "\n",
      "En dan ben ik de serie Gomorra nog vergeten te vermelden.\n",
      "\n",
      "arch_update_bot\n",
      "python-faker 2.0.0-1 (any/Community)\n",
      "\"Faker generates fake data for you.\"\n",
      "&lt;2020-03-15&gt;\n",
      "\n",
      "fullsnetworking\n",
      "Analyst:Cloud, 'Digitial Workspaces' Shake Up Virtual Client Computing Space \n",
      "https://t.co/QoA85tW3Fb #python… https://t.co/v2NqcgohKB\n",
      "\n",
      "aviator3d\n",
      "Day 9/100 of #100DaysOfCode. I continued to explore my internship dataset. I'd like to plot migrations on a map, bu… https://t.co/V7l5gjfQ82\n",
      "\n",
      "perepereden\n",
      "I wanna continue Yaku0, but my net's not resetting until the 18th and I wanna enjoy it with everyone without it bei… https://t.co/oOnatlb3B9\n",
      "\n",
      "wboricua98\n",
      "RT @iphonegalaxymd: How do you like your steak cooked? \n",
      "\n",
      "#programmerhumor #programmingjokes #programmingmemes #programmingjokes #codingmeme…\n",
      "\n",
      "cpsetBarinas\n",
      "RT @FundabitOficial: #28Feb \n",
      "\n",
      "En los CBIT nuestras niñas y niños están aprendiendo a programar con Python\n",
      "\n",
      "¿Sabes en qué consiste?\n",
      "\n",
      "Aquí te…\n",
      "\n",
      "mayur_shingote\n",
      "RT @gp_pulipaka: #DataScience in #Manufacturing: An Overview. #BigData #Analytics #IoT #IIoT #Python #RStats #TensorFlow #Java #JavaScript…\n",
      "\n",
      "blm849\n",
      "Today’s project 👇🏻also manages to write a python program on the Ubuntu machine to do even more 💪🏻💪🏻💪🏻 https://t.co/VvpNqWK2bU\n",
      "\n",
      "realkendall\n",
      "Buying a python 🐍\n",
      "\n",
      "FredrikKbg1\n",
      "RT @loquacious334: \"I'd like to complain about people who constantly hold things up by complaining about people who complain. It's high tim…\n",
      "\n",
      "andrewmorrisuk\n",
      "RT @MSFTImagine: #Python is a popular and versatile programming language. It's also the go-to language for #AI, #MachineLearning, and #Data…\n",
      "\n",
      "SpazzySpitz\n",
      "RT @geoffmanaugh: It is not the time for humor and so on, but this story of the Tennessee Attorney General swooping in to seize that dude’s…\n",
      "\n",
      "mayur_shingote\n",
      "RT @SystemSoft_Tech: A RealWorld Comparison of Front-End Frameworks 2020 https://t.co/SOC2Tttmke @javascriptdaily #developer #coding #progr…\n",
      "\n",
      "aw_mckinley\n",
      "@V_Saggiomo you’ll have seen that we’re hosting a python hackathon in April for simulating chemical phenomena as op… https://t.co/DPFhCeQmy5\n",
      "\n",
      "mayur_shingote\n",
      "RT @gp_pulipaka: A Gentle Introduction to Probability with Cheat Sheet 2.0. #BigData #Analytics #DataScience #IoT #IIoT #Python #RStats #Ja…\n",
      "\n",
      "python_online\n",
      "How to Track Real-time Bitcoin price using Python\n",
      "\n",
      "☞ https://t.co/hFyQRmcTUC\n",
      "\n",
      "#python #programming https://t.co/Im5NWxhn4N\n",
      "\n",
      "ludvigstiernstr\n",
      "RT @WidenJohan: MONTY PYTHON\n",
      "\n",
      "Sverige har blivit en Monty Python sketch:\n",
      "\n",
      "”Nejdå, den här papegojan är inte död, den vilar bara!”\n",
      "\n",
      "#svpol #…\n",
      "\n",
      "shawndan_\n",
      "@__dxmi @Kay_c_ee_ i know python and I know that\n",
      "\n",
      "PYTHON_bot\n",
      "危なかったぞ　スネーク\n",
      "\n",
      "python_sw\n",
      "寝る寝る寝るね\n",
      "\n",
      "DevTopics\n",
      "RT @gp_pulipaka: A Gentle Introduction to Probability with Cheat Sheet 2.0. #BigData #Analytics #DataScience #IoT #IIoT #Python #RStats #Ja…\n",
      "\n",
      "pythonbot_\n",
      "Become a Python Developer: Wrestle and Defeat It https://t.co/C6Uw7x0ckr  #python #ad\n",
      "\n",
      "pythonbot_\n",
      "Machine Learning: Creating an End to End Solution For Absolute Beginners https://t.co/1y0qNkFyBI  #python #ad\n",
      "\n",
      "071625348\n",
      "@NaCl2 Les grands vont enseigner au petit, la moyenne va m'expliquer des trucs pour tester sa compréhension, je vai… https://t.co/irXiBXpjh7\n",
      "\n",
      "mattbarton\n",
      "What Monty Python’s Ministry of Silly Walks can teach us about peer review https://t.co/RDzWdjTatS\n",
      "\n",
      "EuginhoCortez\n",
      "You understand Nigeria but you think that those same people who do this and also do Operation Python Dance will giv… https://t.co/DSkE8HPdeI\n",
      "\n",
      "drahmadbazzi\n",
      "RT @PythonJokeBot: My barber is a specialist in road mapshaves. How come? When he's finished your face is full of short cuts. \n",
      "#joke #jokes…\n",
      "\n",
      "django_codek\n",
      "I Wish I had Known these Tips Before Programming Python\n",
      "\n",
      "☞ https://t.co/eomO2WlQdd\n",
      "\n",
      "#python #programming https://t.co/Fu9GuoZ8uK\n",
      "\n",
      "AaronCuddeback\n",
      "RT @SystemSoft_Tech: A RealWorld Comparison of Front-End Frameworks 2020 https://t.co/SOC2Tttmke @javascriptdaily #developer #coding #progr…\n",
      "\n",
      "Calcaware\n",
      "RT @PythonJokeBot: My barber is a specialist in road mapshaves. How come? When he's finished your face is full of short cuts. \n",
      "#joke #jokes…\n",
      "\n",
      "testdrivenio\n",
      "RT @pycoders: Post-Mortem Python Plotting  https://t.co/TYK7A7Bt3a\n",
      "\n",
      "PythonJokeBot\n",
      "My barber is a specialist in road mapshaves. How come? When he's finished your face is full of short cuts. \n",
      "#joke… https://t.co/T0mrc58Cxp\n",
      "\n",
      "wboricua98\n",
      "RT @iphonegalaxymd: Not the worst marketing tbh\n",
      "\n",
      "#programming #program #coding #code #programmingmemes #codingmemes #programmer #java #pyth…\n",
      "\n",
      "LinuxDreams\n",
      "RT @AlyndertheRed1: Q:How many college football players does it take to screw in a light bulb?\n",
      "A:Only one, but he gets three credits for it…\n",
      "\n",
      "onejsninja\n",
      "RT @____abiodun____: Ruby is actually higher on abstraction level than both python and JavaScript \n",
      "\n",
      "That’s why low level developers takes s…\n",
      "\n",
      "Taieb_Bot\n",
      "RT @SystemSoft_Tech: A RealWorld Comparison of Front-End Frameworks 2020 https://t.co/SOC2Tttmke @javascriptdaily #developer #coding #progr…\n",
      "\n",
      "MichaelAlegic\n",
      "RT @MSFTImagine: #Python is a popular and versatile programming language. It's also the go-to language for #AI, #MachineLearning, and #Data…\n",
      "\n",
      "sebastianrehaag\n",
      "RT @SystemSoft_Tech: A RealWorld Comparison of Front-End Frameworks 2020 https://t.co/SOC2Tttmke @javascriptdaily #developer #coding #progr…\n",
      "\n",
      "PkgsrcChanges\n",
      "doc: CHANGES-2020 TODO\n",
      "\n",
      "wiz: doc: Updated www/py-google-api-python-client to 1.8.0\n",
      "\n",
      "https://t.co/M3iNdJ8Wez\n",
      "https://t.co/qz2NhKX3iJ\n",
      "\n",
      "PkgsrcChanges\n",
      "www/py-google-api-python-client: Makefile distinfo\n",
      "\n",
      "wiz: py-google-api-python-client: update to 1.8.0.… https://t.co/2Ni1TRd40W\n",
      "\n",
      "xaelbot\n",
      "RT @SystemSoft_Tech: A RealWorld Comparison of Front-End Frameworks 2020 https://t.co/SOC2Tttmke @javascriptdaily #developer #coding #progr…\n",
      "\n",
      "SST_Programming\n",
      "RT @SystemSoft_Tech: A RealWorld Comparison of Front-End Frameworks 2020 https://t.co/SOC2Tttmke @javascriptdaily #developer #coding #progr…\n",
      "\n",
      "Rabunhal5\n",
      "RT @StarmanCB: Parece que el guión del 2020 lo han escrito los Monty Python https://t.co/xCiKdE5zUN\n",
      "\n",
      "Darkcoder19\n",
      "RT @SystemSoft_Tech: A RealWorld Comparison of Front-End Frameworks 2020 https://t.co/SOC2Tttmke @javascriptdaily #developer #coding #progr…\n",
      "\n",
      "SystemSoft_Tech\n",
      "A RealWorld Comparison of Front-End Frameworks 2020 https://t.co/SOC2Tttmke @javascriptdaily #developer #coding… https://t.co/Vj6fwOzR8K\n",
      "\n",
      "wboricua98\n",
      "RT @iphonegalaxymd: User Policies\n",
      "\n",
      "#cybersecurity #infosec #computerscience #computerengineering #riskmanagement #encryption #IoT #AI #data…\n",
      "\n",
      "v_braun\n",
      "RT @gp_pulipaka: #DataScience in #Manufacturing: An Overview. #BigData #Analytics #IoT #IIoT #Python #RStats #TensorFlow #Java #JavaScript…\n",
      "\n",
      "mariaalejaht\n",
      "RT @perogar_BIM: \"¿Por qué Dynamo? Vol. II: Comprobación Normativa\" Por Marcos Herrera en el blog de \n",
      "@MSIStudio en el que se explica cómo…\n",
      "\n",
      "rstatstweet\n",
      "RT @mmznr: @luescher_sandro @MarCopter @OpenDataZH @swiss_geoportal @StatSchweiz wenn der code #rstats oder #Python oder #javascript ist, d…\n",
      "\n",
      "EnforcerPL\n",
      "#python type annotations without mypy/other checker are just like comments - they'll lead you astray once they beco… https://t.co/c6tVqNzdOy\n",
      "\n",
      "PHDetermined\n",
      "RT @TimothyKassis: Some universities have shut down research labs. If you're a grad student this is a great time to pick up some crucial 20…\n",
      "\n",
      "theitpodcast1\n",
      "RT @gp_pulipaka: A Gentle Introduction to Probability with Cheat Sheet 2.0. #BigData #Analytics #DataScience #IoT #IIoT #Python #RStats #Ja…\n",
      "\n",
      "mmznr\n",
      "@luescher_sandro @MarCopter @OpenDataZH @swiss_geoportal @StatSchweiz wenn der code #rstats oder #Python oder… https://t.co/n7qBDjyhhB\n",
      "\n",
      "Encableado\n",
      "SE BUSCA DESARROLLADOR PYTHON SCALA SPARK PARA BI – (INGRESO DIRECTO A BANCO PRIVADO) - Más información: https://t.co/VMBMw2AH4j\n",
      "\n",
      "todaycourses\n",
      "[coursera introduction to data science in python assignment 3] Memoir and Personal Essay: Managing Your Relationshi… https://t.co/WB6wKB9CnA\n",
      "\n",
      "okekedesmond\n",
      "@CocaCoder HTML(DEPENDING ON WHAT I WANT TO DO.. IF IT IS USING A NEW TAG I READ ABOUT IT)\n",
      "\n",
      "CSS \n",
      "\n",
      "JAVA \n",
      "\n",
      "C(MOST TIM… https://t.co/MD5HYdr5b5\n",
      "\n",
      "codedailybot\n",
      "RT @gp_pulipaka: #DataScience in #Manufacturing: An Overview. #BigData #Analytics #IoT #IIoT #Python #RStats #TensorFlow #Java #JavaScript…\n",
      "\n",
      "codedailybot\n",
      "RT @gp_pulipaka: #DataScience in #Manufacturing: An Overview. #BigData #Analytics #IoT #IIoT #Python #RStats #TensorFlow #Java #JavaScript…\n",
      "\n",
      "GThemiramis\n",
      "Un python à mangé un alligator est à explosé. Allégorie (j'ignore de quoi mais allégorie).\n",
      "\n",
      "dsguide_\n",
      "Introduction to Polynomial Regression (with Python Implementation) https://t.co/s4txjY7udB\n",
      "\n",
      "hubofml\n",
      "RT @MSFTImagine: #Python is a popular and versatile programming language. It's also the go-to language for #AI, #MachineLearning, and #Data…\n",
      "\n",
      "mspsinghana\n",
      "RT @MSFTImagine: #Python is a popular and versatile programming language. It's also the go-to language for #AI, #MachineLearning, and #Data…\n",
      "\n",
      "Dggonzalez2015\n",
      "RT @gp_pulipaka: A Gentle Introduction to Probability with Cheat Sheet 2.0. #BigData #Analytics #DataScience #IoT #IIoT #Python #RStats #Ja…\n",
      "\n",
      "PriyeshPatelUK\n",
      "RT @kdnuggets: An End-to-End Project on Time Series Analysis and Forecasting with #Python #KDN https://t.co/TIyEkJnGHn\n",
      "\n",
      "GavLaaaaaaaa\n",
      "RT @gp_pulipaka: Neural Tangents, A Software Library Written in JAX. #BigData #Analytics #DataScience #AI #MachineLearning #IoT #IIoT #PyTo…\n",
      "\n",
      "Darkcoder19\n",
      "RT @couponfree01: Udemy Free Discount - Microsoft PowerApps &amp; Flow: Build Business Apps Without Code #udemycoupon https://t.co/50bbzj8K9z…\n",
      "\n",
      "gagliardi_vale\n",
      "@jangiacomelli Also Architecture pattern with Python by @hjwp\n",
      "\n",
      "CoderNotesBot\n",
      "RT @couponfree01: Udemy Free Discount - Microsoft PowerApps &amp; Flow: Build Business Apps Without Code #udemycoupon https://t.co/50bbzj8K9z…\n",
      "\n",
      "itknowingness\n",
      "RT @TimothyKassis: Some universities have shut down research labs. If you're a grad student this is a great time to pick up some crucial 20…\n",
      "\n",
      "TheePrincess9\n",
      "RT @LookingForZA: Company Sandton urgently looking for entry level Programmers, must be good in algorithm &amp; database\n",
      "Knowledge in coding \n",
      "P…\n",
      "\n",
      "JanineCoomber\n",
      "RT @TimothyKassis: Some universities have shut down research labs. If you're a grad student this is a great time to pick up some crucial 20…\n",
      "\n",
      "pythonista11\n",
      "RT @sarahfsn16: I sing the national anthem while im standing over your body hold you like a python\n",
      "\n",
      "pythonista11\n",
      "RT @qiita_python: 【Python】print出力で特定のキーワードの文字色や背景色を変える - https://t.co/X03Zuv28JA\n",
      "\n",
      "pythonista11\n",
      "RT @sjmay92: \"There were some people who said my film '2001 - A Space Odyssey', was similar to Stanley Kubrick's. I mean, that's the sort o…\n",
      "\n",
      "pythonista11\n",
      "RT @Deep_In_Depth: Intelligence Artificielle en Data Science ? Et si l’automatisation du Machine Learning suffisait ? https://t.co/duYrHisA…\n",
      "\n",
      "tonysmith58\n",
      "And just for fun, I’ll find on YouTube the part from Monty Python and The Holy Grail where the corpses are being ha… https://t.co/TdLHsPKH5W\n",
      "\n",
      "xaelbot\n",
      "RT @gp_pulipaka: #DataScience in #Manufacturing: An Overview. #BigData #Analytics #IoT #IIoT #Python #RStats #TensorFlow #Java #JavaScript…\n",
      "\n",
      "pythonista11\n",
      "RT @Deep_In_Depth: Google Releases AI Quantum Library - Is It to Benefit Google Team X? - Communal News https://t.co/ovIu4kYtAY #DeepLearni…\n",
      "\n",
      "TigerGaret\n",
      "@YoloBirder Chased by a python... I played a game of chase me with a Wild Boar, a badger chased me and I had a cow back me into a river...\n",
      "\n",
      "fcacorrea\n",
      "RT @StarmanCB: Parece que el guión del 2020 lo han escrito los Monty Python https://t.co/xCiKdE5zUN\n",
      "\n",
      "gaykaiba\n",
      "also since facebook keeps failing me i have a mature male ball python hes roughly 3 ft but I havent measured him th… https://t.co/Bfxoa3rRa1\n",
      "\n",
      "BizPhilomath\n",
      "#pandas #anaconda #Python3 \n",
      "My attempts at working with dataframes has yielded the following results:  Attribute Er… https://t.co/Ncx3Gobsik\n",
      "\n",
      "LlnuxBot\n",
      "RT @gp_pulipaka: #DataScience in #Manufacturing: An Overview. #BigData #Analytics #IoT #IIoT #Python #RStats #TensorFlow #Java #JavaScript…\n",
      "\n",
      "TheVeryHighKing\n",
      "#Python #RaspberryPi #SpeedTest #Matplotlib https://t.co/yjhLga0s0u\n",
      "\n",
      "gridvision\n",
      "RT @python_devv: I Wish I had Known these Tips Before Programming Python\n",
      "\n",
      "☞ https://t.co/sgXVhY6MZj\n",
      "\n",
      "#python #programming https://t.co/NtfL…\n",
      "\n",
      "TheVeryHighKing\n",
      "Hourly average speed test results\n",
      "-DL(Mb/s): 66.68 (max:70.20/min:54.70)\n",
      "-UL(Mb/s): 19.87 (max:20.30/min:18.40)\n",
      "-Pi… https://t.co/gNRr7QHE9G\n",
      "\n",
      "mxmlnenogil\n",
      "@TasteGrass Need to get a 12 gauge and maybe a Colt Python.\n",
      "\n",
      "CoderNotesBot\n",
      "RT @gp_pulipaka: #DataScience in #Manufacturing: An Overview. #BigData #Analytics #IoT #IIoT #Python #RStats #TensorFlow #Java #JavaScript…\n",
      "\n"
     ]
    }
   ],
   "source": [
    "t = twitter.Twitter(auth=authorization)\n",
    "\n",
    "with open(output_filename, 'a') as output_file:\n",
    "    search_results = t.search.tweets(q=\"python\", count=100)['statuses']\n",
    "    for tweet in search_results:\n",
    "        if 'text' in tweet:\n",
    "            print(tweet['user']['screen_name'])\n",
    "            print(tweet['text'])\n",
    "            print()\n",
    "            output_file.write(json.dumps(tweet))\n",
    "            output_file.write(\"\\n\\n\")"
   ]
  },
  {
   "cell_type": "code",
   "execution_count": 6,
   "metadata": {},
   "outputs": [],
   "source": [
    "import os\n",
    "input_filename = os.path.join(os.path.expanduser(\"~\"), \"Desktop\", \"test\", \"python_tweets.json\")\n",
    "classes_filename = os.path.join(os.path.expanduser(\"~\"), \"Desktop\", \"test\", \"python_classes.json\")"
   ]
  },
  {
   "cell_type": "code",
   "execution_count": 7,
   "metadata": {},
   "outputs": [
    {
     "name": "stdout",
     "output_type": "stream",
     "text": [
      "Loaded 100 tweets\n"
     ]
    }
   ],
   "source": [
    "import json\n",
    "tweets = []\n",
    "with open(input_filename) as inf:\n",
    "    for line in inf:\n",
    "        if len(line.strip()) == 0:\n",
    "            continue\n",
    "        tweets.append(json.loads(line))\n",
    "print(\"Loaded {} tweets\".format(len(tweets)))"
   ]
  },
  {
   "cell_type": "code",
   "execution_count": 8,
   "metadata": {},
   "outputs": [],
   "source": [
    "tweet_sample = tweets"
   ]
  },
  {
   "cell_type": "code",
   "execution_count": 9,
   "metadata": {},
   "outputs": [
    {
     "ename": "JSONDecodeError",
     "evalue": "Expecting value: line 1 column 1 (char 0)",
     "output_type": "error",
     "traceback": [
      "\u001b[1;31m---------------------------------------------------------------------------\u001b[0m",
      "\u001b[1;31mJSONDecodeError\u001b[0m                           Traceback (most recent call last)",
      "\u001b[1;32m<ipython-input-9-d53cac3cdc6f>\u001b[0m in \u001b[0;36m<module>\u001b[1;34m\u001b[0m\n\u001b[0;32m      2\u001b[0m \u001b[1;32mif\u001b[0m \u001b[0mos\u001b[0m\u001b[1;33m.\u001b[0m\u001b[0mpath\u001b[0m\u001b[1;33m.\u001b[0m\u001b[0mexists\u001b[0m\u001b[1;33m(\u001b[0m\u001b[0mclasses_filename\u001b[0m\u001b[1;33m)\u001b[0m\u001b[1;33m:\u001b[0m\u001b[1;33m\u001b[0m\u001b[1;33m\u001b[0m\u001b[0m\n\u001b[0;32m      3\u001b[0m     \u001b[1;32mwith\u001b[0m \u001b[0mopen\u001b[0m\u001b[1;33m(\u001b[0m\u001b[0mclasses_filename\u001b[0m\u001b[1;33m)\u001b[0m \u001b[1;32mas\u001b[0m \u001b[0minf\u001b[0m\u001b[1;33m:\u001b[0m\u001b[1;33m\u001b[0m\u001b[1;33m\u001b[0m\u001b[0m\n\u001b[1;32m----> 4\u001b[1;33m         \u001b[0mlabels\u001b[0m \u001b[1;33m=\u001b[0m \u001b[0mjson\u001b[0m\u001b[1;33m.\u001b[0m\u001b[0mload\u001b[0m\u001b[1;33m(\u001b[0m\u001b[0minf\u001b[0m\u001b[1;33m)\u001b[0m\u001b[1;33m\u001b[0m\u001b[1;33m\u001b[0m\u001b[0m\n\u001b[0m\u001b[0;32m      5\u001b[0m \u001b[0mprint\u001b[0m\u001b[1;33m(\u001b[0m\u001b[0mlen\u001b[0m\u001b[1;33m(\u001b[0m\u001b[0mlabels\u001b[0m\u001b[1;33m)\u001b[0m\u001b[1;33m)\u001b[0m\u001b[1;33m\u001b[0m\u001b[1;33m\u001b[0m\u001b[0m\n",
      "\u001b[1;32mC:\\pan\\tools\\python\\lib\\json\\__init__.py\u001b[0m in \u001b[0;36mload\u001b[1;34m(fp, cls, object_hook, parse_float, parse_int, parse_constant, object_pairs_hook, **kw)\u001b[0m\n\u001b[0;32m    294\u001b[0m         \u001b[0mcls\u001b[0m\u001b[1;33m=\u001b[0m\u001b[0mcls\u001b[0m\u001b[1;33m,\u001b[0m \u001b[0mobject_hook\u001b[0m\u001b[1;33m=\u001b[0m\u001b[0mobject_hook\u001b[0m\u001b[1;33m,\u001b[0m\u001b[1;33m\u001b[0m\u001b[1;33m\u001b[0m\u001b[0m\n\u001b[0;32m    295\u001b[0m         \u001b[0mparse_float\u001b[0m\u001b[1;33m=\u001b[0m\u001b[0mparse_float\u001b[0m\u001b[1;33m,\u001b[0m \u001b[0mparse_int\u001b[0m\u001b[1;33m=\u001b[0m\u001b[0mparse_int\u001b[0m\u001b[1;33m,\u001b[0m\u001b[1;33m\u001b[0m\u001b[1;33m\u001b[0m\u001b[0m\n\u001b[1;32m--> 296\u001b[1;33m         parse_constant=parse_constant, object_pairs_hook=object_pairs_hook, **kw)\n\u001b[0m\u001b[0;32m    297\u001b[0m \u001b[1;33m\u001b[0m\u001b[0m\n\u001b[0;32m    298\u001b[0m \u001b[1;33m\u001b[0m\u001b[0m\n",
      "\u001b[1;32mC:\\pan\\tools\\python\\lib\\json\\__init__.py\u001b[0m in \u001b[0;36mloads\u001b[1;34m(s, encoding, cls, object_hook, parse_float, parse_int, parse_constant, object_pairs_hook, **kw)\u001b[0m\n\u001b[0;32m    346\u001b[0m             \u001b[0mparse_int\u001b[0m \u001b[1;32mis\u001b[0m \u001b[1;32mNone\u001b[0m \u001b[1;32mand\u001b[0m \u001b[0mparse_float\u001b[0m \u001b[1;32mis\u001b[0m \u001b[1;32mNone\u001b[0m \u001b[1;32mand\u001b[0m\u001b[1;33m\u001b[0m\u001b[1;33m\u001b[0m\u001b[0m\n\u001b[0;32m    347\u001b[0m             parse_constant is None and object_pairs_hook is None and not kw):\n\u001b[1;32m--> 348\u001b[1;33m         \u001b[1;32mreturn\u001b[0m \u001b[0m_default_decoder\u001b[0m\u001b[1;33m.\u001b[0m\u001b[0mdecode\u001b[0m\u001b[1;33m(\u001b[0m\u001b[0ms\u001b[0m\u001b[1;33m)\u001b[0m\u001b[1;33m\u001b[0m\u001b[1;33m\u001b[0m\u001b[0m\n\u001b[0m\u001b[0;32m    349\u001b[0m     \u001b[1;32mif\u001b[0m \u001b[0mcls\u001b[0m \u001b[1;32mis\u001b[0m \u001b[1;32mNone\u001b[0m\u001b[1;33m:\u001b[0m\u001b[1;33m\u001b[0m\u001b[1;33m\u001b[0m\u001b[0m\n\u001b[0;32m    350\u001b[0m         \u001b[0mcls\u001b[0m \u001b[1;33m=\u001b[0m \u001b[0mJSONDecoder\u001b[0m\u001b[1;33m\u001b[0m\u001b[1;33m\u001b[0m\u001b[0m\n",
      "\u001b[1;32mC:\\pan\\tools\\python\\lib\\json\\decoder.py\u001b[0m in \u001b[0;36mdecode\u001b[1;34m(self, s, _w)\u001b[0m\n\u001b[0;32m    335\u001b[0m \u001b[1;33m\u001b[0m\u001b[0m\n\u001b[0;32m    336\u001b[0m         \"\"\"\n\u001b[1;32m--> 337\u001b[1;33m         \u001b[0mobj\u001b[0m\u001b[1;33m,\u001b[0m \u001b[0mend\u001b[0m \u001b[1;33m=\u001b[0m \u001b[0mself\u001b[0m\u001b[1;33m.\u001b[0m\u001b[0mraw_decode\u001b[0m\u001b[1;33m(\u001b[0m\u001b[0ms\u001b[0m\u001b[1;33m,\u001b[0m \u001b[0midx\u001b[0m\u001b[1;33m=\u001b[0m\u001b[0m_w\u001b[0m\u001b[1;33m(\u001b[0m\u001b[0ms\u001b[0m\u001b[1;33m,\u001b[0m \u001b[1;36m0\u001b[0m\u001b[1;33m)\u001b[0m\u001b[1;33m.\u001b[0m\u001b[0mend\u001b[0m\u001b[1;33m(\u001b[0m\u001b[1;33m)\u001b[0m\u001b[1;33m)\u001b[0m\u001b[1;33m\u001b[0m\u001b[1;33m\u001b[0m\u001b[0m\n\u001b[0m\u001b[0;32m    338\u001b[0m         \u001b[0mend\u001b[0m \u001b[1;33m=\u001b[0m \u001b[0m_w\u001b[0m\u001b[1;33m(\u001b[0m\u001b[0ms\u001b[0m\u001b[1;33m,\u001b[0m \u001b[0mend\u001b[0m\u001b[1;33m)\u001b[0m\u001b[1;33m.\u001b[0m\u001b[0mend\u001b[0m\u001b[1;33m(\u001b[0m\u001b[1;33m)\u001b[0m\u001b[1;33m\u001b[0m\u001b[1;33m\u001b[0m\u001b[0m\n\u001b[0;32m    339\u001b[0m         \u001b[1;32mif\u001b[0m \u001b[0mend\u001b[0m \u001b[1;33m!=\u001b[0m \u001b[0mlen\u001b[0m\u001b[1;33m(\u001b[0m\u001b[0ms\u001b[0m\u001b[1;33m)\u001b[0m\u001b[1;33m:\u001b[0m\u001b[1;33m\u001b[0m\u001b[1;33m\u001b[0m\u001b[0m\n",
      "\u001b[1;32mC:\\pan\\tools\\python\\lib\\json\\decoder.py\u001b[0m in \u001b[0;36mraw_decode\u001b[1;34m(self, s, idx)\u001b[0m\n\u001b[0;32m    353\u001b[0m             \u001b[0mobj\u001b[0m\u001b[1;33m,\u001b[0m \u001b[0mend\u001b[0m \u001b[1;33m=\u001b[0m \u001b[0mself\u001b[0m\u001b[1;33m.\u001b[0m\u001b[0mscan_once\u001b[0m\u001b[1;33m(\u001b[0m\u001b[0ms\u001b[0m\u001b[1;33m,\u001b[0m \u001b[0midx\u001b[0m\u001b[1;33m)\u001b[0m\u001b[1;33m\u001b[0m\u001b[1;33m\u001b[0m\u001b[0m\n\u001b[0;32m    354\u001b[0m         \u001b[1;32mexcept\u001b[0m \u001b[0mStopIteration\u001b[0m \u001b[1;32mas\u001b[0m \u001b[0merr\u001b[0m\u001b[1;33m:\u001b[0m\u001b[1;33m\u001b[0m\u001b[1;33m\u001b[0m\u001b[0m\n\u001b[1;32m--> 355\u001b[1;33m             \u001b[1;32mraise\u001b[0m \u001b[0mJSONDecodeError\u001b[0m\u001b[1;33m(\u001b[0m\u001b[1;34m\"Expecting value\"\u001b[0m\u001b[1;33m,\u001b[0m \u001b[0ms\u001b[0m\u001b[1;33m,\u001b[0m \u001b[0merr\u001b[0m\u001b[1;33m.\u001b[0m\u001b[0mvalue\u001b[0m\u001b[1;33m)\u001b[0m \u001b[1;32mfrom\u001b[0m \u001b[1;32mNone\u001b[0m\u001b[1;33m\u001b[0m\u001b[1;33m\u001b[0m\u001b[0m\n\u001b[0m\u001b[0;32m    356\u001b[0m         \u001b[1;32mreturn\u001b[0m \u001b[0mobj\u001b[0m\u001b[1;33m,\u001b[0m \u001b[0mend\u001b[0m\u001b[1;33m\u001b[0m\u001b[1;33m\u001b[0m\u001b[0m\n",
      "\u001b[1;31mJSONDecodeError\u001b[0m: Expecting value: line 1 column 1 (char 0)"
     ]
    }
   ],
   "source": [
    "labels = []\n",
    "if os.path.exists(classes_filename):\n",
    "    with open(classes_filename) as inf:\n",
    "        labels = json.load(inf)\n",
    "print(len(labels))"
   ]
  },
  {
   "cell_type": "code",
   "execution_count": 10,
   "metadata": {},
   "outputs": [],
   "source": [
    "def get_tweet():\n",
    "    return tweet_sample[len(labels)]['text']"
   ]
  },
  {
   "cell_type": "code",
   "execution_count": 11,
   "metadata": {},
   "outputs": [
    {
     "data": {
      "text/html": [
       "<div name=\"tweetbox\">\n",
       "    Instructions: Click in text box. Enter a 1 if the tweet is relevant, enter 0 otherwise.<br>\n",
       "    Tweet: <div id=\"tweet_text\" value=\"text\"></div><br>\n",
       "    <input type=text id=\"capture\"></input><br>\n",
       "</div>\n",
       "\n",
       "<script>\n",
       "function set_label(label){\n",
       "    var kernel = IPython.notebook.kernel;\n",
       "    kernel.execute(\"labels.append(\" + label + \")\");\n",
       "    load_next_tweet();\n",
       "}\n",
       "\n",
       "function load_next_tweet(){\n",
       "    console.log(\"1\");\n",
       "   var code_input = \"get_tweet()\";\n",
       "    console.log(\"2\");\n",
       "   var kernel = IPython.notebook.kernel;\n",
       "    console.log(\"3\");\n",
       "   var callbacks = { 'iopub' : {'output' : handle_output}};\n",
       "    console.log(\"4\");\n",
       "   kernel.execute(code_input, callbacks, {silent:false});\n",
       "    console.log(\"5\");\n",
       "}\n",
       "\n",
       "function handle_output(out){\n",
       "   console.log(out);\n",
       "   var res = out.content.data[\"text/plain\"];\n",
       "   $(\"div#tweet_text\").html(res);\n",
       "}\n",
       "\n",
       "$(\"input#capture\").keypress(function(e) {\n",
       "    console.log(e);\n",
       "  if(e.which == 48) {\n",
       "    // 0 pressed\n",
       "    set_label(0);\n",
       "    $(\"input#capture\").val(\"\");\n",
       "  }else if (e.which == 49){\n",
       "    // 1 pressed\n",
       "    set_label(1);  \n",
       "    $(\"input#capture\").val(\"\");\n",
       "  }\n",
       "});\n",
       "\n",
       "load_next_tweet();\n",
       "</script>\n"
      ],
      "text/plain": [
       "<IPython.core.display.HTML object>"
      ]
     },
     "metadata": {},
     "output_type": "display_data"
    }
   ],
   "source": [
    "%%html\n",
    "<div name=\"tweetbox\">\n",
    "    Instructions: Click in text box. Enter a 1 if the tweet is relevant, enter 0 otherwise.<br>\n",
    "    Tweet: <div id=\"tweet_text\" value=\"text\"></div><br>\n",
    "    <input type=text id=\"capture\"></input><br>\n",
    "</div>\n",
    "\n",
    "<script>\n",
    "function set_label(label){\n",
    "    var kernel = IPython.notebook.kernel;\n",
    "    kernel.execute(\"labels.append(\" + label + \")\");\n",
    "    load_next_tweet();\n",
    "}\n",
    "\n",
    "function load_next_tweet(){\n",
    "    console.log(\"1\");\n",
    "   var code_input = \"get_tweet()\";\n",
    "    console.log(\"2\");\n",
    "   var kernel = IPython.notebook.kernel;\n",
    "    console.log(\"3\");\n",
    "   var callbacks = { 'iopub' : {'output' : handle_output}};\n",
    "    console.log(\"4\");\n",
    "   kernel.execute(code_input, callbacks, {silent:false});\n",
    "    console.log(\"5\");\n",
    "}\n",
    "\n",
    "function handle_output(out){\n",
    "   console.log(out);\n",
    "   var res = out.content.data[\"text/plain\"];\n",
    "   $(\"div#tweet_text\").html(res);\n",
    "}\n",
    "\n",
    "$(\"input#capture\").keypress(function(e) {\n",
    "    console.log(e);\n",
    "  if(e.which == 48) {\n",
    "    // 0 pressed\n",
    "    set_label(0);\n",
    "    $(\"input#capture\").val(\"\");\n",
    "  }else if (e.which == 49){\n",
    "    // 1 pressed\n",
    "    set_label(1);  \n",
    "    $(\"input#capture\").val(\"\");\n",
    "  }\n",
    "});\n",
    "\n",
    "load_next_tweet();\n",
    "</script>"
   ]
  },
  {
   "cell_type": "code",
   "execution_count": 12,
   "metadata": {},
   "outputs": [
    {
     "name": "stdout",
     "output_type": "stream",
     "text": [
      "101\n"
     ]
    }
   ],
   "source": [
    "print(len(labels))"
   ]
  },
  {
   "cell_type": "code",
   "execution_count": 13,
   "metadata": {},
   "outputs": [],
   "source": [
    "with open(classes_filename, 'w') as outf:\n",
    "    json.dump(labels, outf)"
   ]
  },
  {
   "cell_type": "code",
   "execution_count": 14,
   "metadata": {},
   "outputs": [],
   "source": [
    "import os\n",
    "input_filename = os.path.join(os.path.expanduser(\"~\"), \"Desktop\", \"test\", \"python_tweets.json\")\n",
    "classes_filename = os.path.join(os.path.expanduser(\"~\"), \"Desktop\", \"test\", \"python_classes.json\")"
   ]
  },
  {
   "cell_type": "code",
   "execution_count": 15,
   "metadata": {},
   "outputs": [
    {
     "name": "stdout",
     "output_type": "stream",
     "text": [
      "Loaded 100 tweets\n"
     ]
    }
   ],
   "source": [
    "import json\n",
    "tweets = []\n",
    "with open(input_filename) as inf:\n",
    "    for line in inf:\n",
    "        if len(line.strip()) == 0:\n",
    "            continue\n",
    "        tweets.append(json.loads(line)['text'])\n",
    "print(\"Loaded {} tweets\".format(len(tweets)))"
   ]
  },
  {
   "cell_type": "code",
   "execution_count": 16,
   "metadata": {},
   "outputs": [],
   "source": [
    "with open(classes_filename) as inf:\n",
    "    labels = json.load(inf)"
   ]
  },
  {
   "cell_type": "code",
   "execution_count": 17,
   "metadata": {},
   "outputs": [],
   "source": [
    "n_samples = min(len(tweets), len(labels))"
   ]
  },
  {
   "cell_type": "code",
   "execution_count": 18,
   "metadata": {},
   "outputs": [],
   "source": [
    "sample_tweets = [t.lower() for t in tweets[:n_samples]]\n",
    "labels = labels[:n_samples]"
   ]
  },
  {
   "cell_type": "code",
   "execution_count": 19,
   "metadata": {},
   "outputs": [],
   "source": [
    "import numpy as np\n",
    "y_true = np.array(labels)"
   ]
  },
  {
   "cell_type": "code",
   "execution_count": 20,
   "metadata": {},
   "outputs": [
    {
     "name": "stdout",
     "output_type": "stream",
     "text": [
      "80.0% have class 1\n"
     ]
    }
   ],
   "source": [
    "print(\"{:.1f}% have class 1\".format(np.mean(y_true == 1) * 100))"
   ]
  },
  {
   "cell_type": "code",
   "execution_count": 21,
   "metadata": {},
   "outputs": [],
   "source": [
    "from sklearn.base import TransformerMixin\n",
    "from nltk import word_tokenize\n",
    "\n",
    "class NLTKBOW(TransformerMixin):\n",
    "    def fit(self, X, y=None):\n",
    "        return self\n",
    "\n",
    "    def transform(self, X):\n",
    "        return [{word: True for word in word_tokenize(document)}\n",
    "                 for document in X]"
   ]
  },
  {
   "cell_type": "code",
   "execution_count": 22,
   "metadata": {},
   "outputs": [],
   "source": [
    "from sklearn.feature_extraction import DictVectorizer\n",
    "from sklearn.naive_bayes import BernoulliNB"
   ]
  },
  {
   "cell_type": "code",
   "execution_count": 24,
   "metadata": {},
   "outputs": [],
   "source": [
    "from sklearn.model_selection import cross_val_score\n",
    "from sklearn.pipeline import Pipeline\n",
    "from sklearn.feature_extraction.text import CountVectorizer"
   ]
  },
  {
   "cell_type": "code",
   "execution_count": 26,
   "metadata": {},
   "outputs": [],
   "source": [
    "import nltk"
   ]
  },
  {
   "cell_type": "code",
   "execution_count": 27,
   "metadata": {},
   "outputs": [
    {
     "name": "stderr",
     "output_type": "stream",
     "text": [
      "[nltk_data] Downloading package punkt to\n",
      "[nltk_data]     C:\\Users\\Neo-W\\AppData\\Roaming\\nltk_data...\n",
      "[nltk_data]   Unzipping tokenizers\\punkt.zip.\n"
     ]
    },
    {
     "data": {
      "text/plain": [
       "True"
      ]
     },
     "execution_count": 27,
     "metadata": {},
     "output_type": "execute_result"
    }
   ],
   "source": [
    "nltk.download('punkt')"
   ]
  },
  {
   "cell_type": "code",
   "execution_count": 28,
   "metadata": {},
   "outputs": [
    {
     "name": "stdout",
     "output_type": "stream",
     "text": [
      "Score: 0.889\n"
     ]
    }
   ],
   "source": [
    "pipeline = Pipeline([('bag-of-words', NLTKBOW()),\n",
    "                     ('vectorizer', DictVectorizer()),\n",
    "                     ('naive-bayes', BernoulliNB())\n",
    "                     ])\n",
    "scores = cross_val_score(pipeline, sample_tweets, y_true, cv=10, scoring='f1')\n",
    "print(\"Score: {:.3f}\".format(np.mean(scores)))"
   ]
  },
  {
   "cell_type": "code",
   "execution_count": 29,
   "metadata": {},
   "outputs": [
    {
     "data": {
      "text/plain": [
       "array([0.88888889, 0.88888889, 0.88888889, 0.88888889, 0.88888889,\n",
       "       0.88888889, 0.88888889, 0.88888889, 0.88888889, 0.88888889])"
      ]
     },
     "execution_count": 29,
     "metadata": {},
     "output_type": "execute_result"
    }
   ],
   "source": [
    "scores"
   ]
  },
  {
   "cell_type": "code",
   "execution_count": null,
   "metadata": {},
   "outputs": [],
   "source": []
  }
 ],
 "metadata": {
  "kernelspec": {
   "display_name": "Python 3",
   "language": "python",
   "name": "python3"
  },
  "language_info": {
   "codemirror_mode": {
    "name": "ipython",
    "version": 3
   },
   "file_extension": ".py",
   "mimetype": "text/x-python",
   "name": "python",
   "nbconvert_exporter": "python",
   "pygments_lexer": "ipython3",
   "version": "3.7.4"
  }
 },
 "nbformat": 4,
 "nbformat_minor": 2
}

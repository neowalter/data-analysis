{
  "nbformat": 4,
  "nbformat_minor": 0,
  "metadata": {
    "colab": {
      "name": "Decision tree.ipynb",
      "provenance": [],
      "collapsed_sections": [],
      "authorship_tag": "ABX9TyP3lsXfE2K5H6E5ak53m/Sn"
    },
    "kernelspec": {
      "name": "python3",
      "display_name": "Python 3"
    }
  },
  "cells": [
    {
      "cell_type": "code",
      "metadata": {
        "id": "oN9CtMGFAkUU",
        "colab_type": "code",
        "colab": {}
      },
      "source": [
        "import pandas as pd"
      ],
      "execution_count": 0,
      "outputs": []
    },
    {
      "cell_type": "code",
      "metadata": {
        "id": "CWHMLD_D3hbW",
        "colab_type": "code",
        "outputId": "e7454435-f432-4130-dff6-a7ac813e97d8",
        "colab": {
          "base_uri": "https://localhost:8080/",
          "height": 204
        }
      },
      "source": [
        "data_filename = \"games0.csv\"\n",
        "dataset = pd.read_csv(data_filename)\n",
        "dataset.head()"
      ],
      "execution_count": 90,
      "outputs": [
        {
          "output_type": "execute_result",
          "data": {
            "text/html": [
              "<div>\n",
              "<style scoped>\n",
              "    .dataframe tbody tr th:only-of-type {\n",
              "        vertical-align: middle;\n",
              "    }\n",
              "\n",
              "    .dataframe tbody tr th {\n",
              "        vertical-align: top;\n",
              "    }\n",
              "\n",
              "    .dataframe thead th {\n",
              "        text-align: right;\n",
              "    }\n",
              "</style>\n",
              "<table border=\"1\" class=\"dataframe\">\n",
              "  <thead>\n",
              "    <tr style=\"text-align: right;\">\n",
              "      <th></th>\n",
              "      <th>Date</th>\n",
              "      <th>Start (ET)</th>\n",
              "      <th>Visitor/Neutral</th>\n",
              "      <th>PTS</th>\n",
              "      <th>Home/Neutral</th>\n",
              "      <th>PTS.1</th>\n",
              "      <th>a</th>\n",
              "      <th>b</th>\n",
              "      <th>Notes</th>\n",
              "    </tr>\n",
              "  </thead>\n",
              "  <tbody>\n",
              "    <tr>\n",
              "      <th>0</th>\n",
              "      <td>Tue Oct 17 2017</td>\n",
              "      <td>8:01p</td>\n",
              "      <td>Boston Celtics</td>\n",
              "      <td>99</td>\n",
              "      <td>Cleveland Cavaliers</td>\n",
              "      <td>102</td>\n",
              "      <td>Box Score</td>\n",
              "      <td>NaN</td>\n",
              "      <td>NaN</td>\n",
              "    </tr>\n",
              "    <tr>\n",
              "      <th>1</th>\n",
              "      <td>Tue Oct 17 2017</td>\n",
              "      <td>10:30p</td>\n",
              "      <td>Houston Rockets</td>\n",
              "      <td>122</td>\n",
              "      <td>Golden State Warriors</td>\n",
              "      <td>121</td>\n",
              "      <td>Box Score</td>\n",
              "      <td>NaN</td>\n",
              "      <td>NaN</td>\n",
              "    </tr>\n",
              "    <tr>\n",
              "      <th>2</th>\n",
              "      <td>Wed Oct 18 2017</td>\n",
              "      <td>7:00p</td>\n",
              "      <td>Charlotte Hornets</td>\n",
              "      <td>90</td>\n",
              "      <td>Detroit Pistons</td>\n",
              "      <td>102</td>\n",
              "      <td>Box Score</td>\n",
              "      <td>NaN</td>\n",
              "      <td>NaN</td>\n",
              "    </tr>\n",
              "    <tr>\n",
              "      <th>3</th>\n",
              "      <td>Wed Oct 18 2017</td>\n",
              "      <td>7:00p</td>\n",
              "      <td>Brooklyn Nets</td>\n",
              "      <td>131</td>\n",
              "      <td>Indiana Pacers</td>\n",
              "      <td>140</td>\n",
              "      <td>Box Score</td>\n",
              "      <td>NaN</td>\n",
              "      <td>NaN</td>\n",
              "    </tr>\n",
              "    <tr>\n",
              "      <th>4</th>\n",
              "      <td>Wed Oct 18 2017</td>\n",
              "      <td>7:00p</td>\n",
              "      <td>Miami Heat</td>\n",
              "      <td>109</td>\n",
              "      <td>Orlando Magic</td>\n",
              "      <td>116</td>\n",
              "      <td>Box Score</td>\n",
              "      <td>NaN</td>\n",
              "      <td>NaN</td>\n",
              "    </tr>\n",
              "  </tbody>\n",
              "</table>\n",
              "</div>"
            ],
            "text/plain": [
              "              Date Start (ET)    Visitor/Neutral  ...          a    b  Notes\n",
              "0  Tue Oct 17 2017      8:01p     Boston Celtics  ...  Box Score  NaN    NaN\n",
              "1  Tue Oct 17 2017     10:30p    Houston Rockets  ...  Box Score  NaN    NaN\n",
              "2  Wed Oct 18 2017      7:00p  Charlotte Hornets  ...  Box Score  NaN    NaN\n",
              "3  Wed Oct 18 2017      7:00p      Brooklyn Nets  ...  Box Score  NaN    NaN\n",
              "4  Wed Oct 18 2017      7:00p         Miami Heat  ...  Box Score  NaN    NaN\n",
              "\n",
              "[5 rows x 9 columns]"
            ]
          },
          "metadata": {
            "tags": []
          },
          "execution_count": 90
        }
      ]
    },
    {
      "cell_type": "code",
      "metadata": {
        "id": "Q9vMzvs2_8nr",
        "colab_type": "code",
        "colab": {}
      },
      "source": [
        "#test = pd.read_csv(data_filename, parse_dates=[\"Date\"])\n",
        "#test.drop(columns='Attend.', inplace=True)\n",
        "#test.columns = [\"Date\", \"Start (ET)\", \"Visitor Team\", \"VisitorPts\", \"Home Team\", \"HomePts\", \"OT?\", \"Score type\", \"Notes\"]"
      ],
      "execution_count": 0,
      "outputs": []
    },
    {
      "cell_type": "code",
      "metadata": {
        "id": "lFnoMYepAGrs",
        "colab_type": "code",
        "colab": {}
      },
      "source": [
        "#test.head()"
      ],
      "execution_count": 0,
      "outputs": []
    },
    {
      "cell_type": "code",
      "metadata": {
        "id": "0RuH1v1-A2JZ",
        "colab_type": "code",
        "colab": {}
      },
      "source": [
        "dataset = pd.read_csv(data_filename, parse_dates=[\"Date\"])\n",
        "dataset.columns = [\"Date\", \"Start (ET)\", \"Visitor Team\", \"VisitorPts\", \"Home Team\", \"HomePts\", \"OT?\", \"Score type\", \"Notes\"]"
      ],
      "execution_count": 0,
      "outputs": []
    },
    {
      "cell_type": "code",
      "metadata": {
        "id": "yrMit90_DJIZ",
        "colab_type": "code",
        "colab": {
          "base_uri": "https://localhost:8080/",
          "height": 255
        },
        "outputId": "37cce0a4-906b-4c6a-8afc-12eae6d7ec8c"
      },
      "source": [
        "print(dataset)"
      ],
      "execution_count": 92,
      "outputs": [
        {
          "output_type": "stream",
          "text": [
            "          Date Start (ET)           Visitor Team  ...        OT? Score type  Notes\n",
            "0   2017-10-17      8:01p         Boston Celtics  ...  Box Score        NaN    NaN\n",
            "1   2017-10-17     10:30p        Houston Rockets  ...  Box Score        NaN    NaN\n",
            "2   2017-10-18      7:00p      Charlotte Hornets  ...  Box Score        NaN    NaN\n",
            "3   2017-10-18      7:00p          Brooklyn Nets  ...  Box Score        NaN    NaN\n",
            "4   2017-10-18      7:00p             Miami Heat  ...  Box Score        NaN    NaN\n",
            "..         ...        ...                    ...  ...        ...        ...    ...\n",
            "99  2017-10-30     10:30p  Golden State Warriors  ...  Box Score        NaN    NaN\n",
            "100 2017-10-31      7:00p       Sacramento Kings  ...  Box Score        NaN    NaN\n",
            "101 2017-10-31      7:30p           Phoenix Suns  ...  Box Score        NaN    NaN\n",
            "102 2017-10-31      8:00p  Oklahoma City Thunder  ...  Box Score        NaN    NaN\n",
            "103 2017-10-31     10:30p        Detroit Pistons  ...  Box Score        NaN    NaN\n",
            "\n",
            "[104 rows x 9 columns]\n"
          ],
          "name": "stdout"
        }
      ]
    },
    {
      "cell_type": "code",
      "metadata": {
        "id": "tzHIrCHX7Wfy",
        "colab_type": "code",
        "colab": {
          "base_uri": "https://localhost:8080/",
          "height": 187
        },
        "outputId": "7f83347c-7074-4b88-fb4c-f8e7dddbffe9"
      },
      "source": [
        "print(dataset.dtypes)"
      ],
      "execution_count": 93,
      "outputs": [
        {
          "output_type": "stream",
          "text": [
            "Date            datetime64[ns]\n",
            "Start (ET)              object\n",
            "Visitor Team            object\n",
            "VisitorPts               int64\n",
            "Home Team               object\n",
            "HomePts                  int64\n",
            "OT?                     object\n",
            "Score type              object\n",
            "Notes                  float64\n",
            "dtype: object\n"
          ],
          "name": "stdout"
        }
      ]
    },
    {
      "cell_type": "code",
      "metadata": {
        "id": "ytxnCx6z7Z66",
        "colab_type": "code",
        "colab": {}
      },
      "source": [
        "dataset[\"HomeWin\"] = dataset[\"VisitorPts\"] < dataset[\"HomePts\"]"
      ],
      "execution_count": 0,
      "outputs": []
    },
    {
      "cell_type": "code",
      "metadata": {
        "id": "Mu3iDHlt7bun",
        "colab_type": "code",
        "colab": {
          "base_uri": "https://localhost:8080/",
          "height": 306
        },
        "outputId": "a6231d8d-f0ee-49a8-94f6-41f9aeb18093"
      },
      "source": [
        "dataset.head()"
      ],
      "execution_count": 95,
      "outputs": [
        {
          "output_type": "execute_result",
          "data": {
            "text/html": [
              "<div>\n",
              "<style scoped>\n",
              "    .dataframe tbody tr th:only-of-type {\n",
              "        vertical-align: middle;\n",
              "    }\n",
              "\n",
              "    .dataframe tbody tr th {\n",
              "        vertical-align: top;\n",
              "    }\n",
              "\n",
              "    .dataframe thead th {\n",
              "        text-align: right;\n",
              "    }\n",
              "</style>\n",
              "<table border=\"1\" class=\"dataframe\">\n",
              "  <thead>\n",
              "    <tr style=\"text-align: right;\">\n",
              "      <th></th>\n",
              "      <th>Date</th>\n",
              "      <th>Start (ET)</th>\n",
              "      <th>Visitor Team</th>\n",
              "      <th>VisitorPts</th>\n",
              "      <th>Home Team</th>\n",
              "      <th>HomePts</th>\n",
              "      <th>OT?</th>\n",
              "      <th>Score type</th>\n",
              "      <th>Notes</th>\n",
              "      <th>HomeWin</th>\n",
              "    </tr>\n",
              "  </thead>\n",
              "  <tbody>\n",
              "    <tr>\n",
              "      <th>0</th>\n",
              "      <td>2017-10-17</td>\n",
              "      <td>8:01p</td>\n",
              "      <td>Boston Celtics</td>\n",
              "      <td>99</td>\n",
              "      <td>Cleveland Cavaliers</td>\n",
              "      <td>102</td>\n",
              "      <td>Box Score</td>\n",
              "      <td>NaN</td>\n",
              "      <td>NaN</td>\n",
              "      <td>True</td>\n",
              "    </tr>\n",
              "    <tr>\n",
              "      <th>1</th>\n",
              "      <td>2017-10-17</td>\n",
              "      <td>10:30p</td>\n",
              "      <td>Houston Rockets</td>\n",
              "      <td>122</td>\n",
              "      <td>Golden State Warriors</td>\n",
              "      <td>121</td>\n",
              "      <td>Box Score</td>\n",
              "      <td>NaN</td>\n",
              "      <td>NaN</td>\n",
              "      <td>False</td>\n",
              "    </tr>\n",
              "    <tr>\n",
              "      <th>2</th>\n",
              "      <td>2017-10-18</td>\n",
              "      <td>7:00p</td>\n",
              "      <td>Charlotte Hornets</td>\n",
              "      <td>90</td>\n",
              "      <td>Detroit Pistons</td>\n",
              "      <td>102</td>\n",
              "      <td>Box Score</td>\n",
              "      <td>NaN</td>\n",
              "      <td>NaN</td>\n",
              "      <td>True</td>\n",
              "    </tr>\n",
              "    <tr>\n",
              "      <th>3</th>\n",
              "      <td>2017-10-18</td>\n",
              "      <td>7:00p</td>\n",
              "      <td>Brooklyn Nets</td>\n",
              "      <td>131</td>\n",
              "      <td>Indiana Pacers</td>\n",
              "      <td>140</td>\n",
              "      <td>Box Score</td>\n",
              "      <td>NaN</td>\n",
              "      <td>NaN</td>\n",
              "      <td>True</td>\n",
              "    </tr>\n",
              "    <tr>\n",
              "      <th>4</th>\n",
              "      <td>2017-10-18</td>\n",
              "      <td>7:00p</td>\n",
              "      <td>Miami Heat</td>\n",
              "      <td>109</td>\n",
              "      <td>Orlando Magic</td>\n",
              "      <td>116</td>\n",
              "      <td>Box Score</td>\n",
              "      <td>NaN</td>\n",
              "      <td>NaN</td>\n",
              "      <td>True</td>\n",
              "    </tr>\n",
              "  </tbody>\n",
              "</table>\n",
              "</div>"
            ],
            "text/plain": [
              "        Date Start (ET)       Visitor Team  ...  Score type Notes  HomeWin\n",
              "0 2017-10-17      8:01p     Boston Celtics  ...         NaN   NaN     True\n",
              "1 2017-10-17     10:30p    Houston Rockets  ...         NaN   NaN    False\n",
              "2 2017-10-18      7:00p  Charlotte Hornets  ...         NaN   NaN     True\n",
              "3 2017-10-18      7:00p      Brooklyn Nets  ...         NaN   NaN     True\n",
              "4 2017-10-18      7:00p         Miami Heat  ...         NaN   NaN     True\n",
              "\n",
              "[5 rows x 10 columns]"
            ]
          },
          "metadata": {
            "tags": []
          },
          "execution_count": 95
        }
      ]
    },
    {
      "cell_type": "code",
      "metadata": {
        "id": "uv52kOwm7h3R",
        "colab_type": "code",
        "colab": {}
      },
      "source": [
        "y_true = dataset[\"HomeWin\"].values"
      ],
      "execution_count": 0,
      "outputs": []
    },
    {
      "cell_type": "code",
      "metadata": {
        "id": "zSBiaZBX7lGD",
        "colab_type": "code",
        "outputId": "43be9a8e-0584-48f5-c314-cf3d161856b1",
        "colab": {
          "base_uri": "https://localhost:8080/",
          "height": 34
        }
      },
      "source": [
        "dataset[\"HomeWin\"].mean()"
      ],
      "execution_count": 97,
      "outputs": [
        {
          "output_type": "execute_result",
          "data": {
            "text/plain": [
              "0.5480769230769231"
            ]
          },
          "metadata": {
            "tags": []
          },
          "execution_count": 97
        }
      ]
    },
    {
      "cell_type": "code",
      "metadata": {
        "id": "4kYAdB-c8l6Q",
        "colab_type": "code",
        "colab": {}
      },
      "source": [
        "from collections import defaultdict\n",
        "won_last = defaultdict(int)"
      ],
      "execution_count": 0,
      "outputs": []
    },
    {
      "cell_type": "code",
      "metadata": {
        "id": "WPcrgD4d8pxI",
        "colab_type": "code",
        "colab": {}
      },
      "source": [
        "dataset[\"HomeLastWin\"] = 0\n",
        "dataset[\"VisitorLastWin\"] = 0"
      ],
      "execution_count": 0,
      "outputs": []
    },
    {
      "cell_type": "code",
      "metadata": {
        "id": "Z0pl3PFw8uBw",
        "colab_type": "code",
        "outputId": "0fdbf28f-7690-4370-a4f8-29ce10f36055",
        "colab": {
          "base_uri": "https://localhost:8080/",
          "height": 105
        }
      },
      "source": [
        "for index, row in dataset.iterrows():\n",
        "    home_team = row[\"Home Team\"]\n",
        "    visitor_team = row[\"Visitor Team\"]\n",
        "    row[\"HomeLastWin\"] = won_last[home_team]\n",
        "    #dataset.set_value(index, \"HomeLastWin\", won_last[home_team])\n",
        "    dataset.at[index, \"HomeLastWin\"] = won_last[home_team]\n",
        "    #dataset.set_value(index, \"VisitorLastWin\", won_last[visitor_team])\n",
        "    dataset.at[index, \"VisitorLastWin\"] = won_last[visitor_team]\n",
        "\n",
        "    won_last[home_team] = int(row[\"HomeWin\"])\n",
        "    won_last[visitor_team] = 1 - int(row[\"HomeWin\"])"
      ],
      "execution_count": 100,
      "outputs": [
        {
          "output_type": "stream",
          "text": [
            "/usr/local/lib/python3.6/dist-packages/ipykernel_launcher.py:5: FutureWarning: set_value is deprecated and will be removed in a future release. Please use .at[] or .iat[] accessors instead\n",
            "  \"\"\"\n",
            "/usr/local/lib/python3.6/dist-packages/ipykernel_launcher.py:6: FutureWarning: set_value is deprecated and will be removed in a future release. Please use .at[] or .iat[] accessors instead\n",
            "  \n"
          ],
          "name": "stderr"
        }
      ]
    },
    {
      "cell_type": "code",
      "metadata": {
        "id": "dvoY2pv29BDe",
        "colab_type": "code",
        "colab": {}
      },
      "source": [
        "dataset.head(15)"
      ],
      "execution_count": 0,
      "outputs": []
    },
    {
      "cell_type": "code",
      "metadata": {
        "id": "0pViSje19XHU",
        "colab_type": "code",
        "colab": {}
      },
      "source": [
        "X_previouswins = dataset[[\"HomeLastWin\", \"VisitorLastWin\"]].values"
      ],
      "execution_count": 0,
      "outputs": []
    },
    {
      "cell_type": "code",
      "metadata": {
        "id": "92F6S_JfCVzR",
        "colab_type": "code",
        "colab": {}
      },
      "source": [
        "from sklearn.tree import DecisionTreeClassifier\n",
        "clf = DecisionTreeClassifier(random_state=14)"
      ],
      "execution_count": 0,
      "outputs": []
    },
    {
      "cell_type": "code",
      "metadata": {
        "id": "ES7B4-tYCV2n",
        "colab_type": "code",
        "colab": {}
      },
      "source": [
        "from sklearn.model_selection import cross_val_score\n",
        "import numpy as np"
      ],
      "execution_count": 0,
      "outputs": []
    },
    {
      "cell_type": "code",
      "metadata": {
        "id": "mqlNsdb9C4dF",
        "colab_type": "code",
        "outputId": "1f6c15f5-f1e9-4ed9-b1f5-88e32c5fe744",
        "colab": {
          "base_uri": "https://localhost:8080/",
          "height": 34
        }
      },
      "source": [
        "scores = cross_val_score(clf, X_previouswins, y_true,\n",
        "scoring='accuracy')\n",
        "print(\"Accuracy: {0:.1f}%\".format(np.mean(scores) * 100))"
      ],
      "execution_count": 107,
      "outputs": [
        {
          "output_type": "stream",
          "text": [
            "Accuracy: 53.0%\n"
          ],
          "name": "stdout"
        }
      ]
    },
    {
      "cell_type": "code",
      "metadata": {
        "id": "4BUfJBq9C-bV",
        "colab_type": "code",
        "colab": {}
      },
      "source": [
        "standings = pd.read_csv(\"st.csv\", skiprows=1)\n",
        "print(standings)"
      ],
      "execution_count": 0,
      "outputs": []
    },
    {
      "cell_type": "code",
      "metadata": {
        "id": "FX-pWTh6LT-F",
        "colab_type": "code",
        "colab": {}
      },
      "source": [
        "#standings.drop([21], axis=0, inplace=True)\n",
        "#print(standings)"
      ],
      "execution_count": 0,
      "outputs": []
    },
    {
      "cell_type": "code",
      "metadata": {
        "id": "kbUN-WhCPuRG",
        "colab_type": "code",
        "colab": {}
      },
      "source": [
        "#standings.to_csv('test.csv')"
      ],
      "execution_count": 0,
      "outputs": []
    },
    {
      "cell_type": "code",
      "metadata": {
        "id": "BNX1C1UEX6Tc",
        "colab_type": "code",
        "colab": {}
      },
      "source": [
        "#st =  pd.read_csv(\"test.csv\")\n",
        "#st.head()"
      ],
      "execution_count": 0,
      "outputs": []
    },
    {
      "cell_type": "code",
      "metadata": {
        "id": "KugqFHLvO8Q-",
        "colab_type": "code",
        "colab": {}
      },
      "source": [
        "#stn = st.rename(columns={'RK': 'RK2'})\n",
        "#stn = st.rename(columns={'Unnamed: 0': 'RK'})\n",
        "#print(stn)"
      ],
      "execution_count": 0,
      "outputs": []
    },
    {
      "cell_type": "code",
      "metadata": {
        "id": "wz_X1VWWFRem",
        "colab_type": "code",
        "colab": {}
      },
      "source": [
        "#from collections import defaultdict\n",
        "dataset[\"HomeTeamRanksHigher\"] = 0"
      ],
      "execution_count": 0,
      "outputs": []
    },
    {
      "cell_type": "code",
      "metadata": {
        "id": "39TkFcKVa4Z8",
        "colab_type": "code",
        "colab": {
          "base_uri": "https://localhost:8080/",
          "height": 71
        },
        "outputId": "4f2ac532-4471-4b0e-8993-3472b38bed66"
      },
      "source": [
        "for index, row in dataset.iterrows():\n",
        "    home_team = row[\"Home Team\"]\n",
        "    visitor_team = row[\"Visitor Team\"]\n",
        "    home_rank = standings[standings[\"Team\"] == home_team][\"Rk\"].values[0]\n",
        "    visitor_rank = standings[standings[\"Team\"] == visitor_team][\"Rk\"].values[0]\n",
        "    dataset.set_value(index, \"HomeTeamRanksHigher\", int(home_rank < visitor_rank))"
      ],
      "execution_count": 110,
      "outputs": [
        {
          "output_type": "stream",
          "text": [
            "/usr/local/lib/python3.6/dist-packages/ipykernel_launcher.py:6: FutureWarning: set_value is deprecated and will be removed in a future release. Please use .at[] or .iat[] accessors instead\n",
            "  \n"
          ],
          "name": "stderr"
        }
      ]
    },
    {
      "cell_type": "code",
      "metadata": {
        "id": "wtaMlzwCFbtC",
        "colab_type": "code",
        "colab": {}
      },
      "source": [
        "X_homehigher = dataset[[ \"HomeTeamRanksHigher\", \"HomeLastWin\", \"VisitorLastWin\",]].values"
      ],
      "execution_count": 0,
      "outputs": []
    },
    {
      "cell_type": "code",
      "metadata": {
        "id": "sZrNIs3qFfXR",
        "colab_type": "code",
        "outputId": "7695cbe8-86af-4d65-832e-541148215683",
        "colab": {
          "base_uri": "https://localhost:8080/",
          "height": 34
        }
      },
      "source": [
        "clf = DecisionTreeClassifier(random_state=14, criterion=\"entropy\")\n",
        "\n",
        "scores = cross_val_score(clf, X_homehigher, y_true, scoring='accuracy')\n",
        "\n",
        "print(\"Accuracy: {0:.1f}%\".format(np.mean(scores) * 100))"
      ],
      "execution_count": 112,
      "outputs": [
        {
          "output_type": "stream",
          "text": [
            "Accuracy: 66.3%\n"
          ],
          "name": "stdout"
        }
      ]
    },
    {
      "cell_type": "code",
      "metadata": {
        "id": "GmtnapwOFk8G",
        "colab_type": "code",
        "outputId": "1264cf6f-3981-450e-84a7-b768a95d5935",
        "colab": {
          "base_uri": "https://localhost:8080/",
          "height": 71
        }
      },
      "source": [
        "last_match_winner = defaultdict(int)\n",
        "dataset[\"HomeTeamWonLast\"] = 0\n",
        "\n",
        "for index, row in dataset.iterrows():\n",
        "    home_team = row[\"Home Team\"]\n",
        "    visitor_team = row[\"Visitor Team\"]\n",
        "    teams = tuple(sorted([home_team, visitor_team]))  # Sort for a consistent ordering\n",
        "    # Set in the row, who won the last encounter\n",
        "    home_team_won_last = 1 if last_match_winner[teams] == row[\"Home Team\"] else 0\n",
        "    #dataset.set_value(index, \"HomeTeamWonLast\", home_team_won_last)\n",
        "    dataset.at[index, \"HomeTeamWonLast\"] = home_team_won_last\n",
        "\n",
        "    # Who won this one?\n",
        "    winner = row[\"Home Team\"] if row[\"HomeWin\"] else row[\"Visitor Team\"]\n",
        "    last_match_winner[teams] = winner"
      ],
      "execution_count": 113,
      "outputs": [
        {
          "output_type": "stream",
          "text": [
            "/usr/local/lib/python3.6/dist-packages/ipykernel_launcher.py:10: FutureWarning: set_value is deprecated and will be removed in a future release. Please use .at[] or .iat[] accessors instead\n",
            "  # Remove the CWD from sys.path while we load stuff.\n"
          ],
          "name": "stderr"
        }
      ]
    },
    {
      "cell_type": "code",
      "metadata": {
        "id": "RyKdrHtdHpzB",
        "colab_type": "code",
        "colab": {}
      },
      "source": [
        "dataset.iloc[14:17]"
      ],
      "execution_count": 0,
      "outputs": []
    },
    {
      "cell_type": "code",
      "metadata": {
        "id": "kr-m1gVGFzRu",
        "colab_type": "code",
        "colab": {}
      },
      "source": [
        "#dataset.ix[14:25]\n",
        "dataset.loc[14:25]"
      ],
      "execution_count": 0,
      "outputs": []
    },
    {
      "cell_type": "code",
      "metadata": {
        "id": "m038RoGTF-Or",
        "colab_type": "code",
        "outputId": "d5a7d430-b8ae-4fa8-b837-ca2a8955c0b0",
        "colab": {
          "base_uri": "https://localhost:8080/",
          "height": 34
        }
      },
      "source": [
        "X_lastwinner = dataset[[ \"HomeTeamWonLast\", \"HomeTeamRanksHigher\", \"HomeLastWin\", \"VisitorLastWin\",]].values\n",
        "clf = DecisionTreeClassifier(random_state=14, criterion=\"entropy\")\n",
        "\n",
        "scores = cross_val_score(clf, X_lastwinner, y_true, scoring='accuracy')\n",
        "\n",
        "print(\"Accuracy: {0:.1f}%\".format(np.mean(scores) * 100))"
      ],
      "execution_count": 115,
      "outputs": [
        {
          "output_type": "stream",
          "text": [
            "Accuracy: 63.4%\n"
          ],
          "name": "stdout"
        }
      ]
    },
    {
      "cell_type": "code",
      "metadata": {
        "id": "N8LRXhdUGEYb",
        "colab_type": "code",
        "colab": {}
      },
      "source": [
        "from sklearn.preprocessing import LabelEncoder\n",
        "encoding = LabelEncoder()\n",
        "encoding.fit(dataset[\"Home Team\"].values)\n",
        "home_teams = encoding.transform(dataset[\"Home Team\"].values)\n",
        "visitor_teams = encoding.transform(dataset[\"Visitor Team\"].values)\n",
        "X_teams = np.vstack([home_teams, visitor_teams]).T"
      ],
      "execution_count": 0,
      "outputs": []
    },
    {
      "cell_type": "code",
      "metadata": {
        "id": "tRI1h6tKGVxW",
        "colab_type": "code",
        "outputId": "d114f0ef-f007-4e97-a14e-5fd8b6fcc974",
        "colab": {
          "base_uri": "https://localhost:8080/",
          "height": 34
        }
      },
      "source": [
        "from sklearn.preprocessing import OneHotEncoder\n",
        "onehot = OneHotEncoder()\n",
        "X_teams = onehot.fit_transform(X_teams).todense()\n",
        "\n",
        "clf = DecisionTreeClassifier(random_state=14)\n",
        "scores = cross_val_score(clf, X_teams, y_true, scoring='accuracy')\n",
        "print(\"Accuracy: {0:.1f}%\".format(np.mean(scores) * 100))"
      ],
      "execution_count": 118,
      "outputs": [
        {
          "output_type": "stream",
          "text": [
            "Accuracy: 47.0%\n"
          ],
          "name": "stdout"
        }
      ]
    },
    {
      "cell_type": "code",
      "metadata": {
        "id": "WZMWQ9SGGEki",
        "colab_type": "code",
        "outputId": "c125d721-3c62-4ae4-d2ba-85af80a294f2",
        "colab": {
          "base_uri": "https://localhost:8080/",
          "height": 34
        }
      },
      "source": [
        "from sklearn.ensemble import RandomForestClassifier\n",
        "clf = RandomForestClassifier(random_state=14)\n",
        "scores = cross_val_score(clf, X_teams, y_true, scoring='accuracy')\n",
        "print(\"Accuracy: {0:.1f}%\".format(np.mean(scores) * 100))"
      ],
      "execution_count": 119,
      "outputs": [
        {
          "output_type": "stream",
          "text": [
            "Accuracy: 46.0%\n"
          ],
          "name": "stdout"
        }
      ]
    },
    {
      "cell_type": "code",
      "metadata": {
        "id": "hXjTYDdNXxiR",
        "colab_type": "code",
        "outputId": "a671f911-8890-442f-e426-ebf1da205238",
        "colab": {
          "base_uri": "https://localhost:8080/",
          "height": 34
        }
      },
      "source": [
        "X_all = np.hstack([X_lastwinner, X_teams])\n",
        "clf = RandomForestClassifier(random_state=14)\n",
        "scores = cross_val_score(clf, X_all, y_true, scoring='accuracy')\n",
        "print(\"Accuracy: {0:.1f}%\".format(np.mean(scores) * 100))"
      ],
      "execution_count": 120,
      "outputs": [
        {
          "output_type": "stream",
          "text": [
            "Accuracy: 58.5%\n"
          ],
          "name": "stdout"
        }
      ]
    },
    {
      "cell_type": "code",
      "metadata": {
        "id": "MuVupc8eX0Z2",
        "colab_type": "code",
        "colab": {
          "base_uri": "https://localhost:8080/",
          "height": 34
        },
        "outputId": "e873be86-fb31-4979-80c8-ffbb8f1ead2e"
      },
      "source": [
        "X_all = np.hstack([X_lastwinner, X_teams])\n",
        "clf = RandomForestClassifier(random_state=14, n_estimators=250)\n",
        "scores = cross_val_score(clf, X_all, y_true, scoring='accuracy')\n",
        "print(\"Accuracy: {0:.1f}%\".format(np.mean(scores) * 100))"
      ],
      "execution_count": 121,
      "outputs": [
        {
          "output_type": "stream",
          "text": [
            "Accuracy: 57.6%\n"
          ],
          "name": "stdout"
        }
      ]
    },
    {
      "cell_type": "code",
      "metadata": {
        "id": "e_HcSQNbX14-",
        "colab_type": "code",
        "outputId": "1242d998-4b29-4b87-f1c1-d3c64fcfd5ce",
        "colab": {
          "base_uri": "https://localhost:8080/",
          "height": 34
        }
      },
      "source": [
        "from sklearn.model_selection import GridSearchCV\n",
        "parameter_space = {\n",
        "    \"max_features\": [2, 10, 'auto'],\n",
        "    \"n_estimators\": [100, 200],\n",
        "    \"criterion\": [\"gini\", \"entropy\"],\n",
        "    \"min_samples_leaf\": [2, 4, 6],\n",
        "}\n",
        "clf = RandomForestClassifier(random_state=14)\n",
        "grid = GridSearchCV(clf, parameter_space)\n",
        "grid.fit(X_all, y_true)\n",
        "print(\"Accuracy: {0:.1f}%\".format(grid.best_score_ * 100))"
      ],
      "execution_count": 122,
      "outputs": [
        {
          "output_type": "stream",
          "text": [
            "Accuracy: 56.6%\n"
          ],
          "name": "stdout"
        }
      ]
    },
    {
      "cell_type": "code",
      "metadata": {
        "id": "Fp0Fhc65X5JH",
        "colab_type": "code",
        "colab": {
          "base_uri": "https://localhost:8080/",
          "height": 153
        },
        "outputId": "1f2a5136-1e04-462f-f9da-5222e6c3f1c2"
      },
      "source": [
        "print(grid.best_estimator_)"
      ],
      "execution_count": 123,
      "outputs": [
        {
          "output_type": "stream",
          "text": [
            "RandomForestClassifier(bootstrap=True, ccp_alpha=0.0, class_weight=None,\n",
            "                       criterion='gini', max_depth=None, max_features=10,\n",
            "                       max_leaf_nodes=None, max_samples=None,\n",
            "                       min_impurity_decrease=0.0, min_impurity_split=None,\n",
            "                       min_samples_leaf=2, min_samples_split=2,\n",
            "                       min_weight_fraction_leaf=0.0, n_estimators=200,\n",
            "                       n_jobs=None, oob_score=False, random_state=14, verbose=0,\n",
            "                       warm_start=False)\n"
          ],
          "name": "stdout"
        }
      ]
    }
  ]
}
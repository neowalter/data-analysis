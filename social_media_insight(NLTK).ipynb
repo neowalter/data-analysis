{
  "nbformat": 4,
  "nbformat_minor": 0,
  "metadata": {
    "colab": {
      "name": "social media insight(NLTK)",
      "provenance": [],
      "collapsed_sections": [],
      "authorship_tag": "ABX9TyPgUCJsSn0vk4FeMeoTWSdM"
    },
    "kernelspec": {
      "name": "python3",
      "display_name": "Python 3"
    }
  },
  "cells": [
    {
      "cell_type": "markdown",
      "metadata": {
        "id": "Dvu5CVi8t2Xu",
        "colab_type": "text"
      },
      "source": [
        "# **Generate twitter**"
      ]
    },
    {
      "cell_type": "code",
      "metadata": {
        "id": "bzJw7hQewnN1",
        "colab_type": "code",
        "outputId": "2ed02c3b-92a8-45a2-bb34-155968b6ac63",
        "colab": {
          "base_uri": "https://localhost:8080/",
          "height": 122
        }
      },
      "source": [
        "pip install twitter"
      ],
      "execution_count": 0,
      "outputs": [
        {
          "output_type": "stream",
          "text": [
            "Collecting twitter\n",
            "\u001b[?25l  Downloading https://files.pythonhosted.org/packages/85/e2/f602e3f584503f03e0389491b251464f8ecfe2596ac86e6b9068fe7419d3/twitter-1.18.0-py2.py3-none-any.whl (54kB)\n",
            "\r\u001b[K     |██████                          | 10kB 17.1MB/s eta 0:00:01\r\u001b[K     |████████████                    | 20kB 2.1MB/s eta 0:00:01\r\u001b[K     |██████████████████              | 30kB 2.7MB/s eta 0:00:01\r\u001b[K     |████████████████████████        | 40kB 2.0MB/s eta 0:00:01\r\u001b[K     |██████████████████████████████▏ | 51kB 2.5MB/s eta 0:00:01\r\u001b[K     |████████████████████████████████| 61kB 2.3MB/s \n",
            "\u001b[?25hInstalling collected packages: twitter\n",
            "Successfully installed twitter-1.18.0\n"
          ],
          "name": "stdout"
        }
      ]
    },
    {
      "cell_type": "code",
      "metadata": {
        "id": "nZXyFtoVEPP9",
        "colab_type": "code",
        "colab": {}
      },
      "source": [
        "import twitter"
      ],
      "execution_count": 0,
      "outputs": []
    },
    {
      "cell_type": "code",
      "metadata": {
        "id": "nmBKA8ob_Xor",
        "colab_type": "code",
        "colab": {}
      },
      "source": [
        "consumer_key = \"3LYLKEKUNKoP3iMdADftTRV9A\"\n",
        "consumer_secret = \"Dk4uBXfaysEflN8Tz8fXm4GIHebHCWjB7s6Ustqx41ftUrjluv\"\n",
        "access_token = \"1235956152493641728-2reyP6mCanQEJLQW5juDS17E4aGww3\"\n",
        "access_token_secret = \"Rj7gDBONyyCHK2bIZVUs0ijjto92wlFj8sCtCnHHukO4Q\"\n",
        "authorization = twitter.OAuth(access_token, access_token_secret, consumer_key, consumer_secret)"
      ],
      "execution_count": 0,
      "outputs": []
    },
    {
      "cell_type": "code",
      "metadata": {
        "id": "tkx0Z5STESYY",
        "colab_type": "code",
        "colab": {}
      },
      "source": [
        "#import os\n",
        "#output_filename = os.path.join(os.path.expanduser(\"~\"), \"data\", \"datasets\", \"twitter\", \"python_tweets.json\")\n",
        "#print(output_filename)"
      ],
      "execution_count": 0,
      "outputs": []
    },
    {
      "cell_type": "code",
      "metadata": {
        "id": "Ge55SRnUp49z",
        "colab_type": "code",
        "outputId": "0b892ba2-d7a4-4525-db8f-3d2a309fc358",
        "colab": {
          "base_uri": "https://localhost:8080/",
          "height": 34
        }
      },
      "source": [
        "output_filename = \"/content/python_tweets.json\"\n",
        "print(output_filename)"
      ],
      "execution_count": 0,
      "outputs": [
        {
          "output_type": "stream",
          "text": [
            "/content/python_tweets.json\n"
          ],
          "name": "stdout"
        }
      ]
    },
    {
      "cell_type": "code",
      "metadata": {
        "id": "hGRZbABgFr66",
        "colab_type": "code",
        "colab": {}
      },
      "source": [
        "#print(output_filename)"
      ],
      "execution_count": 0,
      "outputs": []
    },
    {
      "cell_type": "code",
      "metadata": {
        "id": "afhGDn7nFtWW",
        "colab_type": "code",
        "colab": {}
      },
      "source": [
        "t = twitter.Twitter(auth=authorization)"
      ],
      "execution_count": 0,
      "outputs": []
    },
    {
      "cell_type": "code",
      "metadata": {
        "id": "cfh7TAV1GBY4",
        "colab_type": "code",
        "outputId": "6693fb22-a348-42cf-b4f8-6be613565f68",
        "colab": {
          "base_uri": "https://localhost:8080/",
          "height": 34
        }
      },
      "source": [
        "import json\n",
        "\n",
        "n_output = 0\n",
        "\n",
        "with open(output_filename, 'a') as output_file:\n",
        "    search_results = t.search.tweets(q=\"python\", count=100)['statuses']\n",
        "    for tweet in search_results:\n",
        "        if 'text' in tweet:\n",
        "            output_file.write(json.dumps(tweet))\n",
        "            output_file.write(\"\\n\\n\")\n",
        "            n_output += 1\n",
        "\n",
        "print(\"Saved {} entries\".format(n_output))\n"
      ],
      "execution_count": 0,
      "outputs": [
        {
          "output_type": "stream",
          "text": [
            "Saved 100 entries\n"
          ],
          "name": "stdout"
        }
      ]
    },
    {
      "cell_type": "code",
      "metadata": {
        "id": "FvycpuU9kGiP",
        "colab_type": "code",
        "outputId": "439e5354-b2b1-4b36-a806-c45dc1c1cb4d",
        "colab": {
          "base_uri": "https://localhost:8080/",
          "height": 340
        }
      },
      "source": [
        "import pandas as pd\n",
        "fd = pd.read_json(\"/content/python_tweets.json\", lines=True)\n",
        "print(\"fd\")"
      ],
      "execution_count": 0,
      "outputs": [
        {
          "output_type": "error",
          "ename": "ValueError",
          "evalue": "ignored",
          "traceback": [
            "\u001b[0;31m---------------------------------------------------------------------------\u001b[0m",
            "\u001b[0;31mValueError\u001b[0m                                Traceback (most recent call last)",
            "\u001b[0;32m<ipython-input-1-dc3eddc3da8d>\u001b[0m in \u001b[0;36m<module>\u001b[0;34m()\u001b[0m\n\u001b[1;32m      1\u001b[0m \u001b[0;32mimport\u001b[0m \u001b[0mpandas\u001b[0m \u001b[0;32mas\u001b[0m \u001b[0mpd\u001b[0m\u001b[0;34m\u001b[0m\u001b[0;34m\u001b[0m\u001b[0m\n\u001b[0;32m----> 2\u001b[0;31m \u001b[0mfd\u001b[0m \u001b[0;34m=\u001b[0m \u001b[0mpd\u001b[0m\u001b[0;34m.\u001b[0m\u001b[0mread_json\u001b[0m\u001b[0;34m(\u001b[0m\u001b[0;34m\"/content/python_tweets.json\"\u001b[0m\u001b[0;34m,\u001b[0m \u001b[0mlines\u001b[0m\u001b[0;34m=\u001b[0m\u001b[0;32mTrue\u001b[0m\u001b[0;34m)\u001b[0m\u001b[0;34m\u001b[0m\u001b[0;34m\u001b[0m\u001b[0m\n\u001b[0m\u001b[1;32m      3\u001b[0m \u001b[0mprint\u001b[0m\u001b[0;34m(\u001b[0m\u001b[0;34m\"fd\"\u001b[0m\u001b[0;34m)\u001b[0m\u001b[0;34m\u001b[0m\u001b[0;34m\u001b[0m\u001b[0m\n",
            "\u001b[0;32m/usr/local/lib/python3.6/dist-packages/pandas/io/json/_json.py\u001b[0m in \u001b[0;36mread_json\u001b[0;34m(path_or_buf, orient, typ, dtype, convert_axes, convert_dates, keep_default_dates, numpy, precise_float, date_unit, encoding, lines, chunksize, compression)\u001b[0m\n\u001b[1;32m    590\u001b[0m         \u001b[0;32mreturn\u001b[0m \u001b[0mjson_reader\u001b[0m\u001b[0;34m\u001b[0m\u001b[0;34m\u001b[0m\u001b[0m\n\u001b[1;32m    591\u001b[0m \u001b[0;34m\u001b[0m\u001b[0m\n\u001b[0;32m--> 592\u001b[0;31m     \u001b[0mresult\u001b[0m \u001b[0;34m=\u001b[0m \u001b[0mjson_reader\u001b[0m\u001b[0;34m.\u001b[0m\u001b[0mread\u001b[0m\u001b[0;34m(\u001b[0m\u001b[0;34m)\u001b[0m\u001b[0;34m\u001b[0m\u001b[0;34m\u001b[0m\u001b[0m\n\u001b[0m\u001b[1;32m    593\u001b[0m     \u001b[0;32mif\u001b[0m \u001b[0mshould_close\u001b[0m\u001b[0;34m:\u001b[0m\u001b[0;34m\u001b[0m\u001b[0;34m\u001b[0m\u001b[0m\n\u001b[1;32m    594\u001b[0m         \u001b[0;32mtry\u001b[0m\u001b[0;34m:\u001b[0m\u001b[0;34m\u001b[0m\u001b[0;34m\u001b[0m\u001b[0m\n",
            "\u001b[0;32m/usr/local/lib/python3.6/dist-packages/pandas/io/json/_json.py\u001b[0m in \u001b[0;36mread\u001b[0;34m(self)\u001b[0m\n\u001b[1;32m    713\u001b[0m         \u001b[0;32melif\u001b[0m \u001b[0mself\u001b[0m\u001b[0;34m.\u001b[0m\u001b[0mlines\u001b[0m\u001b[0;34m:\u001b[0m\u001b[0;34m\u001b[0m\u001b[0;34m\u001b[0m\u001b[0m\n\u001b[1;32m    714\u001b[0m             \u001b[0mdata\u001b[0m \u001b[0;34m=\u001b[0m \u001b[0mensure_str\u001b[0m\u001b[0;34m(\u001b[0m\u001b[0mself\u001b[0m\u001b[0;34m.\u001b[0m\u001b[0mdata\u001b[0m\u001b[0;34m)\u001b[0m\u001b[0;34m\u001b[0m\u001b[0;34m\u001b[0m\u001b[0m\n\u001b[0;32m--> 715\u001b[0;31m             \u001b[0mobj\u001b[0m \u001b[0;34m=\u001b[0m \u001b[0mself\u001b[0m\u001b[0;34m.\u001b[0m\u001b[0m_get_object_parser\u001b[0m\u001b[0;34m(\u001b[0m\u001b[0mself\u001b[0m\u001b[0;34m.\u001b[0m\u001b[0m_combine_lines\u001b[0m\u001b[0;34m(\u001b[0m\u001b[0mdata\u001b[0m\u001b[0;34m.\u001b[0m\u001b[0msplit\u001b[0m\u001b[0;34m(\u001b[0m\u001b[0;34m\"\\n\"\u001b[0m\u001b[0;34m)\u001b[0m\u001b[0;34m)\u001b[0m\u001b[0;34m)\u001b[0m\u001b[0;34m\u001b[0m\u001b[0;34m\u001b[0m\u001b[0m\n\u001b[0m\u001b[1;32m    716\u001b[0m         \u001b[0;32melse\u001b[0m\u001b[0;34m:\u001b[0m\u001b[0;34m\u001b[0m\u001b[0;34m\u001b[0m\u001b[0m\n\u001b[1;32m    717\u001b[0m             \u001b[0mobj\u001b[0m \u001b[0;34m=\u001b[0m \u001b[0mself\u001b[0m\u001b[0;34m.\u001b[0m\u001b[0m_get_object_parser\u001b[0m\u001b[0;34m(\u001b[0m\u001b[0mself\u001b[0m\u001b[0;34m.\u001b[0m\u001b[0mdata\u001b[0m\u001b[0;34m)\u001b[0m\u001b[0;34m\u001b[0m\u001b[0;34m\u001b[0m\u001b[0m\n",
            "\u001b[0;32m/usr/local/lib/python3.6/dist-packages/pandas/io/json/_json.py\u001b[0m in \u001b[0;36m_get_object_parser\u001b[0;34m(self, json)\u001b[0m\n\u001b[1;32m    737\u001b[0m         \u001b[0mobj\u001b[0m \u001b[0;34m=\u001b[0m \u001b[0;32mNone\u001b[0m\u001b[0;34m\u001b[0m\u001b[0;34m\u001b[0m\u001b[0m\n\u001b[1;32m    738\u001b[0m         \u001b[0;32mif\u001b[0m \u001b[0mtyp\u001b[0m \u001b[0;34m==\u001b[0m \u001b[0;34m\"frame\"\u001b[0m\u001b[0;34m:\u001b[0m\u001b[0;34m\u001b[0m\u001b[0;34m\u001b[0m\u001b[0m\n\u001b[0;32m--> 739\u001b[0;31m             \u001b[0mobj\u001b[0m \u001b[0;34m=\u001b[0m \u001b[0mFrameParser\u001b[0m\u001b[0;34m(\u001b[0m\u001b[0mjson\u001b[0m\u001b[0;34m,\u001b[0m \u001b[0;34m**\u001b[0m\u001b[0mkwargs\u001b[0m\u001b[0;34m)\u001b[0m\u001b[0;34m.\u001b[0m\u001b[0mparse\u001b[0m\u001b[0;34m(\u001b[0m\u001b[0;34m)\u001b[0m\u001b[0;34m\u001b[0m\u001b[0;34m\u001b[0m\u001b[0m\n\u001b[0m\u001b[1;32m    740\u001b[0m \u001b[0;34m\u001b[0m\u001b[0m\n\u001b[1;32m    741\u001b[0m         \u001b[0;32mif\u001b[0m \u001b[0mtyp\u001b[0m \u001b[0;34m==\u001b[0m \u001b[0;34m\"series\"\u001b[0m \u001b[0;32mor\u001b[0m \u001b[0mobj\u001b[0m \u001b[0;32mis\u001b[0m \u001b[0;32mNone\u001b[0m\u001b[0;34m:\u001b[0m\u001b[0;34m\u001b[0m\u001b[0;34m\u001b[0m\u001b[0m\n",
            "\u001b[0;32m/usr/local/lib/python3.6/dist-packages/pandas/io/json/_json.py\u001b[0m in \u001b[0;36mparse\u001b[0;34m(self)\u001b[0m\n\u001b[1;32m    847\u001b[0m \u001b[0;34m\u001b[0m\u001b[0m\n\u001b[1;32m    848\u001b[0m         \u001b[0;32melse\u001b[0m\u001b[0;34m:\u001b[0m\u001b[0;34m\u001b[0m\u001b[0;34m\u001b[0m\u001b[0m\n\u001b[0;32m--> 849\u001b[0;31m             \u001b[0mself\u001b[0m\u001b[0;34m.\u001b[0m\u001b[0m_parse_no_numpy\u001b[0m\u001b[0;34m(\u001b[0m\u001b[0;34m)\u001b[0m\u001b[0;34m\u001b[0m\u001b[0;34m\u001b[0m\u001b[0m\n\u001b[0m\u001b[1;32m    850\u001b[0m \u001b[0;34m\u001b[0m\u001b[0m\n\u001b[1;32m    851\u001b[0m         \u001b[0;32mif\u001b[0m \u001b[0mself\u001b[0m\u001b[0;34m.\u001b[0m\u001b[0mobj\u001b[0m \u001b[0;32mis\u001b[0m \u001b[0;32mNone\u001b[0m\u001b[0;34m:\u001b[0m\u001b[0;34m\u001b[0m\u001b[0;34m\u001b[0m\u001b[0m\n",
            "\u001b[0;32m/usr/local/lib/python3.6/dist-packages/pandas/io/json/_json.py\u001b[0m in \u001b[0;36m_parse_no_numpy\u001b[0;34m(self)\u001b[0m\n\u001b[1;32m   1091\u001b[0m         \u001b[0;32mif\u001b[0m \u001b[0morient\u001b[0m \u001b[0;34m==\u001b[0m \u001b[0;34m\"columns\"\u001b[0m\u001b[0;34m:\u001b[0m\u001b[0;34m\u001b[0m\u001b[0;34m\u001b[0m\u001b[0m\n\u001b[1;32m   1092\u001b[0m             self.obj = DataFrame(\n\u001b[0;32m-> 1093\u001b[0;31m                 \u001b[0mloads\u001b[0m\u001b[0;34m(\u001b[0m\u001b[0mjson\u001b[0m\u001b[0;34m,\u001b[0m \u001b[0mprecise_float\u001b[0m\u001b[0;34m=\u001b[0m\u001b[0mself\u001b[0m\u001b[0;34m.\u001b[0m\u001b[0mprecise_float\u001b[0m\u001b[0;34m)\u001b[0m\u001b[0;34m,\u001b[0m \u001b[0mdtype\u001b[0m\u001b[0;34m=\u001b[0m\u001b[0;32mNone\u001b[0m\u001b[0;34m\u001b[0m\u001b[0;34m\u001b[0m\u001b[0m\n\u001b[0m\u001b[1;32m   1094\u001b[0m             )\n\u001b[1;32m   1095\u001b[0m         \u001b[0;32melif\u001b[0m \u001b[0morient\u001b[0m \u001b[0;34m==\u001b[0m \u001b[0;34m\"split\"\u001b[0m\u001b[0;34m:\u001b[0m\u001b[0;34m\u001b[0m\u001b[0;34m\u001b[0m\u001b[0m\n",
            "\u001b[0;31mValueError\u001b[0m: Expected object or value"
          ]
        }
      ]
    },
    {
      "cell_type": "markdown",
      "metadata": {
        "id": "-ViTn_y5vAuX",
        "colab_type": "text"
      },
      "source": [
        "# **Label twitter**"
      ]
    },
    {
      "cell_type": "code",
      "metadata": {
        "id": "m4UFtU5vGGeY",
        "colab_type": "code",
        "colab": {}
      },
      "source": [
        "import json\n",
        "input_filename = \"/content/python_tweets.json\"\n",
        "labels_filename = \"/content/python_classes.json\""
      ],
      "execution_count": 0,
      "outputs": []
    },
    {
      "cell_type": "code",
      "metadata": {
        "id": "ENWfdJRKvbKG",
        "colab_type": "code",
        "colab": {}
      },
      "source": [
        "tweets = []\n",
        "with open(input_filename) as inf:\n",
        "    for line in inf:\n",
        "        if len(line.strip()) == 0:\n",
        "            continue\n",
        "        tweets.append(json.loads(line))"
      ],
      "execution_count": 0,
      "outputs": []
    },
    {
      "cell_type": "code",
      "metadata": {
        "id": "E69fk2BmvnT5",
        "colab_type": "code",
        "colab": {}
      },
      "source": [
        "import os"
      ],
      "execution_count": 0,
      "outputs": []
    },
    {
      "cell_type": "code",
      "metadata": {
        "id": "eS_NEuD3vcjr",
        "colab_type": "code",
        "colab": {}
      },
      "source": [
        "labels = []\n",
        "if os.path.exists(labels_filename):\n",
        "  with open(labels_filename) as inf:\n",
        "      labels = json.load(inf)"
      ],
      "execution_count": 0,
      "outputs": []
    },
    {
      "cell_type": "code",
      "metadata": {
        "id": "cbOJv93tvf_8",
        "colab_type": "code",
        "colab": {}
      },
      "source": [
        "def get_next_tweet():\n",
        "    return tweets[len(labels)]['text']"
      ],
      "execution_count": 0,
      "outputs": []
    },
    {
      "cell_type": "code",
      "metadata": {
        "id": "193Akp3ZwuSz",
        "colab_type": "code",
        "outputId": "73b8f7f9-f862-42c8-ca85-6ec1aa97044d",
        "colab": {
          "base_uri": "https://localhost:8080/",
          "height": 87
        }
      },
      "source": [
        "%%html\n",
        "<div name=\"tweetbox\">\n",
        "    Instructions: Click in text box. Enter a 1 if the tweet is relevant, enter 0 otherwise.<br>\n",
        "    Tweet: <div id=\"tweet_text\" value=\"text\"></div><br>\n",
        "    <input type=text id=\"capture\"></input><br>\n",
        "</div>\n",
        "\n",
        "<script>\n",
        "function set_label(label){\n",
        "    var kernel = IPython.notebook.kernel;\n",
        "    kernel.execute(\"labels.append(\" + label + \")\");\n",
        "    load_next_tweet();\n",
        "}\n",
        "\n",
        "function load_next_tweet(){\n",
        "   var code_input = \"get_next_tweet()\";\n",
        "   var kernel = IPython.notebook.kernel;\n",
        "   var callbacks = { 'iopub' : {'output' : handle_output}};\n",
        "   kernel.execute(code_input, callbacks, {silent:false});\n",
        "}\n",
        "\n",
        "function handle_output(out){\n",
        "   console.log(out);\n",
        "   var res = out.content.data[\"text/plain\"];\n",
        "   $(\"div#tweet_text\").html(res);\n",
        "}\n",
        "\n",
        "$(\"input#capture\").keypress(function(e) {\n",
        "    console.log(e);\n",
        "      if(e.which == 48) {\n",
        "        // 0 pressed\n",
        "        set_label(0);\n",
        "        $(\"input#capture\").val(\"\");\n",
        "      }else if (e.which == 49){\n",
        "        // 1 pressed\n",
        "        set_label(1);  \n",
        "        $(\"input#capture\").val(\"\");\n",
        "      }\n",
        "});\n",
        "\n",
        "load_next_tweet();\n",
        "</script>"
      ],
      "execution_count": 0,
      "outputs": [
        {
          "output_type": "display_data",
          "data": {
            "text/html": [
              "<div name=\"tweetbox\">\n",
              "    Instructions: Click in text box. Enter a 1 if the tweet is relevant, enter 0 otherwise.<br>\n",
              "    Tweet: <div id=\"tweet_text\" value=\"text\"></div><br>\n",
              "    <input type=text id=\"capture\"></input><br>\n",
              "</div>\n",
              "\n",
              "<script>\n",
              "function set_label(label){\n",
              "    var kernel = IPython.notebook.kernel;\n",
              "    kernel.execute(\"labels.append(\" + label + \")\");\n",
              "    load_next_tweet();\n",
              "}\n",
              "\n",
              "function load_next_tweet(){\n",
              "   var code_input = \"get_next_tweet()\";\n",
              "   var kernel = IPython.notebook.kernel;\n",
              "   var callbacks = { 'iopub' : {'output' : handle_output}};\n",
              "   kernel.execute(code_input, callbacks, {silent:false});\n",
              "}\n",
              "\n",
              "function handle_output(out){\n",
              "   console.log(out);\n",
              "   var res = out.content.data[\"text/plain\"];\n",
              "   $(\"div#tweet_text\").html(res);\n",
              "}\n",
              "\n",
              "$(\"input#capture\").keypress(function(e) {\n",
              "    console.log(e);\n",
              "      if(e.which == 48) {\n",
              "        // 0 pressed\n",
              "        set_label(0);\n",
              "        $(\"input#capture\").val(\"\");\n",
              "      }else if (e.which == 49){\n",
              "        // 1 pressed\n",
              "        set_label(1);  \n",
              "        $(\"input#capture\").val(\"\");\n",
              "      }\n",
              "});\n",
              "\n",
              "load_next_tweet();\n",
              "</script>"
            ],
            "text/plain": [
              "<IPython.core.display.HTML object>"
            ]
          },
          "metadata": {
            "tags": []
          }
        }
      ]
    },
    {
      "cell_type": "code",
      "metadata": {
        "id": "g_K1yPfLxLdJ",
        "colab_type": "code",
        "colab": {}
      },
      "source": [
        "#with open(labels_filename, 'w') as outf:\n",
        "#    json.dump(labels, outf)"
      ],
      "execution_count": 0,
      "outputs": []
    },
    {
      "cell_type": "markdown",
      "metadata": {
        "id": "Vh6IBfifyKP7",
        "colab_type": "text"
      },
      "source": [
        "# **Create replicable dataset**"
      ]
    },
    {
      "cell_type": "code",
      "metadata": {
        "id": "DM6MO-HqyShw",
        "colab_type": "code",
        "colab": {}
      },
      "source": [
        "import json\n",
        "import os\n",
        "input_filename = \"/content/python_tweets.json\"\n",
        "labels_filename = \"/content/python_classes.json\"\n",
        "replicable_dataset = \"/content/replicable_dataset.json\""
      ],
      "execution_count": 0,
      "outputs": []
    },
    {
      "cell_type": "code",
      "metadata": {
        "id": "hjgZ_QjiyzAR",
        "colab_type": "code",
        "colab": {}
      },
      "source": [
        "tweets = []\n",
        "with open(input_filename) as inf:\n",
        "    for line in inf:\n",
        "        if len(line.strip()) == 0:\n",
        "            continue\n",
        "        tweets.append(json.loads(line))\n",
        "if os.path.exists(labels_filename):\n",
        "    with open(labels_filename) as inf:\n",
        "          labels = json.load(inf)"
      ],
      "execution_count": 0,
      "outputs": []
    },
    {
      "cell_type": "code",
      "metadata": {
        "id": "6X3dyx48y3Q0",
        "colab_type": "code",
        "colab": {}
      },
      "source": [
        "dataset = [(tweet['id'], label) for label, tweet in zip(labels, tweets)]"
      ],
      "execution_count": 0,
      "outputs": []
    },
    {
      "cell_type": "code",
      "metadata": {
        "id": "nVshF4K8zDsl",
        "colab_type": "code",
        "outputId": "920e2cc0-88b5-4778-8803-9efcba030bed",
        "colab": {
          "base_uri": "https://localhost:8080/",
          "height": 34
        }
      },
      "source": [
        "len(dataset), len(tweets), len(labels)"
      ],
      "execution_count": 0,
      "outputs": [
        {
          "output_type": "execute_result",
          "data": {
            "text/plain": [
              "(99, 100, 99)"
            ]
          },
          "metadata": {
            "tags": []
          },
          "execution_count": 125
        }
      ]
    },
    {
      "cell_type": "code",
      "metadata": {
        "id": "29Ujk_LqzEB-",
        "colab_type": "code",
        "colab": {}
      },
      "source": [
        "with open(replicable_dataset, 'w') as outf:\n",
        "    json.dump(dataset, outf)"
      ],
      "execution_count": 0,
      "outputs": []
    },
    {
      "cell_type": "code",
      "metadata": {
        "id": "x1aOeKvhzITR",
        "colab_type": "code",
        "colab": {}
      },
      "source": [
        ""
      ],
      "execution_count": 0,
      "outputs": []
    },
    {
      "cell_type": "markdown",
      "metadata": {
        "id": "FD0hpGExzrrw",
        "colab_type": "text"
      },
      "source": [
        "# **Collect tweets**"
      ]
    },
    {
      "cell_type": "code",
      "metadata": {
        "id": "WUM-wjmqz-a7",
        "colab_type": "code",
        "colab": {}
      },
      "source": [
        "import json\n",
        "import os\n",
        "tweet_filename = \"/content/replicable_python_tweets.json\"\n",
        "labels_filename = \"/content/replicable_python_classes.json\"\n",
        "replicable_dataset = \"/content/replicable_dataset.json\""
      ],
      "execution_count": 0,
      "outputs": []
    },
    {
      "cell_type": "code",
      "metadata": {
        "id": "l6jmSymT6Pgx",
        "colab_type": "code",
        "colab": {}
      },
      "source": [
        ""
      ],
      "execution_count": 0,
      "outputs": []
    },
    {
      "cell_type": "code",
      "metadata": {
        "id": "YE--wPlS0HD5",
        "colab_type": "code",
        "colab": {}
      },
      "source": [
        "with open(replicable_dataset) as inf:\n",
        "    tweet_ids = json.load(inf)"
      ],
      "execution_count": 0,
      "outputs": []
    },
    {
      "cell_type": "code",
      "metadata": {
        "id": "EImXA1eq0JEu",
        "colab_type": "code",
        "colab": {}
      },
      "source": [
        "actual_labels = []\n",
        "label_mapping = dict(tweet_ids)"
      ],
      "execution_count": 0,
      "outputs": []
    },
    {
      "cell_type": "code",
      "metadata": {
        "id": "7UIdBxPg0LMf",
        "colab_type": "code",
        "colab": {}
      },
      "source": [
        "import twitter\n",
        "consumer_key = \"3LYLKEKUNKoP3iMdADftTRV9A\"\n",
        "consumer_secret = \"Dk4uBXfaysEflN8Tz8fXm4GIHebHCWjB7s6Ustqx41ftUrjluv\"\n",
        "access_token = \"1235956152493641728-2reyP6mCanQEJLQW5juDS17E4aGww3\"\n",
        "access_token_secret = \"Rj7gDBONyyCHK2bIZVUs0ijjto92wlFj8sCtCnHHukO4Q\"\n",
        "authorization = twitter.OAuth(access_token, access_token_secret, consumer_key, consumer_secret)"
      ],
      "execution_count": 0,
      "outputs": []
    },
    {
      "cell_type": "code",
      "metadata": {
        "id": "xoL_ib1K0VCl",
        "colab_type": "code",
        "colab": {}
      },
      "source": [
        "all_ids = [tweet_id for tweet_id, label in tweet_ids]\n",
        "\n",
        "with open(tweet_filename, 'a') as output_file:\n",
        "    # We can lookup 100 tweets at a time, which saves time in asking twitter for them\n",
        "    for start_index in range(0, len(all_ids), 100):\n",
        "        #100----900\n",
        "        id_string = \",\".join(str(i) for i in all_ids[start_index:start_index+100])\n",
        "        #100----900\n",
        "        search_results = t.statuses.lookup(_id=id_string)\n",
        "        for tweet in search_results:\n",
        "            if 'text' in tweet:\n",
        "                # Valid tweet - save to file\n",
        "                output_file.write(json.dumps(tweet))\n",
        "                output_file.write(\"\\n\\n\")\n",
        "                actual_labels.append(label_mapping[tweet['id']])"
      ],
      "execution_count": 0,
      "outputs": []
    },
    {
      "cell_type": "code",
      "metadata": {
        "id": "Itdqxqt12Q1v",
        "colab_type": "code",
        "colab": {}
      },
      "source": [
        "with open(labels_filename, 'w') as outf:\n",
        "    json.dump(actual_labels, outf)"
      ],
      "execution_count": 0,
      "outputs": []
    },
    {
      "cell_type": "code",
      "metadata": {
        "id": "Cr7aIigy2TE8",
        "colab_type": "code",
        "outputId": "2f026356-ff04-4392-df7d-6760b52021ca",
        "colab": {
          "base_uri": "https://localhost:8080/",
          "height": 34
        }
      },
      "source": [
        "len(actual_labels), len(all_ids)"
      ],
      "execution_count": 0,
      "outputs": [
        {
          "output_type": "execute_result",
          "data": {
            "text/plain": [
              "(198, 99)"
            ]
          },
          "metadata": {
            "tags": []
          },
          "execution_count": 135
        }
      ]
    },
    {
      "cell_type": "code",
      "metadata": {
        "id": "32sZEPbj2Ucr",
        "colab_type": "code",
        "colab": {}
      },
      "source": [
        ""
      ],
      "execution_count": 0,
      "outputs": []
    },
    {
      "cell_type": "markdown",
      "metadata": {
        "id": "t_kd5vRI5OjM",
        "colab_type": "text"
      },
      "source": [
        "# **Classify**"
      ]
    },
    {
      "cell_type": "code",
      "metadata": {
        "id": "X0djmiAI5ePI",
        "colab_type": "code",
        "outputId": "c7b59375-f996-4377-ab33-a864c3d1c6cd",
        "colab": {
          "base_uri": "https://localhost:8080/",
          "height": 34
        }
      },
      "source": [
        " s = \"\"\"Three Rings for the Elven-kings under the sky, Seven for the Dwarf-lords in halls of stone, Nine for Mortal Men, doomed to die, One for the Dark Lord on his dark throne In the Land of Mordor where the Shadows lie. One Ring to rule them all, One Ring to find them, One Ring to bring them all and in the darkness bind them. In the Land of Mordor where the Shadows lie. \"\"\".lower()\n",
        "words = s.split()\n",
        "from collections import Counter\n",
        "c = Counter(words)\n",
        "print(c.most_common(5))"
      ],
      "execution_count": 0,
      "outputs": [
        {
          "output_type": "stream",
          "text": [
            "[('the', 9), ('for', 4), ('in', 4), ('to', 4), ('one', 4)]\n"
          ],
          "name": "stdout"
        }
      ]
    },
    {
      "cell_type": "code",
      "metadata": {
        "id": "7MYF69PN5kb8",
        "colab_type": "code",
        "colab": {}
      },
      "source": [
        "pip install spacy"
      ],
      "execution_count": 0,
      "outputs": []
    },
    {
      "cell_type": "code",
      "metadata": {
        "id": "VqvN3F0C-ljE",
        "colab_type": "code",
        "colab": {}
      },
      "source": [
        "import spacy\n",
        "from sklearn.base import TransformerMixin\n",
        "\n",
        "# Create a spaCy parser\n",
        "nlp = spacy.load('en')\n",
        "\n",
        "\n",
        "class BagOfWords(TransformerMixin):\n",
        "    def fit(self, X, y=None):\n",
        "        return self\n",
        "    \n",
        "    def transform(self, X):\n",
        "        results = []\n",
        "        for document in X:\n",
        "            row = {}\n",
        "            for word in list(nlp(document, tag=False, parse=False, entity=False)):\n",
        "                if len(word.text.strip()):\n",
        "                    row[word.text] = True\n",
        "            results.append(row)\n",
        "        return results"
      ],
      "execution_count": 0,
      "outputs": []
    },
    {
      "cell_type": "code",
      "metadata": {
        "id": "D1Xrw7MP-sZ7",
        "colab_type": "code",
        "colab": {}
      },
      "source": [
        "from sklearn.feature_extraction import DictVectorizer\n",
        "from sklearn.naive_bayes import BernoulliNB"
      ],
      "execution_count": 0,
      "outputs": []
    },
    {
      "cell_type": "code",
      "metadata": {
        "id": "F7V9EpTa-uT7",
        "colab_type": "code",
        "colab": {}
      },
      "source": [
        "input_filename = \"/content/python_tweets.json\"\n",
        "labels_filename = \"/content/python_classes.json\"\n",
        "#replicable_dataset = \"/content/replicable_dataset.json\"\n",
        "#tweet_filename = \"/content/replicable_python_tweets.json\"\n",
        "#labels_filename = \"/content/replicable_python_classses.json\"\n",
        "#replicable_dataset = \"/content/replicable_dataset.json\""
      ],
      "execution_count": 0,
      "outputs": []
    },
    {
      "cell_type": "code",
      "metadata": {
        "id": "1v_8hPC2-8Xt",
        "colab_type": "code",
        "colab": {}
      },
      "source": [
        "import json\n",
        "\n",
        "tweets = []\n",
        "with open(input_filename) as inf:\n",
        "    for line in inf:\n",
        "        if len(line.strip()) == 0: \n",
        "            continue\n",
        "        tweets.append(json.loads(line)['text'])\n",
        "\n",
        "with open(labels_filename) as inf:\n",
        "    labels = json.load(inf)\n",
        "\n",
        "# Ensure only classified tweets are loaded\n",
        "tweets = tweets[:len(labels)]\n",
        "assert len(tweets) == len(labels)"
      ],
      "execution_count": 0,
      "outputs": []
    },
    {
      "cell_type": "code",
      "metadata": {
        "id": "AQBtV56ypr0s",
        "colab_type": "code",
        "outputId": "1af1bdd5-14f2-45bd-fe8d-b20cdf2e9c2e",
        "colab": {
          "base_uri": "https://localhost:8080/",
          "height": 34
        }
      },
      "source": [
        "len(dataset), len(tweets), len(labels)"
      ],
      "execution_count": 0,
      "outputs": [
        {
          "output_type": "execute_result",
          "data": {
            "text/plain": [
              "(99, 99, 99)"
            ]
          },
          "metadata": {
            "tags": []
          },
          "execution_count": 140
        }
      ]
    },
    {
      "cell_type": "code",
      "metadata": {
        "id": "NwlKLvuH_AyB",
        "colab_type": "code",
        "colab": {}
      },
      "source": [
        "from sklearn.pipeline import Pipeline\n",
        "\n",
        "pipeline = Pipeline([('bag-of-words', BagOfWords()), ('vectorizer', DictVectorizer()), ('naive-bayes', BernoulliNB()) ])"
      ],
      "execution_count": 0,
      "outputs": []
    },
    {
      "cell_type": "code",
      "metadata": {
        "id": "DswkJp73_BUK",
        "colab_type": "code",
        "colab": {}
      },
      "source": [
        "from sklearn.model_selection import cross_val_score\n",
        "scores = cross_val_score(pipeline, tweets, labels, scoring='f1')\n",
        "#We then print out the average of the scores:\n",
        "import numpy as np\n",
        "print(\"Score: {:.3f}\".format(np.mean(scores)))"
      ],
      "execution_count": 0,
      "outputs": []
    },
    {
      "cell_type": "code",
      "metadata": {
        "id": "wGmlAdNu_DWY",
        "colab_type": "code",
        "colab": {}
      },
      "source": [
        "model = pipeline.fit(tweets, labels)"
      ],
      "execution_count": 0,
      "outputs": []
    },
    {
      "cell_type": "code",
      "metadata": {
        "id": "49g7mi1aBjTx",
        "colab_type": "code",
        "colab": {}
      },
      "source": [
        "nb = model.named_steps['naive-bayes']\n",
        "feature_probabilities = nb.feature_log_prob_"
      ],
      "execution_count": 0,
      "outputs": []
    },
    {
      "cell_type": "code",
      "metadata": {
        "id": "XVEHH4JrBmGQ",
        "colab_type": "code",
        "colab": {}
      },
      "source": [
        "top_features = np.argsort(-nb.feature_log_prob_[1])[:50]"
      ],
      "execution_count": 0,
      "outputs": []
    },
    {
      "cell_type": "code",
      "metadata": {
        "id": "kWbb7zfkBnh_",
        "colab_type": "code",
        "colab": {}
      },
      "source": [
        "dv = model.named_steps['vectorizer']"
      ],
      "execution_count": 0,
      "outputs": []
    },
    {
      "cell_type": "code",
      "metadata": {
        "id": "qqdVOc2hBo99",
        "colab_type": "code",
        "colab": {}
      },
      "source": [
        "for i, feature_index in enumerate(top_features):\n",
        "    print(i, dv.feature_names_[feature_index], np.exp(feature_probabilities[1][feature_index]))"
      ],
      "execution_count": 0,
      "outputs": []
    },
    {
      "cell_type": "code",
      "metadata": {
        "id": "QldPNwf6Bqda",
        "colab_type": "code",
        "colab": {}
      },
      "source": [
        ""
      ],
      "execution_count": 0,
      "outputs": []
    }
  ]
}
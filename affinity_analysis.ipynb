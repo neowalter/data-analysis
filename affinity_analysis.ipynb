{
  "nbformat": 4,
  "nbformat_minor": 0,
  "metadata": {
    "colab": {
      "name": "affinity analysis.ipynb",
      "provenance": [],
      "collapsed_sections": [],
      "authorship_tag": "ABX9TyPUhjxjSt+EWRO/RdtfY9v1"
    },
    "kernelspec": {
      "name": "python3",
      "display_name": "Python 3"
    }
  },
  "cells": [
    {
      "cell_type": "code",
      "metadata": {
        "id": "6EytKafEwF1W",
        "colab_type": "code",
        "colab": {}
      },
      "source": [
        "import pandas as pd"
      ],
      "execution_count": 0,
      "outputs": []
    },
    {
      "cell_type": "code",
      "metadata": {
        "id": "MZn2TY2py_ZR",
        "colab_type": "code",
        "colab": {}
      },
      "source": [
        "all_ratings = pd.read_csv(\"u.data\", delimiter=\"\\t\", header=None, names = [\"UserID\", \"MovieID\", \"Rating\", \"Datetime\"])"
      ],
      "execution_count": 0,
      "outputs": []
    },
    {
      "cell_type": "code",
      "metadata": {
        "id": "9vC6HI8Mzf1V",
        "colab_type": "code",
        "colab": {
          "base_uri": "https://localhost:8080/",
          "height": 204
        },
        "outputId": "48e6c69f-fee7-4cea-f534-a56935b805eb"
      },
      "source": [
        "all_ratings.head()"
      ],
      "execution_count": 3,
      "outputs": [
        {
          "output_type": "execute_result",
          "data": {
            "text/html": [
              "<div>\n",
              "<style scoped>\n",
              "    .dataframe tbody tr th:only-of-type {\n",
              "        vertical-align: middle;\n",
              "    }\n",
              "\n",
              "    .dataframe tbody tr th {\n",
              "        vertical-align: top;\n",
              "    }\n",
              "\n",
              "    .dataframe thead th {\n",
              "        text-align: right;\n",
              "    }\n",
              "</style>\n",
              "<table border=\"1\" class=\"dataframe\">\n",
              "  <thead>\n",
              "    <tr style=\"text-align: right;\">\n",
              "      <th></th>\n",
              "      <th>UserID</th>\n",
              "      <th>MovieID</th>\n",
              "      <th>Rating</th>\n",
              "      <th>Datetime</th>\n",
              "    </tr>\n",
              "  </thead>\n",
              "  <tbody>\n",
              "    <tr>\n",
              "      <th>0</th>\n",
              "      <td>196</td>\n",
              "      <td>242</td>\n",
              "      <td>3</td>\n",
              "      <td>881250949</td>\n",
              "    </tr>\n",
              "    <tr>\n",
              "      <th>1</th>\n",
              "      <td>186</td>\n",
              "      <td>302</td>\n",
              "      <td>3</td>\n",
              "      <td>891717742</td>\n",
              "    </tr>\n",
              "    <tr>\n",
              "      <th>2</th>\n",
              "      <td>22</td>\n",
              "      <td>377</td>\n",
              "      <td>1</td>\n",
              "      <td>878887116</td>\n",
              "    </tr>\n",
              "    <tr>\n",
              "      <th>3</th>\n",
              "      <td>244</td>\n",
              "      <td>51</td>\n",
              "      <td>2</td>\n",
              "      <td>880606923</td>\n",
              "    </tr>\n",
              "    <tr>\n",
              "      <th>4</th>\n",
              "      <td>166</td>\n",
              "      <td>346</td>\n",
              "      <td>1</td>\n",
              "      <td>886397596</td>\n",
              "    </tr>\n",
              "  </tbody>\n",
              "</table>\n",
              "</div>"
            ],
            "text/plain": [
              "   UserID  MovieID  Rating   Datetime\n",
              "0     196      242       3  881250949\n",
              "1     186      302       3  891717742\n",
              "2      22      377       1  878887116\n",
              "3     244       51       2  880606923\n",
              "4     166      346       1  886397596"
            ]
          },
          "metadata": {
            "tags": []
          },
          "execution_count": 3
        }
      ]
    },
    {
      "cell_type": "code",
      "metadata": {
        "id": "GuttFwVfzkKR",
        "colab_type": "code",
        "colab": {}
      },
      "source": [
        "all_ratings[\"Datetime\"] = pd.to_datetime(all_ratings['Datetime'], unit='s')"
      ],
      "execution_count": 0,
      "outputs": []
    },
    {
      "cell_type": "code",
      "metadata": {
        "id": "WH4mVVNrznBd",
        "colab_type": "code",
        "colab": {
          "base_uri": "https://localhost:8080/",
          "height": 204
        },
        "outputId": "3b232ecd-d9e9-45de-ded5-d8bdf1767600"
      },
      "source": [
        "all_ratings.head()"
      ],
      "execution_count": 5,
      "outputs": [
        {
          "output_type": "execute_result",
          "data": {
            "text/html": [
              "<div>\n",
              "<style scoped>\n",
              "    .dataframe tbody tr th:only-of-type {\n",
              "        vertical-align: middle;\n",
              "    }\n",
              "\n",
              "    .dataframe tbody tr th {\n",
              "        vertical-align: top;\n",
              "    }\n",
              "\n",
              "    .dataframe thead th {\n",
              "        text-align: right;\n",
              "    }\n",
              "</style>\n",
              "<table border=\"1\" class=\"dataframe\">\n",
              "  <thead>\n",
              "    <tr style=\"text-align: right;\">\n",
              "      <th></th>\n",
              "      <th>UserID</th>\n",
              "      <th>MovieID</th>\n",
              "      <th>Rating</th>\n",
              "      <th>Datetime</th>\n",
              "    </tr>\n",
              "  </thead>\n",
              "  <tbody>\n",
              "    <tr>\n",
              "      <th>0</th>\n",
              "      <td>196</td>\n",
              "      <td>242</td>\n",
              "      <td>3</td>\n",
              "      <td>1997-12-04 15:55:49</td>\n",
              "    </tr>\n",
              "    <tr>\n",
              "      <th>1</th>\n",
              "      <td>186</td>\n",
              "      <td>302</td>\n",
              "      <td>3</td>\n",
              "      <td>1998-04-04 19:22:22</td>\n",
              "    </tr>\n",
              "    <tr>\n",
              "      <th>2</th>\n",
              "      <td>22</td>\n",
              "      <td>377</td>\n",
              "      <td>1</td>\n",
              "      <td>1997-11-07 07:18:36</td>\n",
              "    </tr>\n",
              "    <tr>\n",
              "      <th>3</th>\n",
              "      <td>244</td>\n",
              "      <td>51</td>\n",
              "      <td>2</td>\n",
              "      <td>1997-11-27 05:02:03</td>\n",
              "    </tr>\n",
              "    <tr>\n",
              "      <th>4</th>\n",
              "      <td>166</td>\n",
              "      <td>346</td>\n",
              "      <td>1</td>\n",
              "      <td>1998-02-02 05:33:16</td>\n",
              "    </tr>\n",
              "  </tbody>\n",
              "</table>\n",
              "</div>"
            ],
            "text/plain": [
              "   UserID  MovieID  Rating            Datetime\n",
              "0     196      242       3 1997-12-04 15:55:49\n",
              "1     186      302       3 1998-04-04 19:22:22\n",
              "2      22      377       1 1997-11-07 07:18:36\n",
              "3     244       51       2 1997-11-27 05:02:03\n",
              "4     166      346       1 1998-02-02 05:33:16"
            ]
          },
          "metadata": {
            "tags": []
          },
          "execution_count": 5
        }
      ]
    },
    {
      "cell_type": "code",
      "metadata": {
        "id": "Wf1cI_8Oz3Uk",
        "colab_type": "code",
        "colab": {}
      },
      "source": [
        "all_ratings[\"Favorable\"] = all_ratings[\"Rating\"] > 3"
      ],
      "execution_count": 0,
      "outputs": []
    },
    {
      "cell_type": "code",
      "metadata": {
        "id": "-dh3NanGz6gK",
        "colab_type": "code",
        "colab": {}
      },
      "source": [
        "ratings = all_ratings[all_ratings['UserID'].isin(range(200))]"
      ],
      "execution_count": 0,
      "outputs": []
    },
    {
      "cell_type": "code",
      "metadata": {
        "id": "JQAMIUyV0ArH",
        "colab_type": "code",
        "colab": {}
      },
      "source": [
        "favorable_ratings = ratings[ratings[\"Favorable\"]]"
      ],
      "execution_count": 0,
      "outputs": []
    },
    {
      "cell_type": "code",
      "metadata": {
        "id": "ivy-Ak1-0s4W",
        "colab_type": "code",
        "colab": {
          "base_uri": "https://localhost:8080/",
          "height": 204
        },
        "outputId": "18143501-014c-438b-cf19-103cb0a2c7f1"
      },
      "source": [
        "all_ratings[10:15]"
      ],
      "execution_count": 11,
      "outputs": [
        {
          "output_type": "execute_result",
          "data": {
            "text/html": [
              "<div>\n",
              "<style scoped>\n",
              "    .dataframe tbody tr th:only-of-type {\n",
              "        vertical-align: middle;\n",
              "    }\n",
              "\n",
              "    .dataframe tbody tr th {\n",
              "        vertical-align: top;\n",
              "    }\n",
              "\n",
              "    .dataframe thead th {\n",
              "        text-align: right;\n",
              "    }\n",
              "</style>\n",
              "<table border=\"1\" class=\"dataframe\">\n",
              "  <thead>\n",
              "    <tr style=\"text-align: right;\">\n",
              "      <th></th>\n",
              "      <th>UserID</th>\n",
              "      <th>MovieID</th>\n",
              "      <th>Rating</th>\n",
              "      <th>Datetime</th>\n",
              "      <th>Favorable</th>\n",
              "    </tr>\n",
              "  </thead>\n",
              "  <tbody>\n",
              "    <tr>\n",
              "      <th>10</th>\n",
              "      <td>62</td>\n",
              "      <td>257</td>\n",
              "      <td>2</td>\n",
              "      <td>1997-11-12 22:07:14</td>\n",
              "      <td>False</td>\n",
              "    </tr>\n",
              "    <tr>\n",
              "      <th>11</th>\n",
              "      <td>286</td>\n",
              "      <td>1014</td>\n",
              "      <td>5</td>\n",
              "      <td>1997-11-17 15:38:45</td>\n",
              "      <td>True</td>\n",
              "    </tr>\n",
              "    <tr>\n",
              "      <th>12</th>\n",
              "      <td>200</td>\n",
              "      <td>222</td>\n",
              "      <td>5</td>\n",
              "      <td>1997-10-05 09:05:40</td>\n",
              "      <td>True</td>\n",
              "    </tr>\n",
              "    <tr>\n",
              "      <th>13</th>\n",
              "      <td>210</td>\n",
              "      <td>40</td>\n",
              "      <td>3</td>\n",
              "      <td>1998-03-27 21:59:54</td>\n",
              "      <td>False</td>\n",
              "    </tr>\n",
              "    <tr>\n",
              "      <th>14</th>\n",
              "      <td>224</td>\n",
              "      <td>29</td>\n",
              "      <td>3</td>\n",
              "      <td>1998-02-21 23:40:57</td>\n",
              "      <td>False</td>\n",
              "    </tr>\n",
              "  </tbody>\n",
              "</table>\n",
              "</div>"
            ],
            "text/plain": [
              "    UserID  MovieID  Rating            Datetime  Favorable\n",
              "10      62      257       2 1997-11-12 22:07:14      False\n",
              "11     286     1014       5 1997-11-17 15:38:45       True\n",
              "12     200      222       5 1997-10-05 09:05:40       True\n",
              "13     210       40       3 1998-03-27 21:59:54      False\n",
              "14     224       29       3 1998-02-21 23:40:57      False"
            ]
          },
          "metadata": {
            "tags": []
          },
          "execution_count": 11
        }
      ]
    },
    {
      "cell_type": "code",
      "metadata": {
        "id": "g0Bhn51k2BOs",
        "colab_type": "code",
        "colab": {}
      },
      "source": [
        "favorable_reviews_by_users = dict((k, frozenset(v.values)) for k, v in favorable_ratings.groupby(\"UserID\")[\"MovieID\"])"
      ],
      "execution_count": 0,
      "outputs": []
    },
    {
      "cell_type": "code",
      "metadata": {
        "id": "mHvx-xl52Rjq",
        "colab_type": "code",
        "colab": {}
      },
      "source": [
        "num_favorable_by_movie = ratings[[\"MovieID\", \"Favorable\"]].groupby(\"MovieID\").sum()"
      ],
      "execution_count": 0,
      "outputs": []
    },
    {
      "cell_type": "code",
      "metadata": {
        "id": "XM558Rds2Rms",
        "colab_type": "code",
        "colab": {
          "base_uri": "https://localhost:8080/",
          "height": 235
        },
        "outputId": "a2393e8e-90cc-4d6e-f3e1-c00965c7bdc7"
      },
      "source": [
        "num_favorable_by_movie.sort_values(by=\"Favorable\", ascending=False).head()"
      ],
      "execution_count": 14,
      "outputs": [
        {
          "output_type": "execute_result",
          "data": {
            "text/html": [
              "<div>\n",
              "<style scoped>\n",
              "    .dataframe tbody tr th:only-of-type {\n",
              "        vertical-align: middle;\n",
              "    }\n",
              "\n",
              "    .dataframe tbody tr th {\n",
              "        vertical-align: top;\n",
              "    }\n",
              "\n",
              "    .dataframe thead th {\n",
              "        text-align: right;\n",
              "    }\n",
              "</style>\n",
              "<table border=\"1\" class=\"dataframe\">\n",
              "  <thead>\n",
              "    <tr style=\"text-align: right;\">\n",
              "      <th></th>\n",
              "      <th>Favorable</th>\n",
              "    </tr>\n",
              "    <tr>\n",
              "      <th>MovieID</th>\n",
              "      <th></th>\n",
              "    </tr>\n",
              "  </thead>\n",
              "  <tbody>\n",
              "    <tr>\n",
              "      <th>50</th>\n",
              "      <td>100.0</td>\n",
              "    </tr>\n",
              "    <tr>\n",
              "      <th>100</th>\n",
              "      <td>89.0</td>\n",
              "    </tr>\n",
              "    <tr>\n",
              "      <th>258</th>\n",
              "      <td>83.0</td>\n",
              "    </tr>\n",
              "    <tr>\n",
              "      <th>181</th>\n",
              "      <td>79.0</td>\n",
              "    </tr>\n",
              "    <tr>\n",
              "      <th>174</th>\n",
              "      <td>74.0</td>\n",
              "    </tr>\n",
              "  </tbody>\n",
              "</table>\n",
              "</div>"
            ],
            "text/plain": [
              "         Favorable\n",
              "MovieID           \n",
              "50           100.0\n",
              "100           89.0\n",
              "258           83.0\n",
              "181           79.0\n",
              "174           74.0"
            ]
          },
          "metadata": {
            "tags": []
          },
          "execution_count": 14
        }
      ]
    },
    {
      "cell_type": "code",
      "metadata": {
        "id": "8Fm8EK0f2fSw",
        "colab_type": "code",
        "colab": {}
      },
      "source": [
        "frequent_itemsets = {}"
      ],
      "execution_count": 0,
      "outputs": []
    },
    {
      "cell_type": "code",
      "metadata": {
        "id": "4ARrlHgo2i5A",
        "colab_type": "code",
        "colab": {}
      },
      "source": [
        "min_support = 50      # change to test different threshold"
      ],
      "execution_count": 0,
      "outputs": []
    },
    {
      "cell_type": "code",
      "metadata": {
        "id": "i_semUvz6xPc",
        "colab_type": "code",
        "colab": {}
      },
      "source": [
        "frequent_itemsets[1] = dict((frozenset((movie_id,)), row[\"Favorable\"])\n",
        "                            for movie_id, row in num_favorable_by_movie.iterrows()\n",
        "                            if row[\"Favorable\"] > min_support)"
      ],
      "execution_count": 0,
      "outputs": []
    },
    {
      "cell_type": "code",
      "metadata": {
        "id": "lJdjvBFD63Z8",
        "colab_type": "code",
        "colab": {}
      },
      "source": [
        "from collections import defaultdict\n",
        "\n",
        "def find_frequent_itemsets(favorable_reviews_by_users, k_1_itemsets, min_support):\n",
        "    counts = defaultdict(int)\n",
        "    for user, reviews in favorable_reviews_by_users.items():\n",
        "        for itemset in k_1_itemsets:\n",
        "            if itemset.issubset(reviews):\n",
        "                for other_reviewed_movie in reviews - itemset:\n",
        "                    current_superset = itemset | frozenset((other_reviewed_movie,))\n",
        "                    counts[current_superset] += 1\n",
        "    return dict([(itemset, frequency) for itemset, frequency in counts.items() if frequency >= min_support])"
      ],
      "execution_count": 0,
      "outputs": []
    },
    {
      "cell_type": "code",
      "metadata": {
        "id": "_C-rFubv-NEr",
        "colab_type": "code",
        "colab": {}
      },
      "source": [
        "import sys"
      ],
      "execution_count": 0,
      "outputs": []
    },
    {
      "cell_type": "code",
      "metadata": {
        "id": "4lCbHfDA-q0c",
        "colab_type": "code",
        "colab": {
          "base_uri": "https://localhost:8080/",
          "height": 204
        },
        "outputId": "d52c209b-f82a-4005-e8ce-d6b9ec0b76ff"
      },
      "source": [
        "frequent_itemsets = {}  # itemsets are sorted by length\n",
        "min_support = 50\n",
        "\n",
        "# k=1 candidates are the isbns with more than min_support favourable reviews\n",
        "frequent_itemsets[1] = dict((frozenset((movie_id,)), row[\"Favorable\"])\n",
        "                                for movie_id, row in num_favorable_by_movie.iterrows()\n",
        "                                if row[\"Favorable\"] > min_support)\n",
        "\n",
        "print(\"There are {} movies with more than {} favorable reviews\".format(len(frequent_itemsets[1]), min_support))\n",
        "\n",
        "sys.stdout.flush()\n",
        "for k in range(2, 20):                      # change to see more and less\n",
        "    # Generate candidates of length k, using the frequent itemsets of length k-1\n",
        "    # Only store the frequent itemsets\n",
        "    cur_frequent_itemsets = find_frequent_itemsets(favorable_reviews_by_users, frequent_itemsets[k-1], min_support)\n",
        "    if len(cur_frequent_itemsets) == 0:\n",
        "        print(\"Did not find any frequent itemsets of length {}\".format(k))\n",
        "        sys.stdout.flush()\n",
        "        break\n",
        "    else:\n",
        "        print(\"I found {} frequent itemsets of length {}\".format(len(cur_frequent_itemsets), k))\n",
        "        #print(cur_frequent_itemsets)\n",
        "        sys.stdout.flush()\n",
        "        frequent_itemsets[k] = cur_frequent_itemsets\n",
        "\n",
        "del frequent_itemsets[1]"
      ],
      "execution_count": 21,
      "outputs": [
        {
          "output_type": "stream",
          "text": [
            "There are 16 movies with more than 50 favorable reviews\n",
            "I found 93 frequent itemsets of length 2\n",
            "I found 295 frequent itemsets of length 3\n",
            "I found 593 frequent itemsets of length 4\n",
            "I found 785 frequent itemsets of length 5\n",
            "I found 677 frequent itemsets of length 6\n",
            "I found 373 frequent itemsets of length 7\n",
            "I found 126 frequent itemsets of length 8\n",
            "I found 24 frequent itemsets of length 9\n",
            "I found 2 frequent itemsets of length 10\n",
            "Did not find any frequent itemsets of length 11\n"
          ],
          "name": "stdout"
        }
      ]
    },
    {
      "cell_type": "code",
      "metadata": {
        "id": "27QelMyzANM0",
        "colab_type": "code",
        "colab": {
          "base_uri": "https://localhost:8080/",
          "height": 34
        },
        "outputId": "e04cfbc4-90a6-417c-a227-87bbc243c40d"
      },
      "source": [
        "candidate_rules = []\n",
        "for itemset_length, itemset_counts in frequent_itemsets.items():\n",
        "    for itemset in itemset_counts.keys():\n",
        "        for conclusion in itemset:\n",
        "            premise = itemset - set((conclusion,))\n",
        "            candidate_rules.append((premise, conclusion))\n",
        "print(\"There are {} candidate rules\".format(len(candidate_rules)))"
      ],
      "execution_count": 22,
      "outputs": [
        {
          "output_type": "stream",
          "text": [
            "There are 15285 candidate rules\n"
          ],
          "name": "stdout"
        }
      ]
    },
    {
      "cell_type": "code",
      "metadata": {
        "id": "0ZcMDCR4AYgq",
        "colab_type": "code",
        "colab": {
          "base_uri": "https://localhost:8080/",
          "height": 34
        },
        "outputId": "ea9cda95-395a-4196-d2c9-08c1c9b8e887"
      },
      "source": [
        "print(candidate_rules[:5])"
      ],
      "execution_count": 23,
      "outputs": [
        {
          "output_type": "stream",
          "text": [
            "[(frozenset({7}), 1), (frozenset({1}), 7), (frozenset({50}), 1), (frozenset({1}), 50), (frozenset({1}), 56)]\n"
          ],
          "name": "stdout"
        }
      ]
    },
    {
      "cell_type": "code",
      "metadata": {
        "id": "8KVfgVYHAeKa",
        "colab_type": "code",
        "colab": {}
      },
      "source": [
        "correct_counts = defaultdict(int)\n",
        "incorrect_counts = defaultdict(int)\n",
        "for user, reviews in favorable_reviews_by_users.items():\n",
        "    for candidate_rule in candidate_rules:\n",
        "        premise, conclusion = candidate_rule\n",
        "        if premise.issubset(reviews):\n",
        "            if conclusion in reviews:\n",
        "                correct_counts[candidate_rule] += 1\n",
        "            else:\n",
        "                incorrect_counts[candidate_rule] += 1\n",
        "rule_confidence = {candidate_rule: correct_counts[candidate_rule] / float(correct_counts[candidate_rule] + incorrect_counts[candidate_rule])\n",
        "              for candidate_rule in candidate_rules}"
      ],
      "execution_count": 0,
      "outputs": []
    },
    {
      "cell_type": "code",
      "metadata": {
        "id": "WAnPuiYaBHiN",
        "colab_type": "code",
        "colab": {}
      },
      "source": [
        "min_confidence = 0.9"
      ],
      "execution_count": 0,
      "outputs": []
    },
    {
      "cell_type": "code",
      "metadata": {
        "id": "LFLevtvXBHm7",
        "colab_type": "code",
        "colab": {
          "base_uri": "https://localhost:8080/",
          "height": 34
        },
        "outputId": "b5ecd0ba-c84e-4880-b04b-3c963e3c9ff9"
      },
      "source": [
        "rule_confidence = {rule: confidence for rule, confidence in rule_confidence.items() if confidence > min_confidence}\n",
        "print(len(rule_confidence))"
      ],
      "execution_count": 26,
      "outputs": [
        {
          "output_type": "stream",
          "text": [
            "5152\n"
          ],
          "name": "stdout"
        }
      ]
    },
    {
      "cell_type": "code",
      "metadata": {
        "id": "TLAvG4bCBNmV",
        "colab_type": "code",
        "colab": {}
      },
      "source": [
        "from operator import itemgetter\n",
        "sorted_confidence = sorted(rule_confidence.items(), key=itemgetter(1), reverse=True)"
      ],
      "execution_count": 0,
      "outputs": []
    },
    {
      "cell_type": "code",
      "metadata": {
        "id": "Ys4hDerPBPZL",
        "colab_type": "code",
        "colab": {
          "base_uri": "https://localhost:8080/",
          "height": 357
        },
        "outputId": "7910d78f-99af-4120-c6dc-6da4d14b0d68"
      },
      "source": [
        "for index in range(5):\n",
        "    print(\"Rule #{0}\".format(index + 1))\n",
        "    (premise, conclusion) = sorted_confidence[index][0]\n",
        "    print(\"Rule: If a person recommends {0} they will also recommend {1}\".format(premise, conclusion))\n",
        "    print(\" - Confidence: {0:.3f}\".format(rule_confidence[(premise, conclusion)]))\n",
        "    print(\"\")"
      ],
      "execution_count": 28,
      "outputs": [
        {
          "output_type": "stream",
          "text": [
            "Rule #1\n",
            "Rule: If a person recommends frozenset({98, 181}) they will also recommend 50\n",
            " - Confidence: 1.000\n",
            "\n",
            "Rule #2\n",
            "Rule: If a person recommends frozenset({172, 79}) they will also recommend 174\n",
            " - Confidence: 1.000\n",
            "\n",
            "Rule #3\n",
            "Rule: If a person recommends frozenset({258, 172}) they will also recommend 174\n",
            " - Confidence: 1.000\n",
            "\n",
            "Rule #4\n",
            "Rule: If a person recommends frozenset({1, 181, 7}) they will also recommend 50\n",
            " - Confidence: 1.000\n",
            "\n",
            "Rule #5\n",
            "Rule: If a person recommends frozenset({1, 172, 7}) they will also recommend 174\n",
            " - Confidence: 1.000\n",
            "\n"
          ],
          "name": "stdout"
        }
      ]
    },
    {
      "cell_type": "code",
      "metadata": {
        "id": "Upe38zlxBviI",
        "colab_type": "code",
        "colab": {}
      },
      "source": [
        "movie_name_data = pd.read_csv(\"u.item\", delimiter=\"|\", header=None, encoding = \"mac-roman\")\n",
        "movie_name_data.columns = [\"MovieID\", \"Title\", \"Release Date\", \"Video Release\", \n",
        "                           \"IMDB\", \"<UNK>\", \"Action\", \"Adventure\", \"Animation\", \"Children's\", \n",
        "                           \"Comedy\", \"Crime\", \"Documentary\", \"Drama\", \"Fantasy\", \"Film-Noir\", \n",
        "                           \"Horror\", \"Musical\", \"Mystery\", \"Romance\", \"Sci-Fi\", \"Thriller\", \"War\", \n",
        "                           \"Western\"]"
      ],
      "execution_count": 0,
      "outputs": []
    },
    {
      "cell_type": "code",
      "metadata": {
        "id": "0OwxvtyKDZgv",
        "colab_type": "code",
        "colab": {
          "base_uri": "https://localhost:8080/",
          "height": 360
        },
        "outputId": "7013743c-aa5c-45c4-992b-5d4e4cb84e6b"
      },
      "source": [
        "movie_name_data.head()"
      ],
      "execution_count": 30,
      "outputs": [
        {
          "output_type": "execute_result",
          "data": {
            "text/html": [
              "<div>\n",
              "<style scoped>\n",
              "    .dataframe tbody tr th:only-of-type {\n",
              "        vertical-align: middle;\n",
              "    }\n",
              "\n",
              "    .dataframe tbody tr th {\n",
              "        vertical-align: top;\n",
              "    }\n",
              "\n",
              "    .dataframe thead th {\n",
              "        text-align: right;\n",
              "    }\n",
              "</style>\n",
              "<table border=\"1\" class=\"dataframe\">\n",
              "  <thead>\n",
              "    <tr style=\"text-align: right;\">\n",
              "      <th></th>\n",
              "      <th>MovieID</th>\n",
              "      <th>Title</th>\n",
              "      <th>Release Date</th>\n",
              "      <th>Video Release</th>\n",
              "      <th>IMDB</th>\n",
              "      <th>&lt;UNK&gt;</th>\n",
              "      <th>Action</th>\n",
              "      <th>Adventure</th>\n",
              "      <th>Animation</th>\n",
              "      <th>Children's</th>\n",
              "      <th>Comedy</th>\n",
              "      <th>Crime</th>\n",
              "      <th>Documentary</th>\n",
              "      <th>Drama</th>\n",
              "      <th>Fantasy</th>\n",
              "      <th>Film-Noir</th>\n",
              "      <th>Horror</th>\n",
              "      <th>Musical</th>\n",
              "      <th>Mystery</th>\n",
              "      <th>Romance</th>\n",
              "      <th>Sci-Fi</th>\n",
              "      <th>Thriller</th>\n",
              "      <th>War</th>\n",
              "      <th>Western</th>\n",
              "    </tr>\n",
              "  </thead>\n",
              "  <tbody>\n",
              "    <tr>\n",
              "      <th>0</th>\n",
              "      <td>1</td>\n",
              "      <td>Toy Story (1995)</td>\n",
              "      <td>01-Jan-1995</td>\n",
              "      <td>NaN</td>\n",
              "      <td>http://us.imdb.com/M/title-exact?Toy%20Story%2...</td>\n",
              "      <td>0</td>\n",
              "      <td>0</td>\n",
              "      <td>0</td>\n",
              "      <td>1</td>\n",
              "      <td>1</td>\n",
              "      <td>1</td>\n",
              "      <td>0</td>\n",
              "      <td>0</td>\n",
              "      <td>0</td>\n",
              "      <td>0</td>\n",
              "      <td>0</td>\n",
              "      <td>0</td>\n",
              "      <td>0</td>\n",
              "      <td>0</td>\n",
              "      <td>0</td>\n",
              "      <td>0</td>\n",
              "      <td>0</td>\n",
              "      <td>0</td>\n",
              "      <td>0</td>\n",
              "    </tr>\n",
              "    <tr>\n",
              "      <th>1</th>\n",
              "      <td>2</td>\n",
              "      <td>GoldenEye (1995)</td>\n",
              "      <td>01-Jan-1995</td>\n",
              "      <td>NaN</td>\n",
              "      <td>http://us.imdb.com/M/title-exact?GoldenEye%20(...</td>\n",
              "      <td>0</td>\n",
              "      <td>1</td>\n",
              "      <td>1</td>\n",
              "      <td>0</td>\n",
              "      <td>0</td>\n",
              "      <td>0</td>\n",
              "      <td>0</td>\n",
              "      <td>0</td>\n",
              "      <td>0</td>\n",
              "      <td>0</td>\n",
              "      <td>0</td>\n",
              "      <td>0</td>\n",
              "      <td>0</td>\n",
              "      <td>0</td>\n",
              "      <td>0</td>\n",
              "      <td>0</td>\n",
              "      <td>1</td>\n",
              "      <td>0</td>\n",
              "      <td>0</td>\n",
              "    </tr>\n",
              "    <tr>\n",
              "      <th>2</th>\n",
              "      <td>3</td>\n",
              "      <td>Four Rooms (1995)</td>\n",
              "      <td>01-Jan-1995</td>\n",
              "      <td>NaN</td>\n",
              "      <td>http://us.imdb.com/M/title-exact?Four%20Rooms%...</td>\n",
              "      <td>0</td>\n",
              "      <td>0</td>\n",
              "      <td>0</td>\n",
              "      <td>0</td>\n",
              "      <td>0</td>\n",
              "      <td>0</td>\n",
              "      <td>0</td>\n",
              "      <td>0</td>\n",
              "      <td>0</td>\n",
              "      <td>0</td>\n",
              "      <td>0</td>\n",
              "      <td>0</td>\n",
              "      <td>0</td>\n",
              "      <td>0</td>\n",
              "      <td>0</td>\n",
              "      <td>0</td>\n",
              "      <td>1</td>\n",
              "      <td>0</td>\n",
              "      <td>0</td>\n",
              "    </tr>\n",
              "    <tr>\n",
              "      <th>3</th>\n",
              "      <td>4</td>\n",
              "      <td>Get Shorty (1995)</td>\n",
              "      <td>01-Jan-1995</td>\n",
              "      <td>NaN</td>\n",
              "      <td>http://us.imdb.com/M/title-exact?Get%20Shorty%...</td>\n",
              "      <td>0</td>\n",
              "      <td>1</td>\n",
              "      <td>0</td>\n",
              "      <td>0</td>\n",
              "      <td>0</td>\n",
              "      <td>1</td>\n",
              "      <td>0</td>\n",
              "      <td>0</td>\n",
              "      <td>1</td>\n",
              "      <td>0</td>\n",
              "      <td>0</td>\n",
              "      <td>0</td>\n",
              "      <td>0</td>\n",
              "      <td>0</td>\n",
              "      <td>0</td>\n",
              "      <td>0</td>\n",
              "      <td>0</td>\n",
              "      <td>0</td>\n",
              "      <td>0</td>\n",
              "    </tr>\n",
              "    <tr>\n",
              "      <th>4</th>\n",
              "      <td>5</td>\n",
              "      <td>Copycat (1995)</td>\n",
              "      <td>01-Jan-1995</td>\n",
              "      <td>NaN</td>\n",
              "      <td>http://us.imdb.com/M/title-exact?Copycat%20(1995)</td>\n",
              "      <td>0</td>\n",
              "      <td>0</td>\n",
              "      <td>0</td>\n",
              "      <td>0</td>\n",
              "      <td>0</td>\n",
              "      <td>0</td>\n",
              "      <td>1</td>\n",
              "      <td>0</td>\n",
              "      <td>1</td>\n",
              "      <td>0</td>\n",
              "      <td>0</td>\n",
              "      <td>0</td>\n",
              "      <td>0</td>\n",
              "      <td>0</td>\n",
              "      <td>0</td>\n",
              "      <td>0</td>\n",
              "      <td>1</td>\n",
              "      <td>0</td>\n",
              "      <td>0</td>\n",
              "    </tr>\n",
              "  </tbody>\n",
              "</table>\n",
              "</div>"
            ],
            "text/plain": [
              "   MovieID              Title Release Date  ...  Thriller War  Western\n",
              "0        1   Toy Story (1995)  01-Jan-1995  ...         0   0        0\n",
              "1        2   GoldenEye (1995)  01-Jan-1995  ...         1   0        0\n",
              "2        3  Four Rooms (1995)  01-Jan-1995  ...         1   0        0\n",
              "3        4  Get Shorty (1995)  01-Jan-1995  ...         0   0        0\n",
              "4        5     Copycat (1995)  01-Jan-1995  ...         1   0        0\n",
              "\n",
              "[5 rows x 24 columns]"
            ]
          },
          "metadata": {
            "tags": []
          },
          "execution_count": 30
        }
      ]
    },
    {
      "cell_type": "code",
      "metadata": {
        "id": "8dZBe8EADhSI",
        "colab_type": "code",
        "colab": {}
      },
      "source": [
        "def get_movie_name(movie_id):\n",
        "    title_object = movie_name_data[movie_name_data[\"MovieID\"] == movie_id][\"Title\"]\n",
        "    title = title_object.values[0]\n",
        "    return title"
      ],
      "execution_count": 0,
      "outputs": []
    },
    {
      "cell_type": "code",
      "metadata": {
        "id": "MHWY2q65Do74",
        "colab_type": "code",
        "colab": {
          "base_uri": "https://localhost:8080/",
          "height": 34
        },
        "outputId": "8ea60636-662f-4fb9-fcda-087d544b4525"
      },
      "source": [
        "get_movie_name(4)"
      ],
      "execution_count": 32,
      "outputs": [
        {
          "output_type": "execute_result",
          "data": {
            "text/plain": [
              "'Get Shorty (1995)'"
            ]
          },
          "metadata": {
            "tags": []
          },
          "execution_count": 32
        }
      ]
    },
    {
      "cell_type": "code",
      "metadata": {
        "id": "GzNjKNCnDuQF",
        "colab_type": "code",
        "colab": {
          "base_uri": "https://localhost:8080/",
          "height": 377
        },
        "outputId": "1f2d1776-b0a1-489b-a848-b1de4d455103"
      },
      "source": [
        "for index in range(5):\n",
        "    print(\"Rule #{0}\".format(index + 1))\n",
        "    (premise, conclusion) = sorted_confidence[index][0]\n",
        "    premise_names = \", \".join(get_movie_name(idx) for idx in premise)\n",
        "    conclusion_name = get_movie_name(conclusion)\n",
        "    print(\"Rule: If a person recommends {0} they will also recommend {1}\".format(premise_names, conclusion_name))\n",
        "    print(\" - Confidence: {0:.3f}\".format(rule_confidence[(premise, conclusion)]))\n",
        "    print(\"\")"
      ],
      "execution_count": 33,
      "outputs": [
        {
          "output_type": "stream",
          "text": [
            "Rule #1\n",
            "Rule: If a person recommends Silence of the Lambs, The (1991), Return of the Jedi (1983) they will also recommend Star Wars (1977)\n",
            " - Confidence: 1.000\n",
            "\n",
            "Rule #2\n",
            "Rule: If a person recommends Empire Strikes Back, The (1980), Fugitive, The (1993) they will also recommend Raiders of the Lost Ark (1981)\n",
            " - Confidence: 1.000\n",
            "\n",
            "Rule #3\n",
            "Rule: If a person recommends Contact (1997), Empire Strikes Back, The (1980) they will also recommend Raiders of the Lost Ark (1981)\n",
            " - Confidence: 1.000\n",
            "\n",
            "Rule #4\n",
            "Rule: If a person recommends Toy Story (1995), Return of the Jedi (1983), Twelve Monkeys (1995) they will also recommend Star Wars (1977)\n",
            " - Confidence: 1.000\n",
            "\n",
            "Rule #5\n",
            "Rule: If a person recommends Toy Story (1995), Empire Strikes Back, The (1980), Twelve Monkeys (1995) they will also recommend Raiders of the Lost Ark (1981)\n",
            " - Confidence: 1.000\n",
            "\n"
          ],
          "name": "stdout"
        }
      ]
    },
    {
      "cell_type": "code",
      "metadata": {
        "id": "uRDfu-7fEyHF",
        "colab_type": "code",
        "colab": {}
      },
      "source": [
        "test_dataset = all_ratings[~all_ratings['UserID'].isin(range(200))]\n",
        "test_favorable = test_dataset[test_dataset[\"Favorable\"]]\n",
        "test_favorable_by_users = dict((k, frozenset(v.values)) for k, v in test_favorable.groupby(\"UserID\")[\"MovieID\"])"
      ],
      "execution_count": 0,
      "outputs": []
    },
    {
      "cell_type": "code",
      "metadata": {
        "id": "yfW_1mlkEe9Q",
        "colab_type": "code",
        "colab": {}
      },
      "source": [
        "correct_counts = defaultdict(int)\n",
        "incorrect_counts = defaultdict(int)\n",
        "for user, reviews in test_favorable_by_users.items():\n",
        "    for candidate_rule in candidate_rules:\n",
        "        premise, conclusion = candidate_rule\n",
        "        if premise.issubset(reviews):\n",
        "            if conclusion in reviews:\n",
        "                correct_counts[candidate_rule] += 1\n",
        "            else:\n",
        "                incorrect_counts[candidate_rule] += 1"
      ],
      "execution_count": 0,
      "outputs": []
    },
    {
      "cell_type": "code",
      "metadata": {
        "id": "k-_a0mecFCux",
        "colab_type": "code",
        "colab": {
          "base_uri": "https://localhost:8080/",
          "height": 34
        },
        "outputId": "a1feb95e-f6b7-425a-82b4-6e68d4933e33"
      },
      "source": [
        "test_confidence = {candidate_rule:\n",
        "                   (correct_counts[candidate_rule] / float(correct_counts[candidate_rule] + incorrect_counts[candidate_rule]))\n",
        "                   for candidate_rule in rule_confidence}\n",
        "print(len(test_confidence))"
      ],
      "execution_count": 36,
      "outputs": [
        {
          "output_type": "stream",
          "text": [
            "5152\n"
          ],
          "name": "stdout"
        }
      ]
    },
    {
      "cell_type": "code",
      "metadata": {
        "id": "9DFADK2bFZur",
        "colab_type": "code",
        "colab": {
          "base_uri": "https://localhost:8080/",
          "height": 462
        },
        "outputId": "6787da2a-4ea8-44dd-d303-7761f2aa1280"
      },
      "source": [
        "for index in range(5):\n",
        "    print(\"Rule #{0}\".format(index + 1))\n",
        "    (premise, conclusion) = sorted_confidence[index][0]\n",
        "    premise_names = \", \".join(get_movie_name(idx) for idx in premise)\n",
        "    conclusion_name = get_movie_name(conclusion)\n",
        "    print(\"Rule: If a person recommends {0} they will also recommend {1}\".format(premise_names, conclusion_name))\n",
        "    print(\" - Train Confidence: {0:.3f}\".format(rule_confidence.get((premise, conclusion), -1)))\n",
        "    print(\" - Test Confidence: {0:.3f}\".format(test_confidence.get((premise, conclusion), -1)))\n",
        "    print(\"\")"
      ],
      "execution_count": 37,
      "outputs": [
        {
          "output_type": "stream",
          "text": [
            "Rule #1\n",
            "Rule: If a person recommends Silence of the Lambs, The (1991), Return of the Jedi (1983) they will also recommend Star Wars (1977)\n",
            " - Train Confidence: 1.000\n",
            " - Test Confidence: 0.936\n",
            "\n",
            "Rule #2\n",
            "Rule: If a person recommends Empire Strikes Back, The (1980), Fugitive, The (1993) they will also recommend Raiders of the Lost Ark (1981)\n",
            " - Train Confidence: 1.000\n",
            " - Test Confidence: 0.876\n",
            "\n",
            "Rule #3\n",
            "Rule: If a person recommends Contact (1997), Empire Strikes Back, The (1980) they will also recommend Raiders of the Lost Ark (1981)\n",
            " - Train Confidence: 1.000\n",
            " - Test Confidence: 0.841\n",
            "\n",
            "Rule #4\n",
            "Rule: If a person recommends Toy Story (1995), Return of the Jedi (1983), Twelve Monkeys (1995) they will also recommend Star Wars (1977)\n",
            " - Train Confidence: 1.000\n",
            " - Test Confidence: 0.932\n",
            "\n",
            "Rule #5\n",
            "Rule: If a person recommends Toy Story (1995), Empire Strikes Back, The (1980), Twelve Monkeys (1995) they will also recommend Raiders of the Lost Ark (1981)\n",
            " - Train Confidence: 1.000\n",
            " - Test Confidence: 0.903\n",
            "\n"
          ],
          "name": "stdout"
        }
      ]
    },
    {
      "cell_type": "markdown",
      "metadata": {
        "id": "FyzndWPCGd3r",
        "colab_type": "text"
      },
      "source": [
        "# **little recommendation application**"
      ]
    },
    {
      "cell_type": "code",
      "metadata": {
        "id": "6JaFIP9lGqHL",
        "colab_type": "code",
        "colab": {}
      },
      "source": [
        "import pandas as pd\n",
        "from operator import itemgetter\n",
        "import sys\n",
        "from collections import defaultdict\n",
        "import os\n",
        "from pathlib import Path\n",
        "\n",
        "data_file = input(\"please input the data file name: \")\n",
        "data_names = str(input(\"please input the data names: for example 'UserID', 'MovieID', 'Rating', 'Datetime'\"))\n",
        "all_ratings = pd.read_csv(data_file, delimiter=\"\\t\", header=None, names = [data_names])\n",
        "all_ratings[\"Datetime\"] = pd.to_datetime(all_ratings['Datetime'], unit='s')\n",
        "\n",
        "movie_name_filename = input(\"please input the data file name: \")\n",
        "movie_name_data = pd.read_csv(movie_name_filename, delimiter=\"|\", header=None, encoding = \"mac-roman\")\n",
        "Movies_names = str(input('please input the Movies category names: for example \"MovieID\", \"Title\", \"Release Date\", \"Video Release\", \"IMDB\", \"<UNK>\", \"Action\", \"Adventure\",\n",
        "                           \"Animation\", \"Children's\", \"Comedy\", \"Crime\", \"Documentary\", \"Drama\", \"Fantasy\", \"Film-Noir\",\n",
        "                           \"Horror\", \"Musical\", \"Mystery\", \"Romance\", \"Sci-Fi\", \"Thriller\", \"War\", \"Western\"'))\n",
        "movie_name_data.columns = [Movies_names]\n",
        "\n",
        "def get_movie_name(movie_id):\n",
        "    title_object = movie_name_data[movie_name_data[\"MovieID\"] == movie_id][\"Title\"]\n",
        "    title = title_object.values[0]\n",
        "    return title\n",
        "\n",
        "all_ratings[\"MoviesNames\"] = get_movie_name(all_ratings[\"MovieID\"])\n",
        "\n",
        "print(\"data loading compelete\")\n",
        "print(\"\")\n",
        "print(all_ratings.describe())\n",
        "print(\"\")\n",
        "\n",
        "N_threshold = int(input(\"please input the rating threshold: \"))\n",
        "all_ratings[\"Favorable\"] = all_ratings[\"Rating\"] > N_threshold\n",
        "\n",
        "print(\"\")\n",
        "Users_threshold = int(input(\"please input the users threshold: \"))\n",
        "ratings = all_ratings[all_ratings['UserID'].isin(range(Users_threshold))]\n",
        "\n",
        "favorable_ratings = ratings[ratings[\"Favorable\"]]\n",
        "favorable_reviews_by_users = dict((k, frozenset(v.values)) for k, v in favorable_ratings.groupby(\"UserID\")[\"MoviesNames\"])\n",
        "num_favorable_by_movie = ratings[[\"MoviesNames\", \"Favorable\"]].groupby(\"MoviesNames\").sum()\n",
        "\n",
        "print(\"the 5 most popular movies are: \")\n",
        "print(num_favorable_by_movie.sort_values(by=\"Favorable\", ascending=False).head())\n",
        "print(\"\")\n",
        "\n",
        "frequent_itemsets = {}\n",
        "N_support = int(input(\"please input the support threshold: \"))\n",
        "min_support = N_support\n",
        "\n",
        "def find_frequent_itemsets(favorable_reviews_by_users, k_1_itemsets, min_support):\n",
        "    counts = defaultdict(int)\n",
        "    for user, reviews in favorable_reviews_by_users.items():\n",
        "        for itemset in k_1_itemsets:\n",
        "            if itemset.issubset(reviews):\n",
        "                for other_reviewed_movie in reviews - itemset:\n",
        "                    current_superset = itemset | frozenset((other_reviewed_movie,))\n",
        "                    counts[current_superset] += 1\n",
        "    return dict([(itemset, frequency) for itemset, frequency in counts.items() if frequency >= min_support])\n",
        "\n",
        "frequent_itemsets[1] = dict((frozenset((movie_id,)), row[\"Favorable\"])\n",
        "                            for movie_id, row in num_favorable_by_movie.iterrows()\n",
        "                            if row[\"Favorable\"] > min_support)\n",
        "print(\"There are {} movies with more than {} favorable reviews\".format(len(frequent_itemsets[1]), \n",
        "                                                                       min_support))\n",
        "sys.stdout.flush()\n",
        "print(\"\")\n",
        "\n",
        "Items_range = int(input(\"please input the items maximum range: \"))\n",
        "for k in range(2, Items_range):\n",
        "\n",
        "    cur_frequent_itemsets = find_frequent_itemsets(favorable_reviews_by_users, frequent_itemsets[k-1],\n",
        "                                                   min_support)\n",
        "    if len(cur_frequent_itemsets) == 0:\n",
        "        print(\"Did not find any frequent itemsets of length {}\".format(k))\n",
        "        sys.stdout.flush()\n",
        "        break\n",
        "    else:\n",
        "        print(\"I found {} frequent itemsets of length {}\".format(len(cur_frequent_itemsets), k))\n",
        "        #print(cur_frequent_itemsets)\n",
        "        sys.stdout.flush()\n",
        "        frequent_itemsets[k] = cur_frequent_itemsets\n",
        "del frequent_itemsets[1]\n",
        "\n",
        "candidate_rules = []\n",
        "for itemset_length, itemset_counts in frequent_itemsets.items():\n",
        "    for itemset in itemset_counts.keys():\n",
        "        for conclusion in itemset:\n",
        "            premise = itemset - set((conclusion,))\n",
        "            candidate_rules.append((premise, conclusion))\n",
        "print(\"There are {} candidate rules\".format(len(candidate_rules)))\n",
        "\n",
        "correct_counts = defaultdict(int)\n",
        "incorrect_counts = defaultdict(int)\n",
        "for user, reviews in favorable_reviews_by_users.items():\n",
        "    for candidate_rule in candidate_rules:\n",
        "        premise, conclusion = candidate_rule\n",
        "        if premise.issubset(reviews):\n",
        "            if conclusion in reviews:\n",
        "                correct_counts[candidate_rule] += 1\n",
        "            else:\n",
        "                incorrect_counts[candidate_rule] += 1\n",
        "rule_confidence = {candidate_rule: correct_counts[candidate_rule] / float(correct_counts[candidate_rule] + incorrect_counts[candidate_rule])\n",
        "              for candidate_rule in candidate_rules}\n",
        "\n",
        "min_confidence = float(input(\"please input the confidence threshold: 0~1\"))\n",
        "rule_confidence = {rule: confidence for rule, confidence in rule_confidence.items() if confidence > min_confidence}\n",
        "#print(len(rule_confidence))\n",
        "\n",
        "sorted_confidence = sorted(rule_confidence.items(), key=itemgetter(1), reverse=True)\n",
        "#for index in range(5):\n",
        "#    print(\"Rule #{0}\".format(index + 1))\n",
        "#    (premise, conclusion) = sorted_confidence[index][0]\n",
        "#    premise_names = \", \".join(get_movie_name(idx) for idx in premise)\n",
        "#    conclusion_name = get_movie_name(conclusion)\n",
        "#    print(\"Rule: If a person recommends {0} they will also recommend {1}\".format(premise_names, conclusion_name))\n",
        "#    print(\" - Confidence: {0:.3f}\".format(rule_confidence[(premise, conclusion)]))\n",
        "#    print(\"\")\n",
        "\n",
        "test_dataset = all_ratings[~all_ratings['UserID'].isin(range(Users_threshold))]\n",
        "test_favorable = test_dataset[test_dataset[\"Favorable\"]]\n",
        "test_favorable_by_users = dict((k, frozenset(v.values)) for k, v in test_favorable.groupby(\"UserID\")[\"MovieID\"])\n",
        "\n",
        "correct_counts = defaultdict(int)\n",
        "incorrect_counts = defaultdict(int)\n",
        "for user, reviews in test_favorable_by_users.items():\n",
        "    for candidate_rule in candidate_rules:\n",
        "        premise, conclusion = candidate_rule\n",
        "        if premise.issubset(reviews):\n",
        "            if conclusion in reviews:\n",
        "                correct_counts[candidate_rule] += 1\n",
        "            else:\n",
        "                incorrect_counts[candidate_rule] += 1\n",
        "\n",
        "test_confidence = {candidate_rule:\n",
        "                   (correct_counts[candidate_rule] / float(correct_counts[candidate_rule] + incorrect_counts[candidate_rule]))\n",
        "                   for candidate_rule in rule_confidence}\n",
        "\n",
        "print(\"\")\n",
        "Rules_range = int(input(\"how many recomendation do you want to see: \"))\n",
        "\n",
        "for index in range(Rules_range):\n",
        "    print(\"Rule #{0}\".format(index + 1))\n",
        "    (premise, conclusion) = sorted_confidence[index][0]\n",
        "    premise_names = \", \".join(get_movie_name(idx) for idx in premise)\n",
        "    conclusion_name = get_movie_name(conclusion)\n",
        "    print(\"Rule: If a person recommends {0} they will also recommend {1}\".format(premise_names, conclusion_name))\n",
        "    print(\" - Train Confidence: {0:.3f}\".format(rule_confidence.get((premise, conclusion), -1)))\n",
        "    print(\" - Test Confidence: {0:.3f}\".format(test_confidence.get((premise, conclusion), -1)))\n",
        "    print(\"\")"
      ],
      "execution_count": 0,
      "outputs": []
    }
  ]
}
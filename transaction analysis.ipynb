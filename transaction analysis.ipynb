{
  "nbformat": 4,
  "nbformat_minor": 0,
  "metadata": {
    "colab": {
      "name": "charpter_1_assignment_xi_zhou.ipynb",
      "provenance": [],
      "collapsed_sections": []
    },
    "kernelspec": {
      "name": "python3",
      "display_name": "Python 3"
    }
  },
  "cells": [
    {
      "cell_type": "code",
      "metadata": {
        "id": "wZ2M2iXhtc-O",
        "colab_type": "code",
        "colab": {}
      },
      "source": [
        "pip install scikit-learn"
      ],
      "execution_count": 0,
      "outputs": []
    },
    {
      "cell_type": "code",
      "metadata": {
        "id": "48w1mAGmvxWv",
        "colab_type": "code",
        "colab": {}
      },
      "source": [
        "import numpy as np\n",
        "#path = \"https://github.com/PacktPublishing/Learning-Data-Mining-with-Python-Second-Edition/blob/master/Chapter01/affinity_dataset.txt\"\n",
        "dataset_filename = \"https://raw.githubusercontent.com/PacktPublishing/Learning-Data-Mining-with-Python-Second-Edition/master/Chapter01/affinity_dataset.txt\"\n",
        "X = np.loadtxt(dataset_filename)"
      ],
      "execution_count": 0,
      "outputs": []
    },
    {
      "cell_type": "code",
      "metadata": {
        "id": "JiUBUO8FyxFG",
        "colab_type": "code",
        "colab": {}
      },
      "source": [
        "print(X)"
      ],
      "execution_count": 0,
      "outputs": []
    },
    {
      "cell_type": "code",
      "metadata": {
        "id": "Eit3hLB7yJqP",
        "colab_type": "code",
        "colab": {
          "base_uri": "https://localhost:8080/",
          "height": 102
        },
        "outputId": "95336177-1cd9-4fff-8589-c388952ec40f"
      },
      "source": [
        "n_samples, n_features = X.shape\n",
        "print(X[:5])"
      ],
      "execution_count": 76,
      "outputs": [
        {
          "output_type": "stream",
          "text": [
            "[[0. 1. 0. 0. 0.]\n",
            " [1. 1. 0. 0. 0.]\n",
            " [0. 0. 1. 0. 1.]\n",
            " [1. 1. 0. 0. 0.]\n",
            " [0. 0. 1. 1. 1.]]\n"
          ],
          "name": "stdout"
        }
      ]
    },
    {
      "cell_type": "code",
      "metadata": {
        "id": "UBgjRulH4U0D",
        "colab_type": "code",
        "colab": {}
      },
      "source": [
        "features = [\"bread\",\"milk\",\"cheese\",\"apples\",\"bananas\"]"
      ],
      "execution_count": 0,
      "outputs": []
    },
    {
      "cell_type": "code",
      "metadata": {
        "id": "E_85OE9OAJrt",
        "colab_type": "code",
        "colab": {
          "base_uri": "https://localhost:8080/",
          "height": 34
        },
        "outputId": "2959a14f-e1ff-42ab-d7d9-99dc34872a52"
      },
      "source": [
        "num_apple_purchases = 0\n",
        "for sample in X:\n",
        "    if sample[3] == 1:  \n",
        "        num_apple_purchases += 1\n",
        "print(\"{0} people bought Apples\".format(num_apple_purchases))"
      ],
      "execution_count": 77,
      "outputs": [
        {
          "output_type": "stream",
          "text": [
            "43 people bought Apples\n"
          ],
          "name": "stdout"
        }
      ]
    },
    {
      "cell_type": "code",
      "metadata": {
        "id": "2fsZ0gofMB7o",
        "colab_type": "code",
        "colab": {
          "base_uri": "https://localhost:8080/",
          "height": 34
        },
        "outputId": "bd16a3ea-4e5b-4efa-cc1b-7ce36b96aa73"
      },
      "source": [
        "num_milk_purchases = 0\n",
        "for sample in X:\n",
        "    if sample[1] == 1:  \n",
        "        num_milk_purchases += 1\n",
        "print(\"{0} people bought Milk\".format(num_milk_purchases))"
      ],
      "execution_count": 78,
      "outputs": [
        {
          "output_type": "stream",
          "text": [
            "52 people bought Milk\n"
          ],
          "name": "stdout"
        }
      ]
    },
    {
      "cell_type": "code",
      "metadata": {
        "id": "YOyoew_eNlQ2",
        "colab_type": "code",
        "colab": {
          "base_uri": "https://localhost:8080/",
          "height": 34
        },
        "outputId": "a3d8f8db-cc83-4932-ea87-d150aa71ba97"
      },
      "source": [
        "num_bread_purchases = 0\n",
        "for sample in X:\n",
        "    if sample[0] == 1:  \n",
        "        num_bread_purchases += 1\n",
        "print(\"{0} people bought Bread\".format(num_bread_purchases))"
      ],
      "execution_count": 79,
      "outputs": [
        {
          "output_type": "stream",
          "text": [
            "28 people bought Bread\n"
          ],
          "name": "stdout"
        }
      ]
    },
    {
      "cell_type": "code",
      "metadata": {
        "id": "vX9yT1rhAeTY",
        "colab_type": "code",
        "colab": {
          "base_uri": "https://localhost:8080/",
          "height": 51
        },
        "outputId": "edcdd012-a2c3-451a-e4ac-f6f45a684b49"
      },
      "source": [
        "rule_valid = 0\n",
        "rule_invalid = 0\n",
        "for sample in X:\n",
        "    if sample[3] == 1:  # This person bought Apples\n",
        "        if sample[4] == 1:\n",
        "            # This person bought both Apples and Bananas\n",
        "            rule_valid += 1\n",
        "        else:\n",
        "            # This person bought Apples, but not Bananas\n",
        "            rule_invalid += 1\n",
        "print(\"{0} cases of the rule being valid were discovered\".format(rule_valid))\n",
        "print(\"{0} cases of the rule being invalid were discovered\".format(rule_invalid))"
      ],
      "execution_count": 80,
      "outputs": [
        {
          "output_type": "stream",
          "text": [
            "27 cases of the rule being valid were discovered\n",
            "16 cases of the rule being invalid were discovered\n"
          ],
          "name": "stdout"
        }
      ]
    },
    {
      "cell_type": "code",
      "metadata": {
        "id": "ppcp_DejBBpx",
        "colab_type": "code",
        "colab": {
          "base_uri": "https://localhost:8080/",
          "height": 51
        },
        "outputId": "1608d8f2-fb27-4e25-deab-d581f924107e"
      },
      "source": [
        "support = rule_valid  \n",
        "confidence = rule_valid / num_apple_purchases\n",
        "print(\"The support is {0} and the confidence is {1:.3f}.\".format(support, confidence))\n",
        "print(\"As a percentage, that is {0:.1f}%.\".format(100 * confidence))"
      ],
      "execution_count": 81,
      "outputs": [
        {
          "output_type": "stream",
          "text": [
            "The support is 27 and the confidence is 0.628.\n",
            "As a percentage, that is 62.8%.\n"
          ],
          "name": "stdout"
        }
      ]
    },
    {
      "cell_type": "code",
      "metadata": {
        "id": "-MwSdfbxBkwq",
        "colab_type": "code",
        "colab": {}
      },
      "source": [
        "from collections import defaultdict\n",
        "\n",
        "valid_rules = defaultdict(int)\n",
        "invalid_rules = defaultdict(int)\n",
        "num_occurences = defaultdict(int)\n",
        "\n",
        "for sample in X:\n",
        "    for premise in range(n_features):\n",
        "        if sample[premise] == 0: continue\n",
        "        \n",
        "        num_occurences[premise] += 1\n",
        "        for conclusion in range(n_features):\n",
        "            if premise == conclusion:  \n",
        "                continue\n",
        "            if sample[conclusion] == 1:\n",
        "                \n",
        "                valid_rules[(premise, conclusion)] += 1\n",
        "            else:\n",
        "                \n",
        "                invalid_rules[(premise, conclusion)] += 1\n",
        "support = valid_rules\n",
        "confidence = defaultdict(float)\n",
        "for premise, conclusion in valid_rules.keys():\n",
        "    confidence[(premise, conclusion)] = valid_rules[(premise, conclusion)] / num_occurences[premise]"
      ],
      "execution_count": 0,
      "outputs": []
    },
    {
      "cell_type": "code",
      "metadata": {
        "id": "gmEuZFm-B2TN",
        "colab_type": "code",
        "colab": {
          "base_uri": "https://localhost:8080/",
          "height": 1000
        },
        "outputId": "c8c3f886-075a-4e25-8689-a6ace560d864"
      },
      "source": [
        "for premise, conclusion in confidence:\n",
        "    premise_name = features[premise]\n",
        "    conclusion_name = features[conclusion]\n",
        "    print(\"Rule: If a person buys {0} they will also buy {1}\".format(premise_name, conclusion_name))\n",
        "    print(\" - Confidence: {0:.3f}\".format(confidence[(premise, conclusion)]))\n",
        "    print(\" - Support: {0}\".format(support[(premise, conclusion)]))\n",
        "    print(\"\")"
      ],
      "execution_count": 83,
      "outputs": [
        {
          "output_type": "stream",
          "text": [
            "Rule: If a person buys bread they will also buy milk\n",
            " - Confidence: 0.464\n",
            " - Support: 13\n",
            "\n",
            "Rule: If a person buys milk they will also buy bread\n",
            " - Confidence: 0.250\n",
            " - Support: 13\n",
            "\n",
            "Rule: If a person buys cheese they will also buy bananas\n",
            " - Confidence: 0.513\n",
            " - Support: 20\n",
            "\n",
            "Rule: If a person buys bananas they will also buy cheese\n",
            " - Confidence: 0.351\n",
            " - Support: 20\n",
            "\n",
            "Rule: If a person buys cheese they will also buy apples\n",
            " - Confidence: 0.564\n",
            " - Support: 22\n",
            "\n",
            "Rule: If a person buys apples they will also buy cheese\n",
            " - Confidence: 0.512\n",
            " - Support: 22\n",
            "\n",
            "Rule: If a person buys apples they will also buy bananas\n",
            " - Confidence: 0.628\n",
            " - Support: 27\n",
            "\n",
            "Rule: If a person buys bananas they will also buy apples\n",
            " - Confidence: 0.474\n",
            " - Support: 27\n",
            "\n",
            "Rule: If a person buys milk they will also buy apples\n",
            " - Confidence: 0.346\n",
            " - Support: 18\n",
            "\n",
            "Rule: If a person buys apples they will also buy milk\n",
            " - Confidence: 0.419\n",
            " - Support: 18\n",
            "\n",
            "Rule: If a person buys milk they will also buy bananas\n",
            " - Confidence: 0.519\n",
            " - Support: 27\n",
            "\n",
            "Rule: If a person buys bananas they will also buy milk\n",
            " - Confidence: 0.474\n",
            " - Support: 27\n",
            "\n",
            "Rule: If a person buys bread they will also buy cheese\n",
            " - Confidence: 0.179\n",
            " - Support: 5\n",
            "\n",
            "Rule: If a person buys cheese they will also buy bread\n",
            " - Confidence: 0.128\n",
            " - Support: 5\n",
            "\n",
            "Rule: If a person buys bread they will also buy bananas\n",
            " - Confidence: 0.571\n",
            " - Support: 16\n",
            "\n",
            "Rule: If a person buys bananas they will also buy bread\n",
            " - Confidence: 0.281\n",
            " - Support: 16\n",
            "\n",
            "Rule: If a person buys milk they will also buy cheese\n",
            " - Confidence: 0.212\n",
            " - Support: 11\n",
            "\n",
            "Rule: If a person buys cheese they will also buy milk\n",
            " - Confidence: 0.282\n",
            " - Support: 11\n",
            "\n",
            "Rule: If a person buys bread they will also buy apples\n",
            " - Confidence: 0.321\n",
            " - Support: 9\n",
            "\n",
            "Rule: If a person buys apples they will also buy bread\n",
            " - Confidence: 0.209\n",
            " - Support: 9\n",
            "\n"
          ],
          "name": "stdout"
        }
      ]
    },
    {
      "cell_type": "code",
      "metadata": {
        "id": "Dtdhn3LVOdGi",
        "colab_type": "code",
        "colab": {}
      },
      "source": [
        "def print_rule(premise, conclusion, support, confidence, features):\n",
        "    premise_name = features[premise]\n",
        "    conclusion_name = features[conclusion]\n",
        "    print(\"Rule: If a person buys {0} they will also buy {1}\".format(premise_name, conclusion_name))\n",
        "    print(\" - Confidence: {0:.3f}\".format(confidence[(premise, conclusion)]))\n",
        "    print(\" - Support: {0}\".format(support[(premise, conclusion)]))\n",
        "    print(\"\")"
      ],
      "execution_count": 0,
      "outputs": []
    },
    {
      "cell_type": "code",
      "metadata": {
        "id": "pYesmZ4iOlU-",
        "colab_type": "code",
        "colab": {
          "base_uri": "https://localhost:8080/",
          "height": 85
        },
        "outputId": "51bf1ecf-1fa7-4fca-e720-dadc1bcee876"
      },
      "source": [
        "premise = 1\n",
        "conclusion = 3\n",
        "print_rule(premise, conclusion, support, confidence, features)"
      ],
      "execution_count": 86,
      "outputs": [
        {
          "output_type": "stream",
          "text": [
            "Rule: If a person buys milk they will also buy apples\n",
            " - Confidence: 0.346\n",
            " - Support: 18\n",
            "\n"
          ],
          "name": "stdout"
        }
      ]
    },
    {
      "cell_type": "code",
      "metadata": {
        "id": "LP3Jzp9zOo5m",
        "colab_type": "code",
        "colab": {
          "base_uri": "https://localhost:8080/",
          "height": 357
        },
        "outputId": "7a52642f-d2d8-4647-e94d-ac014e7d96ac"
      },
      "source": [
        "from pprint import pprint\n",
        "pprint(list(support.items()))"
      ],
      "execution_count": 87,
      "outputs": [
        {
          "output_type": "stream",
          "text": [
            "[((0, 1), 13),\n",
            " ((1, 0), 13),\n",
            " ((2, 4), 20),\n",
            " ((4, 2), 20),\n",
            " ((2, 3), 22),\n",
            " ((3, 2), 22),\n",
            " ((3, 4), 27),\n",
            " ((4, 3), 27),\n",
            " ((1, 3), 18),\n",
            " ((3, 1), 18),\n",
            " ((1, 4), 27),\n",
            " ((4, 1), 27),\n",
            " ((0, 2), 5),\n",
            " ((2, 0), 5),\n",
            " ((0, 4), 16),\n",
            " ((4, 0), 16),\n",
            " ((1, 2), 11),\n",
            " ((2, 1), 11),\n",
            " ((0, 3), 9),\n",
            " ((3, 0), 9)]\n"
          ],
          "name": "stdout"
        }
      ]
    },
    {
      "cell_type": "code",
      "metadata": {
        "id": "gom-j8sSOsxh",
        "colab_type": "code",
        "colab": {}
      },
      "source": [
        "from operator import itemgetter\n",
        "sorted_support = sorted(support.items(), key=itemgetter(1), reverse=True)"
      ],
      "execution_count": 0,
      "outputs": []
    },
    {
      "cell_type": "code",
      "metadata": {
        "id": "qhvk2HUSOw2N",
        "colab_type": "code",
        "colab": {
          "base_uri": "https://localhost:8080/",
          "height": 697
        },
        "outputId": "d4f4c03c-4fce-4539-9a36-16a89d6774b3"
      },
      "source": [
        "for index in range(8):\n",
        "    print(\"Rule #{0}\".format(index + 1))\n",
        "    (premise, conclusion) = sorted_support[index][0]\n",
        "    print_rule(premise, conclusion, support, confidence, features)"
      ],
      "execution_count": 89,
      "outputs": [
        {
          "output_type": "stream",
          "text": [
            "Rule #1\n",
            "Rule: If a person buys apples they will also buy bananas\n",
            " - Confidence: 0.628\n",
            " - Support: 27\n",
            "\n",
            "Rule #2\n",
            "Rule: If a person buys bananas they will also buy apples\n",
            " - Confidence: 0.474\n",
            " - Support: 27\n",
            "\n",
            "Rule #3\n",
            "Rule: If a person buys milk they will also buy bananas\n",
            " - Confidence: 0.519\n",
            " - Support: 27\n",
            "\n",
            "Rule #4\n",
            "Rule: If a person buys bananas they will also buy milk\n",
            " - Confidence: 0.474\n",
            " - Support: 27\n",
            "\n",
            "Rule #5\n",
            "Rule: If a person buys cheese they will also buy apples\n",
            " - Confidence: 0.564\n",
            " - Support: 22\n",
            "\n",
            "Rule #6\n",
            "Rule: If a person buys apples they will also buy cheese\n",
            " - Confidence: 0.512\n",
            " - Support: 22\n",
            "\n",
            "Rule #7\n",
            "Rule: If a person buys cheese they will also buy bananas\n",
            " - Confidence: 0.513\n",
            " - Support: 20\n",
            "\n",
            "Rule #8\n",
            "Rule: If a person buys bananas they will also buy cheese\n",
            " - Confidence: 0.351\n",
            " - Support: 20\n",
            "\n"
          ],
          "name": "stdout"
        }
      ]
    },
    {
      "cell_type": "code",
      "metadata": {
        "id": "9hGUsRNpO4Q6",
        "colab_type": "code",
        "colab": {}
      },
      "source": [
        "sorted_confidence = sorted(confidence.items(), key=itemgetter(1), reverse=True)"
      ],
      "execution_count": 0,
      "outputs": []
    },
    {
      "cell_type": "code",
      "metadata": {
        "id": "R7hLrOelO7_L",
        "colab_type": "code",
        "colab": {
          "base_uri": "https://localhost:8080/",
          "height": 442
        },
        "outputId": "b69ab942-ced8-416a-eaa2-cdabeb61d4bf"
      },
      "source": [
        "for index in range(5):\n",
        "    print(\"Rule #{0}\".format(index + 1))\n",
        "    (premise, conclusion) = sorted_confidence[index][0]\n",
        "    print_rule(premise, conclusion, support, confidence, features)\n"
      ],
      "execution_count": 92,
      "outputs": [
        {
          "output_type": "stream",
          "text": [
            "Rule #1\n",
            "Rule: If a person buys apples they will also buy bananas\n",
            " - Confidence: 0.628\n",
            " - Support: 27\n",
            "\n",
            "Rule #2\n",
            "Rule: If a person buys bread they will also buy bananas\n",
            " - Confidence: 0.571\n",
            " - Support: 16\n",
            "\n",
            "Rule #3\n",
            "Rule: If a person buys cheese they will also buy apples\n",
            " - Confidence: 0.564\n",
            " - Support: 22\n",
            "\n",
            "Rule #4\n",
            "Rule: If a person buys milk they will also buy bananas\n",
            " - Confidence: 0.519\n",
            " - Support: 27\n",
            "\n",
            "Rule #5\n",
            "Rule: If a person buys cheese they will also buy bananas\n",
            " - Confidence: 0.513\n",
            " - Support: 20\n",
            "\n"
          ],
          "name": "stdout"
        }
      ]
    },
    {
      "cell_type": "code",
      "metadata": {
        "id": "meKmXEtHiL_O",
        "colab_type": "code",
        "colab": {
          "base_uri": "https://localhost:8080/",
          "height": 122
        },
        "outputId": "c2c7bdab-515f-40dd-d694-fa276a117af1"
      },
      "source": [
        "pip install sklearn"
      ],
      "execution_count": 93,
      "outputs": [
        {
          "output_type": "stream",
          "text": [
            "Requirement already satisfied: sklearn in /usr/local/lib/python3.6/dist-packages (0.0)\n",
            "Requirement already satisfied: scikit-learn in /usr/local/lib/python3.6/dist-packages (from sklearn) (0.22.1)\n",
            "Requirement already satisfied: scipy>=0.17.0 in /usr/local/lib/python3.6/dist-packages (from scikit-learn->sklearn) (1.4.1)\n",
            "Requirement already satisfied: numpy>=1.11.0 in /usr/local/lib/python3.6/dist-packages (from scikit-learn->sklearn) (1.17.5)\n",
            "Requirement already satisfied: joblib>=0.11 in /usr/local/lib/python3.6/dist-packages (from scikit-learn->sklearn) (0.14.1)\n"
          ],
          "name": "stdout"
        }
      ]
    },
    {
      "cell_type": "code",
      "metadata": {
        "id": "mHGseL9FXW6M",
        "colab_type": "code",
        "colab": {
          "base_uri": "https://localhost:8080/",
          "height": 51
        },
        "outputId": "c186175a-10d5-42e4-c592-c5de7cccd25a"
      },
      "source": [
        "import numpy as np\n",
        "# Load our dataset\n",
        "#from sklearn.datasets import load_iris\n",
        "#X, y = np.loadrom sklearn.dattxt(\"X_classification.txt\"), np.loadtxt(\"y_classification.txt\")\n",
        "#dataset = load_iris()\n",
        "#X = dataset.data\n",
        "#y = dataset.target\n",
        "#print(dataset.DESCR)\n",
        "n_samples, n_features = X.shape\n",
        "\n",
        "attribute_means = X.mean(axis=0)\n",
        "assert attribute_means.shape == (n_features,)\n",
        "X_d = np.array(X >= attribute_means, dtype='int')\n",
        "\n",
        "from sklearn.model_selection import train_test_split\n",
        "\n",
        "# Set the random state to the same number to get the same results as in the book\n",
        "random_state = 14\n",
        "\n",
        "X_train, X_test, y_train, y_test = train_test_split(X_d, y, random_state=random_state)\n",
        "print(\"There are {} training samples\".format(y_train.shape))\n",
        "print(\"There are {} testing samples\".format(y_test.shape))\n",
        "\n"
      ],
      "execution_count": 68,
      "outputs": [
        {
          "output_type": "stream",
          "text": [
            "There are (112,) training samples\n",
            "There are (38,) testing samples\n"
          ],
          "name": "stdout"
        }
      ]
    },
    {
      "cell_type": "code",
      "metadata": {
        "id": "kDe2K1_MhXCQ",
        "colab_type": "code",
        "colab": {}
      },
      "source": [
        "def train(X, y_true, feature):\n",
        "    \"\"\"Computes the predictors and error for a given feature using the OneR algorithm\n",
        "    \n",
        "    Parameters\n",
        "    ----------\n",
        "    X: array [n_samples, n_features]\n",
        "        The two dimensional array that holds the dataset. Each row is a sample, each column\n",
        "        is a feature.\n",
        "    \n",
        "    y_true: array [n_samples,]\n",
        "        The one dimensional array that holds the class values. Corresponds to X, such that\n",
        "        y_true[i] is the class value for sample X[i].\n",
        "    \n",
        "    feature: int\n",
        "        An integer corresponding to the index of the variable we wish to test.\n",
        "        0 <= variable < n_features\n",
        "        \n",
        "    Returns\n",
        "    -------\n",
        "    predictors: dictionary of tuples: (value, prediction)\n",
        "        For each item in the array, if the variable has a given value, make the given prediction.\n",
        "    \n",
        "    error: float\n",
        "        The ratio of training data that this rule incorrectly predicts.\n",
        "    \"\"\"\n",
        "    # Check that variable is a valid number\n",
        "    n_samples, n_features = X.shape\n",
        "    assert 0 <= feature < n_features\n",
        "    # Get all of the unique values that this variable has\n",
        "    values = set(X[:,feature])\n",
        "    # Stores the predictors array that is returned\n",
        "    predictors = dict()\n",
        "    errors = []\n",
        "    for current_value in values:\n",
        "        most_frequent_class, error = train_feature_value(X, y_true, feature, current_value)\n",
        "        predictors[current_value] = most_frequent_class\n",
        "        errors.append(error)\n",
        "    # Compute the total error of using this feature to classify on\n",
        "    total_error = sum(errors)\n",
        "    return predictors, total_error"
      ],
      "execution_count": 0,
      "outputs": []
    },
    {
      "cell_type": "code",
      "metadata": {
        "id": "we0JeBqvhhV0",
        "colab_type": "code",
        "colab": {}
      },
      "source": [
        "def train_feature_value(X, y_true, feature, value):\n",
        "    # Create a simple dictionary to count how frequency they give certain predictions\n",
        "    class_counts = defaultdict(int)\n",
        "    # Iterate through each sample and count the frequency of each class/value pair\n",
        "    for sample, y in zip(X, y_true):\n",
        "        if sample[feature] == value:\n",
        "            class_counts[y] += 1\n",
        "    # Now get the best one by sorting (highest first) and choosing the first item\n",
        "    sorted_class_counts = sorted(class_counts.items(), key=itemgetter(1), reverse=True)\n",
        "    most_frequent_class = sorted_class_counts[0][0]\n",
        "    # The error is the number of samples that do not classify as the most frequent class\n",
        "    # *and* have the feature value.\n",
        "    n_samples = X.shape[1]\n",
        "    error = sum([class_count for class_value, class_count in class_counts.items()\n",
        "                 if class_value != most_frequent_class])\n",
        "    return most_frequent_class, error\n"
      ],
      "execution_count": 0,
      "outputs": []
    },
    {
      "cell_type": "code",
      "metadata": {
        "id": "pEdkCFnzhs_8",
        "colab_type": "code",
        "colab": {
          "base_uri": "https://localhost:8080/",
          "height": 34
        },
        "outputId": "84edf05b-40c3-4968-a3dd-7051ac847308"
      },
      "source": [
        "# Compute all of the predictors\n",
        "all_predictors = {variable: train(X_train, y_train, variable) for variable in range(X_train.shape[1])}\n",
        "errors = {variable: error for variable, (mapping, error) in all_predictors.items()}\n",
        "# Now choose the best and save that as \"model\"\n",
        "# Sort by error\n",
        "best_variable, best_error = sorted(errors.items(), key=itemgetter(1))[0]\n",
        "print(\"The best model is based on variable {0} and has error {1:.2f}\".format(best_variable, best_error))"
      ],
      "execution_count": 71,
      "outputs": [
        {
          "output_type": "stream",
          "text": [
            "The best model is based on variable 2 and has error 37.00\n"
          ],
          "name": "stdout"
        }
      ]
    },
    {
      "cell_type": "code",
      "metadata": {
        "id": "F2QMOqLyh2B5",
        "colab_type": "code",
        "colab": {
          "base_uri": "https://localhost:8080/",
          "height": 34
        },
        "outputId": "126d99ed-223e-4bd2-841c-e7899553b28a"
      },
      "source": [
        "model = {'variable': best_variable,\n",
        "         'predictor': all_predictors[best_variable][0]}\n",
        "print(model)"
      ],
      "execution_count": 72,
      "outputs": [
        {
          "output_type": "stream",
          "text": [
            "{'variable': 2, 'predictor': {0: 0, 1: 2}}\n"
          ],
          "name": "stdout"
        }
      ]
    },
    {
      "cell_type": "code",
      "metadata": {
        "id": "EJSIfiBmh6IE",
        "colab_type": "code",
        "colab": {
          "base_uri": "https://localhost:8080/",
          "height": 51
        },
        "outputId": "6f88f089-c0c0-4525-8c7b-54b889b81d1a"
      },
      "source": [
        "def predict(X_test, model):\n",
        "    variable = model['variable']\n",
        "    predictor = model['predictor']\n",
        "    y_predicted = np.array([predictor[int(sample[variable])] for sample in X_test])\n",
        "    return y_predicted\n",
        "\n",
        "y_predicted = predict(X_test, model)\n",
        "print(y_predicted)\n"
      ],
      "execution_count": 73,
      "outputs": [
        {
          "output_type": "stream",
          "text": [
            "[0 0 0 2 2 2 0 2 0 2 2 0 2 2 0 2 0 2 2 2 0 0 0 2 0 2 0 2 2 0 0 0 2 0 2 0 2\n",
            " 2]\n"
          ],
          "name": "stdout"
        }
      ]
    },
    {
      "cell_type": "code",
      "metadata": {
        "id": "uplYy-qBh_EN",
        "colab_type": "code",
        "colab": {
          "base_uri": "https://localhost:8080/",
          "height": 258
        },
        "outputId": "58e1e165-501e-4c1d-92de-de05ced6bc43"
      },
      "source": [
        "accuracy = np.mean(y_predicted == y_test) * 100\n",
        "print(\"The test accuracy is {:.1f}%\".format(accuracy))\n",
        "\n",
        "\n",
        "from sklearn.metrics import classification_report\n",
        "\n",
        "print(classification_report(y_test, y_predicted))"
      ],
      "execution_count": 74,
      "outputs": [
        {
          "output_type": "stream",
          "text": [
            "The test accuracy is 65.8%\n",
            "              precision    recall  f1-score   support\n",
            "\n",
            "           0       0.94      1.00      0.97        17\n",
            "           1       0.00      0.00      0.00        13\n",
            "           2       0.40      1.00      0.57         8\n",
            "\n",
            "    accuracy                           0.66        38\n",
            "   macro avg       0.45      0.67      0.51        38\n",
            "weighted avg       0.51      0.66      0.55        38\n",
            "\n"
          ],
          "name": "stdout"
        },
        {
          "output_type": "stream",
          "text": [
            "/usr/local/lib/python3.6/dist-packages/sklearn/metrics/_classification.py:1272: UndefinedMetricWarning: Precision and F-score are ill-defined and being set to 0.0 in labels with no predicted samples. Use `zero_division` parameter to control this behavior.\n",
            "  _warn_prf(average, modifier, msg_start, len(result))\n"
          ],
          "name": "stderr"
        }
      ]
    },
    {
      "cell_type": "markdown",
      "metadata": {
        "id": "pUt3NK6EPZSA",
        "colab_type": "text"
      },
      "source": [
        "# **little analysis project**\n",
        "\n"
      ]
    },
    {
      "cell_type": "code",
      "metadata": {
        "id": "zrgEa9aoPwQw",
        "colab_type": "code",
        "colab": {}
      },
      "source": [
        "import numpy as np\n",
        "import pandas as pd\n",
        "\n",
        "dataset_filename = \"data_url\"\n",
        "X = np.loadtxt(dataset_filename)\n",
        "\n",
        "#X = pd.read_csv(dataset_filename)\n",
        "\n",
        "n_samples, n_features = X.shape\n",
        "\n",
        "features = str(input(\"please input the the name of items: \"))\n",
        "\n",
        "#features = X.head()\n",
        "\n",
        "\n",
        "valid_rules = defaultdict(int)\n",
        "invalid_rules = defaultdict(int)\n",
        "num_occurences = defaultdict(int)\n",
        "\n",
        "for sample in X:\n",
        "    for premise in range(n_features):\n",
        "        if sample[premise] == 0: continue\n",
        "        \n",
        "        num_occurences[premise] += 1\n",
        "        for conclusion in range(n_features):\n",
        "            if premise == conclusion:  \n",
        "                continue\n",
        "            if sample[conclusion] == 1:\n",
        "               \n",
        "                valid_rules[(premise, conclusion)] += 1\n",
        "            else:\n",
        "               \n",
        "                invalid_rules[(premise, conclusion)] += 1\n",
        "support = valid_rules\n",
        "confidence = defaultdict(float)\n",
        "for premise, conclusion in valid_rules.keys():\n",
        "    confidence[(premise, conclusion)] = valid_rules[(premise, conclusion)] / num_occurences[premise]\n",
        "\n",
        "\n",
        "def print_rule(premise, conclusion, support, confidence, features):\n",
        "    premise_name = features[premise]\n",
        "    conclusion_name = features[conclusion]\n",
        "    print(\"Rule: If a person buys {0} they will also buy {1}\".format(premise_name, conclusion_name))\n",
        "    print(\" - Confidence: {0:.3f}\".format(confidence[(premise, conclusion)]))\n",
        "    print(\" - Support: {0}\".format(support[(premise, conclusion)]))\n",
        "    print(\"\")\n",
        "\n",
        "print(\"search for the perticular rule\")\n",
        "print(\"\")\n",
        "premise = input(\"please input the premise: \")\n",
        "conclusion = input(\"please input the conclusion: \")\n",
        "print_rule(premise, conclusion, support, confidence, features)\n",
        "\n",
        "print(\"the list of shopping behaviors\")\n",
        "print(\"\")\n",
        "from pprint import pprint\n",
        "pprint(list(support.items()))\n",
        "print(\"\")\n",
        "\n",
        "\n",
        "from operator import itemgetter\n",
        "sorted_support = sorted(support.items(), key=itemgetter(1), reverse=True)\n",
        "\n",
        "print(\"This is a list of rules rank by supports\")\n",
        "print(\"\")\n",
        "rules_num = input(\"how many rules you want to see? \")\n",
        "\n",
        "for index in range(int(rules_num)):\n",
        "    print(\"Rule #{0}\".format(index + 1))\n",
        "    (premise, conclusion) = sorted_support[index][0]\n",
        "    print_rule(premise, conclusion, support, confidence, features)\n",
        "\n",
        "sorted_confidence = sorted(confidence.items(), key=itemgetter(1), reverse=True)\n",
        "\n",
        "print(\"This is a list of rules rank by confidence\")\n",
        "print(\"\")\n",
        "rules_num = input(\"how many rules you want to see? \")\n",
        "print(\"\")\n",
        "for index in range((int(rules_num)):\n",
        "    print(\"Rule #{0}\".format(index + 1))\n",
        "    (premise, conclusion) = sorted_confidence[index][0]\n",
        "    print_rule(premise, conclusion, support, confidence, features)\n",
        "\n",
        "print(\"\")\n",
        "from matplotlib import pyplot as plt \n",
        "print(\"This is a graph\")\n",
        "rule_num = int(input(\"which rule you want to see? \"))\n",
        "print(\"\")\n",
        "plt.plot([confidence[rule[rule_num]] for rule in sorted_confidence)\n"
      ],
      "execution_count": 0,
      "outputs": []
    },
    {
      "cell_type": "markdown",
      "metadata": {
        "id": "4be8lrWWeKf1",
        "colab_type": "text"
      },
      "source": [
        "# **little predict project**"
      ]
    },
    {
      "cell_type": "code",
      "metadata": {
        "id": "mQHpeEBkeSQo",
        "colab_type": "code",
        "colab": {
          "base_uri": "https://localhost:8080/",
          "height": 130
        },
        "outputId": "9a1ff04e-5313-4e34-8a36-ac3589a41b78"
      },
      "source": [
        "import numpy as np\n",
        "\n",
        "n_samples, n_features = X.shape\n",
        "\n",
        "attribute_means = X.mean(axis=0)\n",
        "assert attribute_means.shape == (n_features,)\n",
        "X_d = np.array(X >= attribute_means, dtype='int')\n",
        "\n",
        "from sklearn.model_selection import train_test_split\n",
        "\n",
        "rs = int(input(\"please input the random state\"))\n",
        "random_state = rs\n",
        "\n",
        "X_train, X_test, y_train, y_test = train_test_split(X_d, y, random_state=random_state)\n",
        "print(\"There are {} training samples\".format(y_train.shape))\n",
        "print(\"There are {} testing samples\".format(y_test.shape)\n",
        "\n",
        "\n",
        "#from collections import defaultdict\n",
        "#from operator import itemgetter\n",
        "\n",
        "\n",
        "def train(X, y_true, feature):\n",
        " \n",
        "    n_samples, n_features = X.shape\n",
        "    assert 0 <= feature < n_features\n",
        "    \n",
        "    values = set(X[:,feature])\n",
        "\n",
        "    predictors = dict()\n",
        "    errors = []\n",
        "    for current_value in values:\n",
        "        most_frequent_class, error = train_feature_value(X, y_true, feature, current_value)\n",
        "        predictors[current_value] = most_frequent_class\n",
        "        errors.append(error)\n",
        "\n",
        "  total_error = sum(errors)\n",
        "  return predictors, total_error\n",
        "\n",
        "\n",
        "def train_feature_value(X, y_true, feature, value):\n",
        "  \n",
        "    class_counts = defaultdict(int)\n",
        "  \n",
        "    for sample, y in zip(X, y_true):\n",
        "        if sample[feature] == value:\n",
        "            class_counts[y] += 1\n",
        "  \n",
        "    sorted_class_counts = sorted(class_counts.items(), key=itemgetter(1), reverse=True)\n",
        "    most_frequent_class = sorted_class_counts[0][0]\n",
        "  \n",
        "  \n",
        "    n_samples = X.shape[1]\n",
        "    error = sum([class_count for class_value, class_count in class_counts.items()\n",
        "                 if class_value != most_frequent_class])\n",
        "    return most_frequent_class, error\n",
        "\n",
        "\n",
        "all_predictors = {variable: train(X_train, y_train, variable) for variable in range(X_train.shape[1])}\n",
        "errors = {variable: error for variable, (mapping, error) in all_predictors.items()}\n",
        "\n",
        "best_variable, best_error = sorted(errors.items(), key=itemgetter(1))[0]\n",
        "print(\"The best model is based on variable {0} and has error {1:.2f}\".format(best_variable, best_error))\n",
        "\n",
        "model = {'variable': best_variable,\n",
        "         'predictor': all_predictors[best_variable][0]}\n",
        "print(model)\n",
        "\n",
        "def predict(X_test, model):\n",
        "    variable = model['variable']\n",
        "    predictor = model['predictor']\n",
        "    y_predicted = np.array([predictor[int(sample[variable])] for sample in X_test])\n",
        "    return y_predicted\n",
        "\n",
        "y_predicted = predict(X_test, model)\n",
        "print(y_predicted)\n",
        "\n",
        "\n",
        "# Compute the accuracy by taking the mean of the amounts that y_predicted is equal to y_test\n",
        "accuracy = np.mean(y_predicted == y_test) * 100\n",
        "print(\"The test accuracy is {:.1f}%\".format(accuracy))\n",
        "\n",
        "from sklearn.metrics import classification_report\n",
        "\n",
        "print(classification_report(y_test, y_predicted))"
      ],
      "execution_count": 55,
      "outputs": [
        {
          "output_type": "error",
          "ename": "SyntaxError",
          "evalue": "ignored",
          "traceback": [
            "\u001b[0;36m  File \u001b[0;32m\"<ipython-input-55-cab4091da94f>\"\u001b[0;36m, line \u001b[0;32m23\u001b[0m\n\u001b[0;31m    def train(X, y_true, feature):\u001b[0m\n\u001b[0m      ^\u001b[0m\n\u001b[0;31mSyntaxError\u001b[0m\u001b[0;31m:\u001b[0m invalid syntax\n"
          ]
        }
      ]
    }
  ]
}
